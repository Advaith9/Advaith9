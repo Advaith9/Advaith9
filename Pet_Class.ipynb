{
  "nbformat": 4,
  "nbformat_minor": 0,
  "metadata": {
    "colab": {
      "provenance": [],
      "authorship_tag": "ABX9TyOFzUaGZ0De/6W6cdat4UhE",
      "include_colab_link": true
    },
    "kernelspec": {
      "name": "python3",
      "display_name": "Python 3"
    },
    "language_info": {
      "name": "python"
    }
  },
  "cells": [
    {
      "cell_type": "markdown",
      "metadata": {
        "id": "view-in-github",
        "colab_type": "text"
      },
      "source": [
        "<a href=\"https://colab.research.google.com/github/Advaith9/Advaith9/blob/Python102/Pet_Class.ipynb\" target=\"_parent\"><img src=\"https://colab.research.google.com/assets/colab-badge.svg\" alt=\"Open In Colab\"/></a>"
      ]
    },
    {
      "cell_type": "markdown",
      "source": [
        "Write a class named Pet, which should have the following data attributes:\n",
        "• _ _name (for the name of a pet)\n",
        "• _ _animal_type (for the type of animal that a pet is. Example values are ‘Dog’, ‘Cat’,\n",
        "and ‘Bird’)\n",
        "• _ _age (for the pet’s age)\n",
        "The Pet class should have an _ _init_ _ method that creates these attributes. It should also have the following methods:\n",
        "• set_name\n",
        "This method assigns a value to the _ _name field.\n",
        "• set_animal_type\n",
        "This method assigns a value to the _ _animal_type field.\n",
        "• set_age\n",
        "This method assigns a value to the _ _age field.\n",
        "• get_name\n",
        "This method returns the value of the _ _ name field.\n",
        "• get_animal_type\n",
        "This method returns the value of the _ _animal_type field.\n",
        "• get_age\n",
        "This method returns the value of the _ _age field.\n",
        "Once you have written the class, write a program that creates an object of the class and prompts the user to enter the name, type, and age of his or her pet. This data should be\n",
        "                \n",
        "Programming Exercises 579 stored as the object’s attributes. Use the object’s accessor methods to retrieve the pet’s\n",
        "name, type, and age and display this data on the screen."
      ],
      "metadata": {
        "id": "JBN4s2YHDTLX"
      }
    },
    {
      "cell_type": "code",
      "source": [
        "class Pet:\n",
        "    def __init__(self, pet_name, animal_type, age):\n",
        "        self.__pet_name = pet_name\n",
        "        self.__animal_type = animal_type\n",
        "        self.__age = age\n",
        "\n",
        "    def set_name(self, pet_name):\n",
        "        self.__pet_name = pet_name\n",
        "\n",
        "    def set_animal_type(self, animal_type):\n",
        "        self.__animal_type = animal_type\n",
        "\n",
        "    def set_age(self, age):\n",
        "        self.__age = age\n",
        "\n",
        "    def get_name(self):\n",
        "        return self.__pet_name\n",
        "\n",
        "    def get_animal_type(self):\n",
        "        return self.__animal_type\n",
        "\n",
        "    def get_age(self):\n",
        "        return self.__age\n",
        "\n",
        "    def __repr__(self):\n",
        "        return f\"PetName: {self.__pet_name}, AnimalType: {self.__animal_type}, Age: {self.__age}\"\n",
        "\n",
        "    def __str__(self):\n",
        "        return f\"PetName: {self.__pet_name}, AnimalType: {self.__animal_type}, Age: {self.__age}\"\n",
        "\n",
        "\n",
        "# pet_1 = Pet(\"tommy\", \"dog\", \"5\")\n",
        "# print(pet_1)\n",
        "\n",
        "\n",
        "def main():\n",
        "    # Get user input\n",
        "    pet_name = input(\"Enter your pet's name: \")\n",
        "    animal_type = input(\"Enter your pet's type: \")\n",
        "    age = input(\"Enter your pet's age: \")\n",
        "\n",
        "    # Create a Pet object\n",
        "    user_pet = Pet(pet_name, animal_type, age)\n",
        "\n",
        "    # Display the pet's information using accessor methods\n",
        "    print(\"\\nPet Information:\")\n",
        "    print(\"Name:\", user_pet.get_name())\n",
        "    print(\"Type:\", user_pet.get_animal_type())\n",
        "    print(\"Age:\", user_pet.get_age())\n",
        "\n",
        "if __name__ == \"__main__\":\n",
        "    main()\n",
        ""
      ],
      "metadata": {
        "colab": {
          "base_uri": "https://localhost:8080/"
        },
        "id": "LYVEIa4NDZ2P",
        "outputId": "529549cc-3fb7-41af-fffa-570d4a596dbc"
      },
      "execution_count": 17,
      "outputs": [
        {
          "output_type": "stream",
          "name": "stdout",
          "text": [
            "Enter your pet's name: tiger\n",
            "Enter your pet's type: dog\n",
            "Enter your pet's age: 7\n",
            "\n",
            "Pet Information:\n",
            "Name: tiger\n",
            "Type: dog\n",
            "Age: 7\n"
          ]
        }
      ]
    }
  ]
}