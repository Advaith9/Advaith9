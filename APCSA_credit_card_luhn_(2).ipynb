{
  "nbformat": 4,
  "nbformat_minor": 0,
  "metadata": {
    "colab": {
      "provenance": [],
      "include_colab_link": true
    },
    "kernelspec": {
      "name": "python3",
      "display_name": "Python 3"
    },
    "language_info": {
      "name": "python"
    }
  },
  "cells": [
    {
      "cell_type": "markdown",
      "metadata": {
        "id": "view-in-github",
        "colab_type": "text"
      },
      "source": [
        "<a href=\"https://colab.research.google.com/github/Advaith9/Advaith9/blob/main/APCSA_credit_card_luhn_(2).ipynb\" target=\"_parent\"><img src=\"https://colab.research.google.com/assets/colab-badge.svg\" alt=\"Open In Colab\"/></a>"
      ]
    },
    {
      "cell_type": "markdown",
      "source": [
        "## Credit Card Validation (Luhn's Algorithm)"
      ],
      "metadata": {
        "id": "t73495zmQpUT"
      }
    },
    {
      "cell_type": "markdown",
      "source": [
        "### Luhn's Algorithm\n",
        "Write a program on repl.it that checks if a given number is a valid Visa OR MasterCard credit card number.  Your program should implement 4 functions:\n",
        "\n",
        "1) is_credit which accepts a string of digits and returns whether the digits passes Luhn's algorithm. USE ONLY ONE FOR LOOP to traverse through the digits.\n",
        "\n",
        "2) is_visa which accepts a string of digits and returns whether it passes the additional Visa requirements. \n",
        "\n",
        "3) is_mastercard which accepts a string of digits and returns whether it passes the additional MasterCard requirements. \n",
        "\n",
        "4) main() function. See the next slide for additional requirements.\n"
      ],
      "metadata": {
        "id": "hzw7ZwpSQ7Ck"
      }
    },
    {
      "cell_type": "markdown",
      "source": [
        "### Test Cases\n",
        "To test if is_credit is correct, try the following inputs:\n",
        "\n",
        "is_credit(\"6011000000000004\") should return True\n",
        "is_credit(\"79927398713\") should return True\n",
        "is_credit(\"30000000000004\") should return True\n",
        "is_credit(\"6911600873502604\") should return False\n",
        "is_credit(\"1234567890\") should return False\n"
      ],
      "metadata": {
        "id": "4eArmTzwQpls"
      }
    },
    {
      "cell_type": "code",
      "source": [
        "def is_credit(card_number):\n",
        "\n",
        "  # continue the function only if the card number is numeric\n",
        "  numeric = card_number.isnumeric()\n",
        "  if numeric == True:\n",
        "\n",
        "    iteration_num = 0\n",
        "    number_list = []\n",
        "\n",
        "    #loop through the card number from right to left\n",
        "    for n in range(len(card_number) - 1, -1, -1):\n",
        "      # get the current digit and convert it to int\n",
        "      current_digit = int(card_number[n])\n",
        "\n",
        "      # keep track of the iteration number\n",
        "      iteration_num += 1\n",
        "\n",
        "      #run this only for EVEN iterations (every other iteration)\n",
        "      if iteration_num % 2 == 0:\n",
        "        # double the digit\n",
        "        number = current_digit * 2\n",
        "\n",
        "        # if the number is > 10, do the adjustement (add the two digits)\n",
        "        if number >= 10:\n",
        "          #subtracting 9 from the number is equivalent to adding the two digits\n",
        "          # (eg:  12-9 = 3;  18-9 = 9;  15-9  = 6, etc.)\n",
        "          number = number - 9\n",
        "  \n",
        "        # add the number\n",
        "        number_list.append(number)\n",
        "      \n",
        "      #run this the other times - for ODD iterations\n",
        "      else:\n",
        "        number_list.append(current_digit)\n",
        "    \n",
        "    # caluculate the total\n",
        "    total = sum(number_list)\n",
        "  \n",
        "    # return the result\n",
        "    return (total % 10 == 0)\n",
        "\n",
        "  else:\n",
        "    print(\"The card number must be numeric. Please try again.\")\n",
        "\n",
        "\n",
        "\n",
        "'''In addition to Luhn's check, \n",
        "different credit cards have additional constraints. \n",
        "\n",
        "A Visa card for example must have either 16 or 13 digits\n",
        "AND must start with the digit 4. \n",
        "'''\n",
        "def is_visa(card_number):\n",
        "  numeric = card_number.isnumeric()\n",
        "  if numeric == True:\n",
        "    if len(card_number) == 13 or len(card_number) == 16:\n",
        "      if int(card_number[0]) == 4:\n",
        "        result = is_credit(card_number)\n",
        "        return result \n",
        "   \n",
        "    #if the visa is invalid, return False\n",
        "    return False\n",
        "  else:\n",
        "      print(\"The card number must be numeric. Please try again.\")\n",
        "\n",
        "\n",
        "'''\n",
        "A MasterCard must have exactly 16 digits AND the first digit must be a 5\n",
        "AND the second digit must be between 1 and 5 inclusive. \n",
        "'''\n",
        "def is_mastercard(card_number):\n",
        "  numeric = card_number.isnumeric()\n",
        "  if numeric == True:\n",
        "    if len(card_number) == 16:\n",
        "      if int(card_number[0]) == 5:\n",
        "        if int(card_number[1]) >= 1 and int(card_number[1]) <= 5:\n",
        "          result = is_credit(card_number)\n",
        "          return result\n",
        "  \n",
        "    #if the mastercard is invalid, return False\n",
        "    return False\n",
        "  else:\n",
        "      print(\"The card number must be numeric. Please try again.\")\n",
        "\n",
        "\n"
      ],
      "metadata": {
        "id": "0PmYSfUvs-GE"
      },
      "execution_count": null,
      "outputs": []
    },
    {
      "cell_type": "code",
      "source": [
        "\n",
        "def main():\n",
        "  print('\\n==>1. Basic test cases (positive)')\n",
        "  print(\"is_credit('6011000000000004')\", is_credit(\"6011000000000004\"))\n",
        "  print(\"is_credit('79927398713')\", is_credit(\"79927398713\"))\n",
        "  print(\"is_credit('30000000000004')\" ,is_credit(\"30000000000004\"))\n",
        "  print(\"is_credit('6911600873502604')\"  ,is_credit(\"6911600873502604\"))\n",
        "  print(\"is_credit('1234567890')\",  is_credit(\"1234567890\"))\n",
        "\n",
        "  print('\\n==>2. Negative Test Case')\n",
        "  print(\"is_credit('abcdefg')\"), is_credit(\"abcdefg\")\n",
        "\n",
        "  print('\\n==>3. Checking whether a card is valid visa card or not')\n",
        "  print(\"is_visa('6011000000000004')\",is_visa(\"6011000000000004\"))\n",
        "  print(\"is_visa('79927398713')\", is_visa(\"79927398713\"))\n",
        "  print(\"is_visa('4012888888881881')\" ,is_visa(\"4012888888881881\"))\n",
        "  print(\"is_visa('4111111111111111')\",  is_visa(\"4111111111111111\"))\n",
        "\n",
        "  print('\\n==>4. Checking whether a card is valid Master card or not')\n",
        "  print(\"is_mastercard('5555555555554444')\",is_mastercard(\"5555555555554444\"))\n",
        "  print(\"is_mastercard('79927398713')\", is_mastercard(\"79927398713\"))\n",
        "  print(\"is_mastercard('5105105105105100')\" ,is_mastercard(\"5105105105105100\"))\n",
        "  print(\"is_mastercard('6911600873502604')\"  ,is_mastercard(\"6911600873502604\"))\n",
        "\n",
        "# call the main function\n",
        "main()"
      ],
      "metadata": {
        "colab": {
          "base_uri": "https://localhost:8080/"
        },
        "id": "uMNMdZE2sx-Y",
        "outputId": "79eae058-26be-48dd-e79e-a37ca9393d3f"
      },
      "execution_count": null,
      "outputs": [
        {
          "output_type": "stream",
          "name": "stdout",
          "text": [
            "\n",
            "==>1. Basic test cases (positive)\n",
            "is_credit('6011000000000004') True\n",
            "is_credit('79927398713') True\n",
            "is_credit('30000000000004') True\n",
            "is_credit('6911600873502604') False\n",
            "is_credit('1234567890') False\n",
            "\n",
            "==>2. Negative Test Case\n",
            "is_credit('abcdefg')\n",
            "The card number must be numeric. Please try again.\n",
            "\n",
            "==>3. Checking whether a card is valid visa card or not\n",
            "is_visa('6011000000000004') False\n",
            "is_visa('79927398713') False\n",
            "is_visa('4012888888881881') True\n",
            "is_visa('4111111111111111') True\n",
            "\n",
            "==>4. Checking whether a card is valid Master card or not\n",
            "is_mastercard('5555555555554444') True\n",
            "is_mastercard('79927398713') False\n",
            "is_mastercard('5105105105105100') True\n",
            "is_mastercard('6911600873502604') False\n"
          ]
        }
      ]
    },
    {
      "cell_type": "markdown",
      "source": [],
      "metadata": {
        "id": "9G3ugrK0naGz"
      }
    }
  ]
}