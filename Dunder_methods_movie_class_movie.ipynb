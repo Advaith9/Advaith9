{
  "nbformat": 4,
  "nbformat_minor": 0,
  "metadata": {
    "colab": {
      "provenance": [],
      "toc_visible": true,
      "include_colab_link": true
    },
    "kernelspec": {
      "name": "python3",
      "display_name": "Python 3"
    },
    "language_info": {
      "name": "python"
    }
  },
  "cells": [
    {
      "cell_type": "markdown",
      "metadata": {
        "id": "view-in-github",
        "colab_type": "text"
      },
      "source": [
        "<a href=\"https://colab.research.google.com/github/Advaith9/Advaith9/blob/Python102/Dunder_methods_movie_class_movie.ipynb\" target=\"_parent\"><img src=\"https://colab.research.google.com/assets/colab-badge.svg\" alt=\"Open In Colab\"/></a>"
      ]
    },
    {
      "cell_type": "markdown",
      "source": [
        "#Chapter 10. Objects and Classes\n",
        "## Siva.Jasthi@metrostate.edu\n",
        "### Python 102"
      ],
      "metadata": {
        "id": "xg63C9rrYT9f"
      }
    },
    {
      "cell_type": "markdown",
      "source": [
        "# Introduction to Objects and Classes"
      ],
      "metadata": {
        "id": "x56RTNIgfbC8"
      }
    },
    {
      "cell_type": "markdown",
      "source": [
        "# Coding Conventions\n",
        "1. Class names start with upper case\n",
        "2. Every class must have __str__ and __init__ methods\n",
        "These are called magic methods (Double Underscore methods) (DUNDER methods)\n",
        "Because these are called by PYTHON behind the scenes.\n"
      ],
      "metadata": {
        "id": "cDnSVywVjmR4"
      }
    },
    {
      "cell_type": "markdown",
      "source": [
        "# How does python think during print()\n",
        "\n",
        "1. Does the object have __str__( ) method?\n",
        "Let me use it\n",
        "\n",
        "2. If not, does the object have __repr__( ) method?\n",
        "Let me use it\n",
        "\n",
        "3. If not, does the parent of the object have __str__() method?\n",
        "Let me use it\n",
        "\n",
        "4. If not, does the parent of the object have __repr__() method?\n",
        "Let me use it"
      ],
      "metadata": {
        "id": "c0HSapHIr4tI"
      }
    },
    {
      "cell_type": "code",
      "source": [
        "\n",
        "#@title Defining a class (Version 1 - Do not use)\n",
        "\n",
        "# # Student (name, age, email)\n",
        "\n",
        "# # Created a class\n",
        "\n",
        "# class Student:\n",
        "\n",
        "#   def __init__(self, a_name, a_age, a_email):\n",
        "#     self.name = a_name\n",
        "#     self.age = a_age\n",
        "#     self.email = a_email\n",
        "\n",
        "#   ''' this is for programmers; or other python code snippets '''\n",
        "#   def __rep__(self):\n",
        "#     #Student (name: ___, age: __, email: ___)\n",
        "#     temp_str = f'Student (name:{self.name}, age:{self.age}, email:self.email)'\n",
        "#     return temp_str\n",
        "\n",
        "#   ''' this is for the end-users, user-friendly output '''\n",
        "#   def __str__(self):\n",
        "#     temp_str = ('\\n\\nHere are the student details' +\n",
        "#                 '\\nName: ' + self.name +\n",
        "#                '\\nAge: ' + str(self.age) +\n",
        "#                '\\nEmail: ' + self.email)\n",
        "#     return temp_str\n",
        "\n",
        "\n",
        "# # Create some instance\n",
        "\n",
        "# # when you create an instance, \"self here becomes student_1\"\n",
        "# student_1 = Student('Sumedh Ghatti', 15, 'sumedh.ghatti@gmail.com')\n",
        "\n",
        "# # How do I know the name of the student_1?\n",
        "# #print(\"Name: \", student_1.name)\n",
        "\n",
        "# # How do I know the email of the student_1?\n",
        "# #print(\"Email: \", student_1.email)\n",
        "# # How do I know the student_1 instance is created?\n",
        "# print(student_1)\n",
        "\n",
        "# # How do I make the output / dispaly useful?\n",
        "# student_2 = Student('Sai Chennupati', 17, 'Sai.chennupati@yahoo.com')\n",
        "# # print(\"Name: \", student_2.name)\n",
        "# # print(\"Email: \", student_2.email)\n",
        "\n",
        "# # Tell me about yourself; Or print all the vairables in user friendly format\n",
        "# print(student_2)\n",
        "\n",
        "\n",
        "# # create third instance\n",
        "# xyz = Student('Anika Khanna', 13, 'anika.khanna@gmail.com')\n",
        "# print(xyz)\n",
        "\n"
      ],
      "metadata": {
        "id": "Eu2vEw--aldQ",
        "colab": {
          "base_uri": "https://localhost:8080/"
        },
        "outputId": "e70a3bc6-63d9-4761-bdaa-2c736889f6b4"
      },
      "execution_count": null,
      "outputs": [
        {
          "output_type": "stream",
          "name": "stdout",
          "text": [
            "\n",
            "\n",
            "Here are the student details\n",
            "Name: Sumedh Ghatti\n",
            "Age: 15\n",
            "Email: sumedh.ghatti@gmail.com\n",
            "\n",
            "\n",
            "Here are the student details\n",
            "Name: Sai Chennupati\n",
            "Age: 17\n",
            "Email: Sai.chennupati@yahoo.com\n",
            "\n",
            "\n",
            "Here are the student details\n",
            "Name: Anika Khanna\n",
            "Age: 13\n",
            "Email: anika.khanna@gmail.com\n"
          ]
        }
      ]
    },
    {
      "cell_type": "code",
      "source": [
        "\n",
        "#@title Defining a class (Version 2)\n",
        "\n",
        "# Student (name, age, email)\n",
        "\n",
        "# Created a class\n",
        "\n",
        "class Movie:\n",
        "\n",
        "  def __init__(self, a_movietitle, a_director, a_yearofrelease):\n",
        "    self.movietitle = a_movietitle\n",
        "    self.director = a_director\n",
        "    self.yearofrelease = a_yearofrelease\n",
        "\n",
        "\n",
        "  ''' this is for programmers; or other python code snippets '''\n",
        "  def __repr__(self):\n",
        "    #Student (name: ___, age: __, email: ___)\n",
        "    temp_str = f'Movie (title:{self.movietitle}, director:{self.director}, yearofrelease:{self.yearofrelease})'\n",
        "    return temp_str\n",
        "\n",
        "  ''' this is for the end-users, user-friendly output '''\n",
        "  def __str__(self):\n",
        "    temp_str = ('\\nTitle: ' + self.movietitle +\n",
        "               '\\ndirector: ' + self.director +\n",
        "               '\\nyearofrelease: ' + str(self.yearofrelease))\n",
        "    return temp_str\n",
        "\n",
        "# Create some instances\n",
        "movie_1 = Movie('Interstellar', 'Christopher Nolan', '2014')\n",
        "print('\\n\\nRepresentation: ', repr(movie_1))\n",
        "print('String representation: ', movie_1)\n",
        "\n",
        "\n",
        "\n",
        "\n",
        "\n",
        "\n"
      ],
      "metadata": {
        "colab": {
          "base_uri": "https://localhost:8080/"
        },
        "id": "-3W3mVkSpYMC",
        "outputId": "b7fb9897-28a6-436e-f134-2a4ed79acea2"
      },
      "execution_count": null,
      "outputs": [
        {
          "output_type": "stream",
          "name": "stdout",
          "text": [
            "\n",
            "\n",
            "Representation:  Movie (title:Interstellar, director:Christopher Nolan, yearofrelease:2014)\n",
            "String representation:  \n",
            "Title: Interstellar\n",
            "director: Christopher Nolan\n",
            "yearofrelease: 2014\n"
          ]
        }
      ]
    },
    {
      "cell_type": "markdown",
      "source": [
        "# Assignment 5 Instructions\n",
        "1. Create a python class assigned to you.\n",
        "2. Ensure that each class has these two magic methods  __str__ and __repr_ methods.\n",
        "3. Create three objects (instances) for your class.\n",
        "4. print the object\n",
        "5. print the representation of the object\n",
        "6. Please make sure that you use \"Student\" class I demonstrated in the classroom as example  / template.\n",
        "\n",
        "\n",
        "1. Student  (done)\n",
        "name, email, age\n",
        "\n",
        "2. Car  (Anika)\n",
        "make, model, year\n",
        "\n",
        "3. Book  (Nidhi)\n",
        "title, author, publication_year\n",
        "\n",
        "4. Dog   (Nithin)\n",
        "name, breed, age\n",
        "\n",
        "5. Employee  (Prabhav)\n",
        "name, employee_id, salary\n",
        "\n",
        "6. Circle  (Rama)\n",
        "radius, color, area\n",
        "\n",
        "7. BankAccount  (Samhita)\n",
        "account_number, balance, owner\n",
        "\n",
        "8. Movie (Prashanti)\n",
        "title, director, release_year\n",
        "\n",
        "9. Song (Sai)\n",
        "title, artist, duration\n",
        "\n",
        "10. Address (Sumedh)\n",
        "street, city, postal_code\n",
        "\n",
        "11. Restaurant (Ahala)\n",
        "name, cuisine, rating\n",
        "\n",
        "12. Laptop (Krish)\n",
        "brand, model, price\n",
        "\n",
        "13. Course (Nakul)\n",
        "course_code, instructor, credits\n",
        "\n",
        "14. Country (Om)\n",
        "name, population, capital_city\n",
        "\n",
        "15. Smartphone (Pavani)\n",
        "brand, model, screen_size\n",
        "\n",
        "16. House (Satish)\n",
        "area, owner, cost\n",
        "\n",
        "Each class represents a real-world entity, and the attributes associated with each class provide information about that entity.\n"
      ],
      "metadata": {
        "id": "JYYyUb4MuPiI"
      }
    },
    {
      "cell_type": "code",
      "source": [
        "#@title  Assignment 7\n",
        "class Movie:\n",
        "    def __init__(self, a_movietitle, a_director, a_yearofrelease, a_genre):\n",
        "        self.movietitle = a_movietitle\n",
        "        self.director = a_director\n",
        "        self.yearofrelease = a_yearofrelease\n",
        "        self.genre = a_genre\n",
        "\n",
        "    def __repr__(self):\n",
        "        return f'Movie(title: {self.movietitle}, director: {self.director}, yearofrelease: {self.yearofrelease}, genre: {self.genre})'\n",
        "\n",
        "    def __str__(self):\n",
        "        return (f'\\nTitle: {self.movietitle}' +\n",
        "                f'\\nDirector: {self.director}' +\n",
        "                f'\\nYear of Release: {self.yearofrelease}' +\n",
        "                f'\\nGenre: {self.genre}')\n",
        "\n",
        "    def __lt__(self, other):\n",
        "        return self.yearofrelease < other.yearofrelease\n",
        "\n",
        "    def __gt__(self, other):\n",
        "        return self.yearofrelease > other.yearofrelease\n",
        "\n",
        "    def __le__(self, other):\n",
        "        return self.yearofrelease <= other.yearofrelease\n",
        "\n",
        "    def __ge__(self, other):\n",
        "        return self.yearofrelease >= other.yearofrelease\n",
        "\n",
        "    def __eq__(self, other):\n",
        "        return self.yearofrelease == other.yearofrelease\n",
        "\n",
        "    def __ne__(self, other):\n",
        "        return self.yearofrelease != other.yearofrelease\n",
        "\n",
        "# Create some movie instances\n",
        "movie_1 = Movie('Interstellar', 'Christopher Nolan', '2014', 'Sci-Fi')\n",
        "print('\\nRepresentation: ', repr(movie_1))\n",
        "print('String representation: ', str(movie_1))\n",
        "\n",
        "movie_2 = Movie('Ben-Hur', 'William Wyler', '1959', 'Drama')\n",
        "print('\\nRepresentation: ', repr(movie_2))\n",
        "print('String representation: ', str(movie_2))\n",
        "\n",
        "movie_3 = Movie('Avatar', 'James Cameron', '2009', 'Fantasy')\n",
        "print('\\nRepresentation: ', repr(movie_3))\n",
        "print('String representation: ', str(movie_3))\n",
        "\n",
        "a = movie_1\n",
        "b = movie_2\n",
        "print(\n",
        "    a < b,\n",
        "    a > b,\n",
        "    a <= b,\n",
        "    a >= b,\n",
        "    a == b,\n",
        "    a != b\n",
        ")\n",
        "\n"
      ],
      "metadata": {
        "id": "7YwzphFHMr3q",
        "colab": {
          "base_uri": "https://localhost:8080/"
        },
        "outputId": "740c598b-8459-41af-a463-3f9fee3e4bf9"
      },
      "execution_count": 20,
      "outputs": [
        {
          "output_type": "stream",
          "name": "stdout",
          "text": [
            "\n",
            "Representation:  Movie(title: Interstellar, director: Christopher Nolan, yearofrelease: 2014, genre: Sci-Fi)\n",
            "String representation:  \n",
            "Title: Interstellar\n",
            "Director: Christopher Nolan\n",
            "Year of Release: 2014\n",
            "Genre: Sci-Fi\n",
            "\n",
            "Representation:  Movie(title: Ben-Hur, director: William Wyler, yearofrelease: 1959, genre: Drama)\n",
            "String representation:  \n",
            "Title: Ben-Hur\n",
            "Director: William Wyler\n",
            "Year of Release: 1959\n",
            "Genre: Drama\n",
            "\n",
            "Representation:  Movie(title: Avatar, director: James Cameron, yearofrelease: 2009, genre: Fantasy)\n",
            "String representation:  \n",
            "Title: Avatar\n",
            "Director: James Cameron\n",
            "Year of Release: 2009\n",
            "Genre: Fantasy\n",
            "False True False True False True\n"
          ]
        }
      ]
    }
  ]
}