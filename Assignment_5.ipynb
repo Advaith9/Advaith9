{
  "nbformat": 4,
  "nbformat_minor": 0,
  "metadata": {
    "colab": {
      "provenance": [],
      "collapsed_sections": [],
      "authorship_tag": "ABX9TyN8VCogNG5S2ZbMv/ZfOE7A",
      "include_colab_link": true
    },
    "kernelspec": {
      "name": "python3",
      "display_name": "Python 3"
    },
    "language_info": {
      "name": "python"
    }
  },
  "cells": [
    {
      "cell_type": "markdown",
      "metadata": {
        "id": "view-in-github",
        "colab_type": "text"
      },
      "source": [
        "<a href=\"https://colab.research.google.com/github/Advaith9/Advaith9/blob/Python_assignments/Assignment_5.ipynb\" target=\"_parent\"><img src=\"https://colab.research.google.com/assets/colab-badge.svg\" alt=\"Open In Colab\"/></a>"
      ]
    },
    {
      "cell_type": "markdown",
      "source": [
        "Rewrite_Budget_Analysis ##Assignment_5##\n"
      ],
      "metadata": {
        "id": "9tDzWXYO13Xn"
      }
    },
    {
      "cell_type": "code",
      "source": [
        "# Ask user for budget allocated for a month\n",
        "\n",
        "budget = input(\"Enter the Budget allocated for a month : \")\n",
        "budget = int (budget)\n",
        "\n",
        "# Enter your expeses per item\n",
        "\n",
        "#num_item = input(\"Enter the number of items purchased : \")\n",
        "#num_item = int(num_item)\n",
        "total_price = 0\n",
        "item=1\n",
        "\n",
        "while ( item >= 0 ):\n",
        "    price = input(\"Enter amount for the item purchased : \")\n",
        "    price = float(price)\n",
        "    print ( \"Item\",item,\"   \",price)\n",
        "    item = item + 1\n",
        "    total_price = total_price + price\n",
        "    if(price == 0):\n",
        "        print(\" While loop will stop as price is 0 \")\n",
        "        break\n",
        "    \n",
        "    \n",
        "if ( total_price < budget ):\n",
        "    total_price = total_price - budget\n",
        "    print(\"You are under your budget by \", total_price )\n",
        "elif ( total_price == budget ):\n",
        "    total_price = total_price - budget\n",
        "    print (\"You have evened out on budget \", total_price)\n",
        "else:\n",
        "    total_price = total_price - budget\n",
        "    print(\"You are over the budget by \", total_price)"
      ],
      "metadata": {
        "id": "sFMXbiy32HR4"
      },
      "execution_count": null,
      "outputs": []
    },
    {
      "cell_type": "markdown",
      "source": [
        "####Assignment_5.2_While_True###"
      ],
      "metadata": {
        "id": "ernYG9nP3a6K"
      }
    },
    {
      "cell_type": "code",
      "source": [
        "# Ask user for budget allocated for a month\n",
        "\n",
        "budget = input(\"Enter the Budget allocated for a month : \")\n",
        "budget = int (budget)\n",
        "\n",
        "# Enter your expeses per item\n",
        "\n",
        "#num_item = input(\"Enter the number of items purchased : \")\n",
        "#num_item = int(num_item)\n",
        "total_price = 0\n",
        "item=1\n",
        "\n",
        "while True:\n",
        "    price = input(\"Enter amount for the item purchased : \")\n",
        "    price = float(price)\n",
        "    print ( \"Item\",item,\"   \",price)\n",
        "    item = item + 1\n",
        "    total_price = total_price + price\n",
        "    if(price == 0):\n",
        "        print(\" While loop will stop as price is 0 \")\n",
        "        break\n",
        "    \n",
        "    \n",
        "if ( total_price < budget ):\n",
        "    total_price = total_price - budget\n",
        "    print(\"You are under your budget by \", total_price )\n",
        "elif ( total_price == budget ):\n",
        "    total_price = total_price - budget\n",
        "    print (\"You have evened out on budget \", total_price)\n",
        "else:\n",
        "    total_price = total_price - budget\n",
        "    print(\"You are over the budget by \", total_price)"
      ],
      "metadata": {
        "id": "lbZ3gvkd3nU3"
      },
      "execution_count": null,
      "outputs": []
    },
    {
      "cell_type": "markdown",
      "source": [
        "#@title 5.3. Assignment continue and break (an exercise)\n",
        "\n",
        "'''\n",
        "Run a While loop infinitely (using while True).\n",
        "\n",
        "Inside the loop, generate two random numbers between (1 and 10)\n",
        "\n",
        "If both the random numbers are equal, then the loop should skip those and continue with the next iteration.\n",
        "\n",
        "If the sum of the random numbers is 10, then the loop should exit.\n",
        "\n",
        "Otherwise, the loop will print the two random numbers and their sum."
      ],
      "metadata": {
        "id": "7aBvSAuB7VHH"
      }
    },
    {
      "cell_type": "code",
      "source": [
        "import random\n",
        "\n",
        "loop_counter = 1\n",
        "while True:\n",
        "    number1 = random.randint(1,10)\n",
        "    number2 = random.randint(1,10)\n",
        "    if(number1 == number2):\n",
        "      continue\n",
        "      \n",
        "    else:\n",
        "        sum = (number1 + number2)\n",
        "    if (sum == 10):\n",
        "            break"
      ],
      "metadata": {
        "id": "LFv9lRoc7cml"
      },
      "execution_count": null,
      "outputs": []
    }
  ]
}