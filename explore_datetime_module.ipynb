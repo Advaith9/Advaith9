{
  "nbformat": 4,
  "nbformat_minor": 0,
  "metadata": {
    "colab": {
      "provenance": [],
      "authorship_tag": "ABX9TyNr57weGAQ1d2pY+ESud1ER",
      "include_colab_link": true
    },
    "kernelspec": {
      "name": "python3",
      "display_name": "Python 3"
    },
    "language_info": {
      "name": "python"
    }
  },
  "cells": [
    {
      "cell_type": "markdown",
      "metadata": {
        "id": "view-in-github",
        "colab_type": "text"
      },
      "source": [
        "<a href=\"https://colab.research.google.com/github/Advaith9/Advaith9/blob/Python102/explore_datetime_module.ipynb\" target=\"_parent\"><img src=\"https://colab.research.google.com/assets/colab-badge.svg\" alt=\"Open In Colab\"/></a>"
      ]
    },
    {
      "cell_type": "markdown",
      "source": [
        "Exploring_date_time_module\n"
      ],
      "metadata": {
        "id": "2pYsITMYFs46"
      }
    },
    {
      "cell_type": "code",
      "source": [
        "import datetime\n",
        "#print(dir(datetime))\n",
        "\n",
        "cmd_list = dir(datetime)\n",
        "for cmd in cmd_list:\n",
        "  if '_' not in cmd:\n",
        "    print(cmd)"
      ],
      "metadata": {
        "colab": {
          "base_uri": "https://localhost:8080/"
        },
        "id": "fxkVkXkUF1RC",
        "outputId": "1d1e1052-c031-4da1-b573-6d6515b1c4b0"
      },
      "execution_count": 39,
      "outputs": [
        {
          "output_type": "stream",
          "name": "stdout",
          "text": [
            "MAXYEAR\n",
            "MINYEAR\n",
            "date\n",
            "datetime\n",
            "sys\n",
            "time\n",
            "timedelta\n",
            "timezone\n",
            "tzinfo\n"
          ]
        }
      ]
    },
    {
      "cell_type": "code",
      "source": [
        "help(datetime.MAXYEAR)"
      ],
      "metadata": {
        "id": "dCMiOZXEQHnU"
      },
      "execution_count": null,
      "outputs": []
    },
    {
      "cell_type": "code",
      "source": [
        "print(datetime.MAXYEAR)\n",
        "\n",
        "print(datetime.MINYEAR)"
      ],
      "metadata": {
        "colab": {
          "base_uri": "https://localhost:8080/"
        },
        "id": "XYKOj8Mvo-ds",
        "outputId": "3cf57f14-c2e4-4c47-ecc9-3fedcca9de61"
      },
      "execution_count": 49,
      "outputs": [
        {
          "output_type": "stream",
          "name": "stdout",
          "text": [
            "9999\n",
            "1\n"
          ]
        }
      ]
    },
    {
      "cell_type": "code",
      "source": [
        "#help(datetime.date)\n",
        "current_date = datetime.date.today()\n",
        "print(current_date)\n",
        "\n",
        "from datetime import date\n",
        "d = date(2025, 12, 25)\n",
        "print(\"Today's date is \" , d)"
      ],
      "metadata": {
        "colab": {
          "base_uri": "https://localhost:8080/"
        },
        "id": "UNsrpRjIqBIN",
        "outputId": "3a1bbd62-1afd-4fb3-ee6d-8f8526a8f1ee"
      },
      "execution_count": 72,
      "outputs": [
        {
          "output_type": "stream",
          "name": "stdout",
          "text": [
            "2023-12-28\n",
            "Today's date is  2025-12-25\n"
          ]
        }
      ]
    },
    {
      "cell_type": "code",
      "source": [
        "import datetime\n",
        "#help(datetime.datetime)\n",
        "\n",
        "# get the current date and time\n",
        "#now = datetime.datetime.now()\n",
        "\n",
        "#print(now)\n",
        "\n",
        "b = datetime.datetime(2022, 12, 28, 23, 55, 59, 342380)\n",
        "print(b)"
      ],
      "metadata": {
        "colab": {
          "base_uri": "https://localhost:8080/"
        },
        "id": "IlUr6I6Ry0pg",
        "outputId": "16a323d0-7537-4343-f831-15074e1f1d8d"
      },
      "execution_count": 86,
      "outputs": [
        {
          "output_type": "stream",
          "name": "stdout",
          "text": [
            "2022-12-28 23:55:59.342380\n"
          ]
        }
      ]
    },
    {
      "cell_type": "code",
      "source": [
        "import datetime\n",
        "#help(datetime.time)\n",
        "\n",
        "a = datetime.time()\n",
        "print(a)\n",
        "b = datetime.time(11, 59, 55)\n",
        "print(b)\n",
        "c = datetime.time(hour= 11, minute= 45, second= 55, microsecond= 583276)\n",
        "print(c)"
      ],
      "metadata": {
        "colab": {
          "base_uri": "https://localhost:8080/"
        },
        "id": "1YK4dEKO002_",
        "outputId": "a0993bbc-c778-4e9c-96ef-033a40b2e81d"
      },
      "execution_count": 81,
      "outputs": [
        {
          "output_type": "stream",
          "name": "stdout",
          "text": [
            "00:00:00\n",
            "11:59:55\n",
            "11:45:55.583276\n"
          ]
        }
      ]
    },
    {
      "cell_type": "code",
      "source": [
        "#class timedelta(builtins.object)\n",
        "#Difference between two datetime values.\n",
        "#help(datetime.timedelta)\n",
        "\n",
        "from datetime import datetime, date\n",
        "\n",
        "# using date()\n",
        "t1 = date(year = 2018, month = 7, day = 12)\n",
        "t2 = date(year = 2017, month = 12, day = 23)\n",
        "\n",
        "t3 = t1 - t2\n",
        "td = t2 - t1\n",
        "\n",
        "print(\"t3 =\", t3)\n",
        "print(\"td=\", td)\n",
        "\n",
        "# using datetime()\n",
        "t4 = datetime(year = 2018, month = 7, day = 12, hour = 7, minute = 9, second = 33)\n",
        "t5 = datetime(year = 2019, month = 6, day = 10, hour = 5, minute = 55, second = 13)\n",
        "t6 = t4 - t5\n",
        "print(\"t6 =\", t6)\n",
        "\n",
        "print(\"Type of t3 =\", type(t3))\n",
        "print(\"Type of t6 =\", type(t6))\n",
        "\n",
        "\n",
        "# to convert time to seconds\n",
        "from datetime import timedelta\n",
        "t = timedelta(days = 5, hours = 1, seconds = 33, microseconds = 233423)\n",
        "print(\"Total seconds =\", t.total_seconds())"
      ],
      "metadata": {
        "colab": {
          "base_uri": "https://localhost:8080/"
        },
        "id": "em-MmMsk35ju",
        "outputId": "00b7e5e4-2d30-4682-df90-937d3e85fa35"
      },
      "execution_count": 94,
      "outputs": [
        {
          "output_type": "stream",
          "name": "stdout",
          "text": [
            "t3 = 201 days, 0:00:00\n",
            "td= -201 days, 0:00:00\n",
            "t6 = -333 days, 1:14:20\n",
            "Type of t3 = <class 'datetime.timedelta'>\n",
            "Type of t6 = <class 'datetime.timedelta'>\n",
            "Total seconds = 435633.233423\n"
          ]
        }
      ]
    },
    {
      "cell_type": "code",
      "source": [
        "#help(datetime.tzinfo)\n",
        "\n",
        "from datetime import datetime, timezone, timedelta\n",
        "\n",
        "# Create a timezone object for Coordinated Universal Time (UTC)\n",
        "utc_timezone = timezone.utc\n",
        "\n",
        "# Create a datetime object with the current UTC time\n",
        "current_utc_time = datetime.now(utc_timezone)\n",
        "print(\"Current UTC Time:\", current_utc_time)\n",
        "\n"
      ],
      "metadata": {
        "colab": {
          "base_uri": "https://localhost:8080/"
        },
        "id": "QvM8owRJ81Ke",
        "outputId": "cfca549d-6107-495b-a1c6-b16d593bb1e7"
      },
      "execution_count": 3,
      "outputs": [
        {
          "output_type": "stream",
          "name": "stdout",
          "text": [
            "Current UTC Time: 2024-01-05 01:58:04.650265+00:00\n"
          ]
        }
      ]
    },
    {
      "cell_type": "code",
      "source": [
        "import pytz\n",
        "\n",
        "# Get a list of all available time zones\n",
        "# all_timezones = pytz.all_timezones\n",
        "# print(\"All Time Zones:\")\n",
        "# for tz in all_timezones:\n",
        "#     print(\"-\", tz)\n",
        "\n",
        "# Get a list of common time zones\n",
        "# common_timezones = pytz.common_timezones\n",
        "# print(\"\\nCommon Time Zones:\")\n",
        "# for tz in common_timezones:\n",
        "#     print(\"-\", tz)\n",
        "\n",
        "# current_local_time = datetime.now()\n",
        "# print(\"Current Local Time:\", current_local_time)\n",
        "from datetime import datetime\n",
        "from zoneinfo import ZoneInfo\n",
        "\n",
        "# to display central time zone\n",
        "central_timezone = ZoneInfo(\"America/Chicago\")\n",
        "\n",
        "#to display  central time\n",
        "current_central_time = datetime.now(central_timezone)\n",
        "\n",
        "print(\"Current Central Time (zoneinfo):\", current_central_time)\n",
        "\n"
      ],
      "metadata": {
        "colab": {
          "base_uri": "https://localhost:8080/"
        },
        "id": "ttYbpQrpWed2",
        "outputId": "cba6c687-9268-4080-87dc-bda2da169558"
      },
      "execution_count": 2,
      "outputs": [
        {
          "output_type": "stream",
          "name": "stdout",
          "text": [
            "Current Central Time (zoneinfo): 2024-01-05 22:06:12.859175-06:00\n"
          ]
        }
      ]
    },
    {
      "cell_type": "code",
      "source": [],
      "metadata": {
        "id": "9x-Peok1b3Aw"
      },
      "execution_count": null,
      "outputs": []
    }
  ]
}