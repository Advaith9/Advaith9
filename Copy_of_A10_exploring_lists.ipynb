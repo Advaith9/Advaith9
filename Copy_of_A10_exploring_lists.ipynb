{
  "nbformat": 4,
  "nbformat_minor": 0,
  "metadata": {
    "colab": {
      "provenance": [],
      "toc_visible": true,
      "include_colab_link": true
    },
    "kernelspec": {
      "name": "python3",
      "display_name": "Python 3"
    },
    "language_info": {
      "name": "python"
    }
  },
  "cells": [
    {
      "cell_type": "markdown",
      "metadata": {
        "id": "view-in-github",
        "colab_type": "text"
      },
      "source": [
        "<a href=\"https://colab.research.google.com/github/Advaith9/Advaith9/blob/Python_assignments/Copy_of_A10_exploring_lists.ipynb\" target=\"_parent\"><img src=\"https://colab.research.google.com/assets/colab-badge.svg\" alt=\"Open In Colab\"/></a>"
      ]
    },
    {
      "cell_type": "markdown",
      "source": [
        "# Lists\n"
      ],
      "metadata": {
        "id": "HpIJY9lvgjMV"
      }
    },
    {
      "cell_type": "markdown",
      "source": [
        "* https://www.w3schools.com/python/python_ref_list.asp  (Python List Methods)\n",
        "* https://www.w3schools.com/python/python_ref_functions.asp (Python Built-in Functions)"
      ],
      "metadata": {
        "id": "imH1nSNBUuG_"
      }
    },
    {
      "cell_type": "code",
      "source": [
        "#@title Lists: An Introduction\n",
        "\n",
        "Data Type\n",
        "List Type"
      ],
      "metadata": {
        "id": "iE_KtgxUn4at"
      },
      "execution_count": null,
      "outputs": []
    },
    {
      "cell_type": "code",
      "source": [
        "#@title 1.Creating an empty list\n",
        "my_list = []\n",
        "print (type(my_list))\n",
        "print (len(my_list))\n"
      ],
      "metadata": {
        "id": "4GnRakGpUz8V",
        "colab": {
          "base_uri": "https://localhost:8080/"
        },
        "outputId": "1fa0ea2d-5eca-4244-ccb5-699f64da8164"
      },
      "execution_count": 22,
      "outputs": [
        {
          "output_type": "stream",
          "name": "stdout",
          "text": [
            "<class 'list'>\n",
            "0\n"
          ]
        }
      ]
    },
    {
      "cell_type": "code",
      "source": [
        "#@title 2.Creating a list with some elements\n",
        "my_list = [1,2,3,4,5,6,7,8,9,10]\n",
        "print(*my_list)\n",
        "print(*my_list , sep = \"\\n\")\n"
      ],
      "metadata": {
        "id": "uCm9yPLDU0O0",
        "colab": {
          "base_uri": "https://localhost:8080/"
        },
        "outputId": "dedced32-ef21-4ce8-9792-3da4d4bb4d32"
      },
      "execution_count": 13,
      "outputs": [
        {
          "output_type": "stream",
          "name": "stdout",
          "text": [
            "1 2 3 4 5 6 7 8 9 10\n",
            "1\n",
            "2\n",
            "3\n",
            "4\n",
            "5\n",
            "6\n",
            "7\n",
            "8\n",
            "9\n",
            "10\n"
          ]
        }
      ]
    },
    {
      "cell_type": "code",
      "source": [
        "#@title 3.Adding elements at the end\n",
        "my_list = [1,2,3,4,5,6,7,8,9,10]\n",
        "my_list.append(11)\n",
        "print(*my_list)"
      ],
      "metadata": {
        "id": "rEpmqm7MU0Si",
        "colab": {
          "base_uri": "https://localhost:8080/"
        },
        "outputId": "49e854a0-1859-4061-b940-11d64dd0bbbe"
      },
      "execution_count": 19,
      "outputs": [
        {
          "output_type": "stream",
          "name": "stdout",
          "text": [
            "1 2 3 4 5 6 7 8 9 10 11\n"
          ]
        }
      ]
    },
    {
      "cell_type": "code",
      "source": [
        "#@title 4.Accessing an element (positive index)\n",
        "# also known as \"Reading an element\"\n",
        "# also known as \"Setting an element\"\n",
        "my_list = [1,2,3,4,5,6,7,8,9,10]\n",
        "print(my_list[0])\n",
        "print(my_list[1])\n",
        "print(my_list[2])\n",
        "print(my_list[3])\n",
        "print(my_list[4])\n",
        "print(my_list[5])\n",
        "print(my_list[6])\n",
        "print(my_list[7])\n",
        "print(my_list[8])\n",
        "print(my_list[9])"
      ],
      "metadata": {
        "id": "AMTpZsLMU0Vr",
        "colab": {
          "base_uri": "https://localhost:8080/"
        },
        "outputId": "03b19efb-f2f9-49fc-df88-df273d65c2b0"
      },
      "execution_count": 40,
      "outputs": [
        {
          "output_type": "stream",
          "name": "stdout",
          "text": [
            "1\n",
            "2\n",
            "3\n",
            "4\n",
            "5\n",
            "6\n",
            "7\n",
            "8\n",
            "9\n",
            "10\n"
          ]
        }
      ]
    },
    {
      "cell_type": "code",
      "source": [
        "#@title 5.Accessing an element (through Negative Indexing)\n",
        "# also known as \"Reading an element\"\n",
        "# also known as \"Setting an element\"\n",
        "my_list = [1,2,3,4,5,6,7,8,9,10]\n",
        "print(my_list[-1])\n",
        "print(my_list[-2])\n",
        "print(my_list[-3])\n",
        "print(my_list[-4])\n",
        "print(my_list[-5])\n",
        "print(my_list[-6])\n",
        "print(my_list[-7])\n",
        "print(my_list[-8])\n",
        "print(my_list[-9])\n",
        "print(my_list[-10])"
      ],
      "metadata": {
        "id": "VWaPKymnXdtx",
        "colab": {
          "base_uri": "https://localhost:8080/"
        },
        "outputId": "04e7dcb9-b661-457c-d7df-bb8ae0319bfc"
      },
      "execution_count": 41,
      "outputs": [
        {
          "output_type": "stream",
          "name": "stdout",
          "text": [
            "10\n",
            "9\n",
            "8\n",
            "7\n",
            "6\n",
            "5\n",
            "4\n",
            "3\n",
            "2\n",
            "1\n"
          ]
        }
      ]
    },
    {
      "cell_type": "code",
      "source": [
        "#@title 6.Adding an element at the front of the list\n",
        "my_list = [1,2,3,4,5,6,7,8,9,10]\n",
        "my_list.insert(0,100)\n",
        "print(my_list)"
      ],
      "metadata": {
        "id": "dSKr5_20U0YS",
        "colab": {
          "base_uri": "https://localhost:8080/"
        },
        "outputId": "00af49e7-f558-4577-e9cc-e747193fca3d"
      },
      "execution_count": 43,
      "outputs": [
        {
          "output_type": "stream",
          "name": "stdout",
          "text": [
            "[100, 1, 2, 3, 4, 5, 6, 7, 8, 9, 10]\n"
          ]
        }
      ]
    },
    {
      "cell_type": "code",
      "source": [
        "#@title 7.Adding an element anywhere (at a specific index) \n",
        "my_list = [1,2,3,4,5,6,7,8,9,10]\n",
        "my_list.insert(5,100)\n",
        "print(my_list)\n",
        "my_list.insert(8,100)\n",
        "print(my_list)"
      ],
      "metadata": {
        "id": "jvMJf2-2U0bM",
        "colab": {
          "base_uri": "https://localhost:8080/"
        },
        "outputId": "4f018ddf-3c5a-4485-a513-484ab929371f"
      },
      "execution_count": 45,
      "outputs": [
        {
          "output_type": "stream",
          "name": "stdout",
          "text": [
            "[1, 2, 3, 4, 5, 100, 6, 7, 8, 9, 10]\n",
            "[1, 2, 3, 4, 5, 100, 6, 7, 100, 8, 9, 10]\n"
          ]
        }
      ]
    },
    {
      "cell_type": "code",
      "source": [
        "#@title 8.Updating (or Replacing) an element\n",
        "my_list = [1,2,3,4,5,6,7,8,9,10]\n",
        "print(my_list[2])\n",
        "my_list[2] = 55\n",
        "print(my_list[2])\n",
        "print(my_list)"
      ],
      "metadata": {
        "id": "DUG9xlraaTlO",
        "colab": {
          "base_uri": "https://localhost:8080/"
        },
        "outputId": "890a1344-60f4-4af2-df25-13c5c3002ac5"
      },
      "execution_count": 49,
      "outputs": [
        {
          "output_type": "stream",
          "name": "stdout",
          "text": [
            "3\n",
            "55\n",
            "[1, 2, 55, 4, 5, 6, 7, 8, 9, 10]\n"
          ]
        }
      ]
    },
    {
      "cell_type": "code",
      "source": [
        "#@title 9.Looping through the list (just for READING)\n",
        "my_list = [1,2,3,4,5,6,7,8,9,10]\n",
        "for x in my_list:\n",
        "  print(x)"
      ],
      "metadata": {
        "id": "F6P3NNhFU0j8",
        "colab": {
          "base_uri": "https://localhost:8080/"
        },
        "outputId": "e4bbcc05-9308-425e-a19f-89c81f11d790"
      },
      "execution_count": 50,
      "outputs": [
        {
          "output_type": "stream",
          "name": "stdout",
          "text": [
            "1\n",
            "2\n",
            "3\n",
            "4\n",
            "5\n",
            "6\n",
            "7\n",
            "8\n",
            "9\n",
            "10\n"
          ]
        }
      ]
    },
    {
      "cell_type": "code",
      "source": [
        "#@title 10.Looping through the list (for UPDATING)\n",
        "my_list = [1,2,3,4,5,6,7,8,9,10]\n",
        "\n",
        "for i in range(0,1):\n",
        "    my_list[i] = my_list[i] + 2\n",
        "    print(my_list)\n"
      ],
      "metadata": {
        "id": "QFJmGzYOU0nG",
        "colab": {
          "base_uri": "https://localhost:8080/"
        },
        "outputId": "6fc4eecb-160b-4fe1-a396-1c0ccbb644d1"
      },
      "execution_count": 70,
      "outputs": [
        {
          "output_type": "stream",
          "name": "stdout",
          "text": [
            "[3, 2, 3, 4, 5, 6, 7, 8, 9, 10]\n"
          ]
        }
      ]
    },
    {
      "cell_type": "code",
      "source": [
        "#@title 11.Common Operations: Find the length of the list\n",
        "# Find the number of elements in the list"
      ],
      "metadata": {
        "id": "_OiuJHIeU0p6"
      },
      "execution_count": null,
      "outputs": []
    },
    {
      "cell_type": "code",
      "source": [
        "#@title 12.Common Operations: Find the maximum in the list"
      ],
      "metadata": {
        "id": "IhGhO_XxU0tB"
      },
      "execution_count": null,
      "outputs": []
    },
    {
      "cell_type": "code",
      "source": [
        "#@title 13.Common Operations: Find the minimum in the list"
      ],
      "metadata": {
        "id": "D4vmqhUHYaVC"
      },
      "execution_count": null,
      "outputs": []
    },
    {
      "cell_type": "code",
      "source": [
        "#@title 14.Common Operations: Find the sum of elements in the list"
      ],
      "metadata": {
        "id": "ULNy2XkGYd5g"
      },
      "execution_count": null,
      "outputs": []
    },
    {
      "cell_type": "code",
      "source": [
        "#@title 14.Removing an element by value\n"
      ],
      "metadata": {
        "id": "8UfCeQSpYwFB"
      },
      "execution_count": null,
      "outputs": []
    },
    {
      "cell_type": "code",
      "source": [
        "#@title 15.Removing the last element in the list\n"
      ],
      "metadata": {
        "id": "8pLgwYe0YwOY"
      },
      "execution_count": null,
      "outputs": []
    },
    {
      "cell_type": "code",
      "source": [
        "#@title 16.Removing an element at a given index\n"
      ],
      "metadata": {
        "id": "2jpc-7ppYwb_"
      },
      "execution_count": null,
      "outputs": []
    },
    {
      "cell_type": "code",
      "source": [
        "#@title 17.Extending a list\n",
        "#(Adding several elements to one list)\n"
      ],
      "metadata": {
        "id": "f9CutvMNYwn6"
      },
      "execution_count": null,
      "outputs": []
    },
    {
      "cell_type": "code",
      "source": [
        "#@title 18.Search for an element. What is the index?\n"
      ],
      "metadata": {
        "id": "S7JBtxoufmw0"
      },
      "execution_count": null,
      "outputs": []
    },
    {
      "cell_type": "code",
      "source": [
        "#@title 19.Count the number of times an element is appearing\n",
        "\n"
      ],
      "metadata": {
        "id": "xtYWNnRUfykZ"
      },
      "execution_count": null,
      "outputs": []
    },
    {
      "cell_type": "code",
      "execution_count": null,
      "metadata": {
        "colab": {
          "base_uri": "https://localhost:8080/"
        },
        "id": "HzdJE7DjkZ7-",
        "outputId": "a130b59c-5076-4038-bd11-b8989a6246f8"
      },
      "outputs": [
        {
          "output_type": "stream",
          "name": "stdout",
          "text": [
            "54.3 ns ± 5.4 ns per loop (mean ± std. dev. of 7 runs, 10000000 loops each)\n"
          ]
        }
      ],
      "source": [
        "#@title 20.Checking for Membership (in)"
      ]
    },
    {
      "cell_type": "code",
      "source": [
        "#@title 21.Checking for Membership (not in)"
      ],
      "metadata": {
        "id": "0jlu0amZfUYv"
      },
      "execution_count": null,
      "outputs": []
    },
    {
      "cell_type": "code",
      "source": [
        "#@title 22.Reverse a list\n"
      ],
      "metadata": {
        "id": "4ss-JZlugMdZ"
      },
      "execution_count": null,
      "outputs": []
    },
    {
      "cell_type": "code",
      "source": [
        "#@title 23.Sort a list\n"
      ],
      "metadata": {
        "id": "XNEHDoaFgop0"
      },
      "execution_count": null,
      "outputs": []
    },
    {
      "cell_type": "code",
      "source": [
        "#@title 24.Copy a list (Caution: Don't reassign)\n"
      ],
      "metadata": {
        "id": "OKubdzAkhAzu"
      },
      "execution_count": null,
      "outputs": []
    },
    {
      "cell_type": "code",
      "source": [
        "#@title 25.Clear (Empty) a list\n",
        "#Delete all the elements in the list\n"
      ],
      "metadata": {
        "id": "EtzP3vuKgt8T"
      },
      "execution_count": null,
      "outputs": []
    },
    {
      "cell_type": "code",
      "source": [
        "#@title 26.Delete the entire list"
      ],
      "metadata": {
        "id": "Kio7904Bh1uk"
      },
      "execution_count": null,
      "outputs": []
    },
    {
      "cell_type": "code",
      "source": [
        "#@title 27.Cool Operation: You can add lists"
      ],
      "metadata": {
        "id": "xrsUOIOmiGT7"
      },
      "execution_count": null,
      "outputs": []
    },
    {
      "cell_type": "code",
      "source": [
        "#@title 28.Cool Operation: You can multiply/repeat a list"
      ],
      "metadata": {
        "id": "daHyLToliKFa"
      },
      "execution_count": null,
      "outputs": []
    },
    {
      "cell_type": "code",
      "source": [
        "#@title 29.Cool Operation: You can convert a range to a list"
      ],
      "metadata": {
        "id": "72Cxp55ziPoa"
      },
      "execution_count": null,
      "outputs": []
    },
    {
      "cell_type": "code",
      "source": [
        "#@title 30.Common Operations: Find the length (Using Built-in Function)"
      ],
      "metadata": {
        "id": "ubwosLZvYiPv"
      },
      "execution_count": null,
      "outputs": []
    },
    {
      "cell_type": "code",
      "source": [
        "#@title 31.Common Operations: Find the maximum in the list (Using Built-in Function)"
      ],
      "metadata": {
        "id": "bsYWoh8viya7"
      },
      "execution_count": null,
      "outputs": []
    },
    {
      "cell_type": "code",
      "source": [
        "#@title 32.Common Operations: Find the minimum in the list (Using Built-in Function)"
      ],
      "metadata": {
        "id": "_dXOQIhsi88b"
      },
      "execution_count": null,
      "outputs": []
    },
    {
      "cell_type": "code",
      "source": [
        "#@title 33.Common Operations: Find the sum of elements in the list (Using Built-in Function)"
      ],
      "metadata": {
        "id": "EDcj1HkdjIXD"
      },
      "execution_count": null,
      "outputs": []
    },
    {
      "cell_type": "code",
      "source": [
        "#@title 34.Common Operations: Find the average of elements in the list (Using Built-in Function)"
      ],
      "metadata": {
        "id": "rQwWmGsnjMG0"
      },
      "execution_count": null,
      "outputs": []
    },
    {
      "cell_type": "code",
      "source": [
        "#@title 35.Common Operations: Find whether the list has any duplicate elements"
      ],
      "metadata": {
        "id": "YuaeC0FVjU81"
      },
      "execution_count": null,
      "outputs": []
    },
    {
      "cell_type": "code",
      "source": [
        "#@title 36.Common Operations: Multiply / Divide / Do something to every element in the list"
      ],
      "metadata": {
        "id": "6ENoMN_Pjr1t"
      },
      "execution_count": null,
      "outputs": []
    },
    {
      "cell_type": "code",
      "source": [
        "#@title 37.List Unpacking (N to <N mapping)"
      ],
      "metadata": {
        "id": "4UgT1N2MkFY6"
      },
      "execution_count": null,
      "outputs": []
    },
    {
      "cell_type": "code",
      "source": [
        "#@title 38.List Unpacking (N to <N mapping)"
      ],
      "metadata": {
        "id": "oHnK7xtkkKoM"
      },
      "execution_count": null,
      "outputs": []
    },
    {
      "cell_type": "code",
      "source": [
        "#@title 39.Printing a List (*)"
      ],
      "metadata": {
        "id": "5MXjd3xIkieL"
      },
      "execution_count": null,
      "outputs": []
    },
    {
      "cell_type": "code",
      "source": [
        "#@title 40.List Slicing"
      ],
      "metadata": {
        "id": "05fSVpKRkoc8"
      },
      "execution_count": null,
      "outputs": []
    },
    {
      "cell_type": "code",
      "source": [
        "#@title 41.List Comprehension"
      ],
      "metadata": {
        "id": "C9igc0NqkuTz"
      },
      "execution_count": null,
      "outputs": []
    },
    {
      "cell_type": "code",
      "source": [
        "#@title 42.Two Dimenstional Lists  (List of Lists)"
      ],
      "metadata": {
        "id": "Z4lXBQV0knD_"
      },
      "execution_count": null,
      "outputs": []
    },
    {
      "cell_type": "code",
      "source": [
        "#@title 43.Zipping two or three lists"
      ],
      "metadata": {
        "id": "OtnBbCUasGXV"
      },
      "execution_count": null,
      "outputs": []
    },
    {
      "cell_type": "code",
      "source": [
        "#@title 44.Applying a map funciton on the lists"
      ],
      "metadata": {
        "id": "dPqwLI6RsLxM"
      },
      "execution_count": null,
      "outputs": []
    }
  ]
}