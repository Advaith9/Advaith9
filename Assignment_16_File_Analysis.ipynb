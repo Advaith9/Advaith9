{
  "nbformat": 4,
  "nbformat_minor": 0,
  "metadata": {
    "colab": {
      "provenance": [],
      "authorship_tag": "ABX9TyPQRNRu6dp8j0mpkSp8KkZW",
      "include_colab_link": true
    },
    "kernelspec": {
      "name": "python3",
      "display_name": "Python 3"
    },
    "language_info": {
      "name": "python"
    }
  },
  "cells": [
    {
      "cell_type": "markdown",
      "metadata": {
        "id": "view-in-github",
        "colab_type": "text"
      },
      "source": [
        "<a href=\"https://colab.research.google.com/github/Advaith9/Advaith9/blob/Python_assignments/Assignment_16_File_Analysis.ipynb\" target=\"_parent\"><img src=\"https://colab.research.google.com/assets/colab-badge.svg\" alt=\"Open In Colab\"/></a>"
      ]
    },
    {
      "cell_type": "code",
      "source": [
        "#@title 6.File Analysis\n",
        "\n",
        "# '''\n",
        "# Write a program that reads the contents of two text files and prints the following lists:\n",
        "\n",
        "# 1. All the unique words contained in both files.\n",
        "# 2. The words that appear in both files.\n",
        "# 3. The words that appear in the first file but not the second.\n",
        "# 4. The words that appear in the second file but not the first.\n",
        "# 5.The words that appear in either the first or second file, but not both.\n",
        "\n",
        "# Hint: Use set operations to perform these analyses.\n",
        "# '''\n",
        "Set_1 = {'apple', 'banana', 'orange', 'mango', 'pineapple'}\n",
        "Set_2 = {'banana', 'kiwi', 'grape', 'pineapple', 'watermelon'}\n",
        "\n",
        "#1. All the unqie words contained in both the files (inersection)\n",
        "\n",
        "Intersection = Set_1.intersection(Set_2)\n",
        "print(Intersection)\n",
        "\n",
        "\n",
        "#2. The words that appear in both files. (union)\n",
        "\n",
        "Union = Set_1.union(Set_2)\n",
        "print(Union)\n",
        "\n",
        "\n",
        "#3.The words that appear in the first file but not the second.\n",
        "\n",
        "x = Set_1 - Set_2\n",
        "print(x)\n",
        "\n",
        "\n",
        "#4. The words that appear in the second file but not the first.\n",
        "y = Set_2 - Set_1\n",
        "print(y)\n",
        "\n",
        "#5.The words that appear in either the first or second file, but not both.\n",
        "Sym_diff = Set_1.symmetric_difference(Set_2)\n",
        "print(Sym_diff)\n",
        "\n",
        "\n",
        "#Extra Credit :\n",
        "#Create a new file called \"combined_file.txt\" \n",
        "#which places all the unique words from both the list.\n",
        "#That is.. perform the union and dump the union to the new file.\n",
        "\n",
        "file_name = \"combined_file.txt\"\n",
        "file_obj = open(file_name, 'w')\n",
        "with open(file_name, 'w') as file_obj:\n",
        "    for word in Union:\n",
        "        file_obj.write(word + '\\n')\n",
        "\n",
        "file_name = \"combined_file.txt\"\n",
        "with open(file_name, 'r') as file_obj:\n",
        "    contents = file_obj.read()\n",
        "    print(contents)\n",
        "\n"
      ],
      "metadata": {
        "colab": {
          "base_uri": "https://localhost:8080/"
        },
        "id": "J5tKWp224C4_",
        "outputId": "334236c4-1ddc-4585-f06e-b32af710cca1"
      },
      "execution_count": 6,
      "outputs": [
        {
          "output_type": "stream",
          "name": "stdout",
          "text": [
            "{'banana', 'pineapple'}\n",
            "{'orange', 'kiwi', 'pineapple', 'grape', 'mango', 'banana', 'watermelon', 'apple'}\n",
            "{'orange', 'mango', 'apple'}\n",
            "{'kiwi', 'watermelon', 'grape'}\n",
            "{'orange', 'kiwi', 'grape', 'watermelon', 'mango', 'apple'}\n",
            "orange\n",
            "kiwi\n",
            "pineapple\n",
            "grape\n",
            "mango\n",
            "banana\n",
            "watermelon\n",
            "apple\n",
            "\n"
          ]
        }
      ]
    }
  ]
}