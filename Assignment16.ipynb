{
  "nbformat": 4,
  "nbformat_minor": 0,
  "metadata": {
    "colab": {
      "provenance": [],
      "authorship_tag": "ABX9TyOmsUyAN+696QwHewJ1D/N+",
      "include_colab_link": true
    },
    "kernelspec": {
      "name": "python3",
      "display_name": "Python 3"
    },
    "language_info": {
      "name": "python"
    }
  },
  "cells": [
    {
      "cell_type": "markdown",
      "metadata": {
        "id": "view-in-github",
        "colab_type": "text"
      },
      "source": [
        "<a href=\"https://colab.research.google.com/github/Advaith9/Advaith9/blob/Python102/Assignment16.ipynb\" target=\"_parent\"><img src=\"https://colab.research.google.com/assets/colab-badge.svg\" alt=\"Open In Colab\"/></a>"
      ]
    },
    {
      "cell_type": "code",
      "execution_count": 18,
      "metadata": {
        "colab": {
          "base_uri": "https://localhost:8080/"
        },
        "id": "5e_0oQHwu8tb",
        "outputId": "6426705d-49b2-427a-e113-097dd628437a"
      },
      "outputs": [
        {
          "output_type": "stream",
          "name": "stdout",
          "text": [
            "Books Collection iterator\n",
            "iterating over the books collection\n",
            "('A Tale of Two Cities', 'Charles Dickens', 200)\n",
            "iterating over the books collection\n",
            "('The Little Prince', 'Antoine de Saint-Exupéry', 150)\n",
            "iterating over the books collection\n",
            "('Harry Potter', 'JK Rowling', 300)\n",
            "iterating over the books collection\n",
            "('The Hobbit', 'JRR Tolkien', 180)\n",
            "iterating over the books collection\n",
            "('The Da Vinci Code', 'Dan Brown', 250)\n",
            "iterating over the books collection\n"
          ]
        }
      ],
      "source": [
        "class Books_Collection:\n",
        "\n",
        "    def __init__(self, some_collection = []):\n",
        "        self.books_list = some_collection\n",
        "        self.pos = 0\n",
        "\n",
        "    def add(self, some_book):\n",
        "        self.books_list.append(some_book)\n",
        "\n",
        "    def remove(self, some_book):\n",
        "        if some_book in self.books_list:\n",
        "            self.books_list.remove(some_book)\n",
        "        else:\n",
        "            return False\n",
        "\n",
        "    def __iter__(self):\n",
        "        print(\"Books Collection iterator\")\n",
        "        self.pos = 0\n",
        "        return self\n",
        "\n",
        "    def __next__(self):\n",
        "        print(\"iterating over the books collection\")\n",
        "        if self.pos >= len(self.books_list):\n",
        "            raise StopIteration\n",
        "        book_to_be_returned = self.books_list[self.pos]\n",
        "        self.pos += 1\n",
        "        return book_to_be_returned\n",
        "\n",
        "\n",
        "# all testing happens here\n",
        "book1 = ('A Tale of Two Cities', 'Charles Dickens', 200)\n",
        "book2 = ('The Little Prince', 'Antoine de Saint-Exupéry', 150)\n",
        "book3 = ('Harry Potter', 'JK Rowling', 300)\n",
        "book4 = ('The Hobbit', 'JRR Tolkien', 180)\n",
        "book5 = ('The Da Vinci Code', 'Dan Brown', 250)\n",
        "\n",
        "books_list = [book1, book2, book3, book4, book5]\n",
        "\n",
        "books_collection_2 = Books_Collection(books_list)\n",
        "\n",
        "for elem in books_collection_2:\n",
        "    print(elem)\n"
      ]
    }
  ]
}