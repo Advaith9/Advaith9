{
  "nbformat": 4,
  "nbformat_minor": 0,
  "metadata": {
    "colab": {
      "provenance": [],
      "collapsed_sections": [],
      "authorship_tag": "ABX9TyNrrB4iVlWVjKpFcF8FG3SH",
      "include_colab_link": true
    },
    "kernelspec": {
      "name": "python3",
      "display_name": "Python 3"
    },
    "language_info": {
      "name": "python"
    }
  },
  "cells": [
    {
      "cell_type": "markdown",
      "metadata": {
        "id": "view-in-github",
        "colab_type": "text"
      },
      "source": [
        "<a href=\"https://colab.research.google.com/github/Advaith9/Advaith9/blob/Python_assignments/Assignment_6_1and6_2_for_range.ipynb\" target=\"_parent\"><img src=\"https://colab.research.google.com/assets/colab-badge.svg\" alt=\"Open In Colab\"/></a>"
      ]
    },
    {
      "cell_type": "markdown",
      "source": [
        "###Assignment6.1###\n",
        "# Solve 4.4 (Distance Traveled problem - Page 269 -Problem 4) using the \"for and range\" statements"
      ],
      "metadata": {
        "id": "Pf-1vLL9Z_N4"
      }
    },
    {
      "cell_type": "code",
      "source": [
        "###distance = speed * time  ###\n",
        "\n",
        "s = int(input(\"enter the speed in mph: \"))\n",
        "t = int(input (\"enter the time in hrs: \"))\n",
        "t1=1\n",
        "i=1\n",
        "print (\"Hour Distance Travelled\")\n",
        "for x in range (i, t+1):\n",
        "    d = int(s * t1)\n",
        "    print(int(i), int(d))\n",
        "    t1= t1+1\n",
        "    i= i+1"
      ],
      "metadata": {
        "colab": {
          "base_uri": "https://localhost:8080/"
        },
        "id": "a76dUNvxaDuZ",
        "outputId": "44562209-c708-4666-ef28-1568cec2c472"
      },
      "execution_count": 1,
      "outputs": [
        {
          "output_type": "stream",
          "name": "stdout",
          "text": [
            "enter the speed in mph: 70\n",
            "enter the time in hrs: 7\n",
            "Hour Distance Travelled\n",
            "1 70\n",
            "2 140\n",
            "3 210\n",
            "4 280\n",
            "5 350\n",
            "6 420\n",
            "7 490\n"
          ]
        }
      ]
    },
    {
      "cell_type": "markdown",
      "source": [
        "###Assignment6.2####"
      ],
      "metadata": {
        "id": "ixL5EUVXcKLY"
      }
    },
    {
      "cell_type": "code",
      "source": [
        "print(\"Celsius\" , \"Fahrenheit\")\n",
        "c=0\n",
        "for x in range (c, c+21):\n",
        "    f = ((9/5)*c + 32 )\n",
        "    print(c, f)\n",
        "    c= c+1"
      ],
      "metadata": {
        "colab": {
          "base_uri": "https://localhost:8080/"
        },
        "id": "TIV6TX2lcVac",
        "outputId": "d1d3b751-1283-4527-ec3a-35b1e65eb84d"
      },
      "execution_count": 2,
      "outputs": [
        {
          "output_type": "stream",
          "name": "stdout",
          "text": [
            "Celsius Fahrenheit\n",
            "0 32.0\n",
            "1 33.8\n",
            "2 35.6\n",
            "3 37.4\n",
            "4 39.2\n",
            "5 41.0\n",
            "6 42.8\n",
            "7 44.6\n",
            "8 46.4\n",
            "9 48.2\n",
            "10 50.0\n",
            "11 51.8\n",
            "12 53.6\n",
            "13 55.400000000000006\n",
            "14 57.2\n",
            "15 59.0\n",
            "16 60.8\n",
            "17 62.6\n",
            "18 64.4\n",
            "19 66.2\n",
            "20 68.0\n"
          ]
        }
      ]
    }
  ]
}