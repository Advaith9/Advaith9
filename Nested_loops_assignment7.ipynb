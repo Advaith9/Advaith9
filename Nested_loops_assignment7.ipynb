{
  "nbformat": 4,
  "nbformat_minor": 0,
  "metadata": {
    "colab": {
      "provenance": [],
      "collapsed_sections": [],
      "authorship_tag": "ABX9TyOJrquvp1o9iH4lRzbjILfP",
      "include_colab_link": true
    },
    "kernelspec": {
      "name": "python3",
      "display_name": "Python 3"
    },
    "language_info": {
      "name": "python"
    }
  },
  "cells": [
    {
      "cell_type": "markdown",
      "metadata": {
        "id": "view-in-github",
        "colab_type": "text"
      },
      "source": [
        "<a href=\"https://colab.research.google.com/github/Advaith9/Advaith9/blob/Python_assignments/Nested_loops_assignment7.ipynb\" target=\"_parent\"><img src=\"https://colab.research.google.com/assets/colab-badge.svg\" alt=\"Open In Colab\"/></a>"
      ]
    },
    {
      "cell_type": "markdown",
      "source": [
        "###Assignment7_Nested_loops_for_patterns####\n",
        "###14. Write a program that uses nested loops to draw this pattern####"
      ],
      "metadata": {
        "id": "LCr4nerZfaYf"
      }
    },
    {
      "cell_type": "code",
      "source": [
        "i=8\n",
        "for i in range(i,0,-1):\n",
        "    for j in range(0,i-1):\n",
        "        print(\"*\", end=' ')\n",
        "    print( )"
      ],
      "metadata": {
        "id": "k9wj_4J2fu2S",
        "colab": {
          "base_uri": "https://localhost:8080/"
        },
        "outputId": "3710022e-cd7f-4f77-f86b-32c0d90a52aa"
      },
      "execution_count": 1,
      "outputs": [
        {
          "output_type": "stream",
          "name": "stdout",
          "text": [
            "* * * * * * * \n",
            "* * * * * * \n",
            "* * * * * \n",
            "* * * * \n",
            "* * * \n",
            "* * \n",
            "* \n",
            "\n"
          ]
        }
      ]
    }
  ]
}