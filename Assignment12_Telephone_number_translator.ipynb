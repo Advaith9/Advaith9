{
  "nbformat": 4,
  "nbformat_minor": 0,
  "metadata": {
    "colab": {
      "provenance": [],
      "authorship_tag": "ABX9TyPdHXftGjQWGsQpup/XDpgL",
      "include_colab_link": true
    },
    "kernelspec": {
      "name": "python3",
      "display_name": "Python 3"
    },
    "language_info": {
      "name": "python"
    }
  },
  "cells": [
    {
      "cell_type": "markdown",
      "metadata": {
        "id": "view-in-github",
        "colab_type": "text"
      },
      "source": [
        "<a href=\"https://colab.research.google.com/github/Advaith9/Advaith9/blob/TheWeeknd/Assignment12_Telephone_number_translator.ipynb\" target=\"_parent\"><img src=\"https://colab.research.google.com/assets/colab-badge.svg\" alt=\"Open In Colab\"/></a>"
      ]
    },
    {
      "cell_type": "code",
      "execution_count": null,
      "metadata": {
        "id": "hSt3KjHVnH0Y"
      },
      "outputs": [],
      "source": []
    },
    {
      "cell_type": "markdown",
      "source": [
        "Many companies use telephone numbers like 555-GET-FOOD so the number is easier for their customers to remember. On a standard telephone, the alphabetic letters are mapped to numbers in the following fashion: A, B, and C = 2\n",
        "D, E, and F = 3\n",
        "G, H, and I = 4\n",
        "J, K, and L = 5\n",
        "M, N, and O = 6\n",
        "P, Q, R, and S = 7 T, U, and V = 8 W, X, Y, and Z = 9\n",
        "Write a program that asks the user to enter a 10-character telephone number in the format XXX- XXX-XXXX. The application should display the telephone number with any alphabetic characters that appeared in the original translated to their numeric equivalent. For example, if the user enters 555-GET-FOOD, the application should display 555-438-3663."
      ],
      "metadata": {
        "id": "3QyFpbIInISh"
      }
    },
    {
      "cell_type": "code",
      "source": [
        "telephone_number = input(\"Please enter telephone number in the format XXX-XXX-XXXX: \")\n",
        "\n",
        "# dictionary with letter-to-number mappings\n",
        "dictionary = {\n",
        "    'A': '2', 'B': '2', 'C': '2', 'D': '3', 'E': '3', 'F': '3',\n",
        "    'G': '4', 'H': '4', 'I': '4', 'J': '5', 'K': '5', 'L': '5',\n",
        "    'M': '6', 'N': '6', 'O': '6', 'P': '7', 'Q': '7', 'R': '7', 'S': '7',\n",
        "    'T': '8', 'U': '8', 'V': '8', 'W': '9', 'X': '9', 'Y': '9', 'Z': '9'\n",
        "}\n",
        "\n",
        "# iterate through each letter in the telephone number \n",
        "for letter in telephone_number:\n",
        "    if letter.isalpha():\n",
        "        telephone_number = telephone_number.replace(letter, dictionary[letter.upper()])\n",
        "\n",
        "print(telephone_number)"
      ],
      "metadata": {
        "colab": {
          "base_uri": "https://localhost:8080/"
        },
        "id": "EzzII43W42oc",
        "outputId": "4eee53de-e4b5-4a83-cb9e-b0529cd37350"
      },
      "execution_count": 5,
      "outputs": [
        {
          "output_type": "stream",
          "name": "stdout",
          "text": [
            "Please enter telephone number in the format XXX-XXX-XXXX: ckq-fqe-lpam\n",
            "257-373-5726\n"
          ]
        }
      ]
    }
  ]
}