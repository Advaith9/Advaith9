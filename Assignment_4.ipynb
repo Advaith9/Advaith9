{
  "nbformat": 4,
  "nbformat_minor": 0,
  "metadata": {
    "colab": {
      "provenance": [],
      "collapsed_sections": [],
      "authorship_tag": "ABX9TyOaiJL//BF5YWm565W1WSI1",
      "include_colab_link": true
    },
    "kernelspec": {
      "name": "python3",
      "display_name": "Python 3"
    },
    "language_info": {
      "name": "python"
    }
  },
  "cells": [
    {
      "cell_type": "markdown",
      "metadata": {
        "id": "view-in-github",
        "colab_type": "text"
      },
      "source": [
        "<a href=\"https://colab.research.google.com/github/Advaith9/Advaith9/blob/Python_assignments/Assignment_4.ipynb\" target=\"_parent\"><img src=\"https://colab.research.google.com/assets/colab-badge.svg\" alt=\"Open In Colab\"/></a>"
      ]
    },
    {
      "cell_type": "code",
      "execution_count": null,
      "metadata": {
        "id": "dlWPaE1o-XXk"
      },
      "outputs": [],
      "source": []
    },
    {
      "cell_type": "markdown",
      "source": [
        "###Assignemt_4 ## Budget_Analysis"
      ],
      "metadata": {
        "id": "YYiE_PiK-dZt"
      }
    },
    {
      "cell_type": "code",
      "source": [
        "# BudgetAnalysis\n",
        "\n",
        "budget= int(input(\"enter your budget for this month\"))\n",
        "expense =0\n",
        "week=1\n",
        "\n",
        "while(week <=4 ):\n",
        "    week_exp= int(input(\"Enter this week's expense\"))\n",
        "    print(week_exp)\n",
        "    week=week+1\n",
        "    expense = int(expense+week_exp)\n",
        "    \n",
        "\n",
        " \n",
        "if (expense > budget):\n",
        "        print(\" you are over the budget\")\n",
        "else:\n",
        "        print(\"you are under the budget\")"
      ],
      "metadata": {
        "id": "pH7GF6H2-bAD",
        "colab": {
          "base_uri": "https://localhost:8080/"
        },
        "outputId": "bee478c5-346f-4ee6-fac4-ab84d9089468"
      },
      "execution_count": 3,
      "outputs": [
        {
          "output_type": "stream",
          "name": "stdout",
          "text": [
            "enter your budget for this month100\n",
            "Enter this week's expense40\n",
            "40\n",
            "Enter this week's expense50\n",
            "50\n",
            "Enter this week's expense40\n",
            "40\n",
            "Enter this week's expense60\n",
            "60\n",
            " you are over the budget\n"
          ]
        }
      ]
    },
    {
      "cell_type": "markdown",
      "source": [
        "### Distance_Traveled ###"
      ],
      "metadata": {
        "id": "y3P5mRLEQ-E6"
      }
    },
    {
      "cell_type": "code",
      "source": [
        "\n",
        "###distance = speed * time  ###\n",
        "\n",
        "s = int(input(\"enter the speed in mph: \"))\n",
        "t = int(input (\"enter the time in hrs: \"))\n",
        "t1=1\n",
        "i=1\n",
        "print (\"Hour Distance Travelled\")\n",
        "while (i <= t):\n",
        "    d = int(s * t1)\n",
        "    print(int(i), int(d))\n",
        "    t1= t1+1\n",
        "    i= i+1\n"
      ],
      "metadata": {
        "id": "VuFa5_Q6Q6ed",
        "colab": {
          "base_uri": "https://localhost:8080/"
        },
        "outputId": "a215a597-0117-4963-dd5b-4802b8c68882"
      },
      "execution_count": 2,
      "outputs": [
        {
          "output_type": "stream",
          "name": "stdout",
          "text": [
            "enter the speed in mph: 65\n",
            "enter the time in hrs: 3\n",
            "Hour Distance Travelled\n",
            "1 65\n",
            "2 130\n",
            "3 195\n"
          ]
        }
      ]
    },
    {
      "cell_type": "markdown",
      "source": [
        "Celcius to Fahrenheit"
      ],
      "metadata": {
        "id": "6j3aqxMHtswB"
      }
    },
    {
      "cell_type": "code",
      "source": [
        "print(\"Celsius\" , \"Fahrenheit\")\n",
        "c=0\n",
        "while (c <= 20):\n",
        "    f = ((9/5)*c + 32 )\n",
        "    print(c, f)\n",
        "    c= c+1"
      ],
      "metadata": {
        "colab": {
          "base_uri": "https://localhost:8080/"
        },
        "id": "NE108pFmt0RP",
        "outputId": "3a2dafc9-a97b-4fa1-a6cd-e253b45eea0e"
      },
      "execution_count": 1,
      "outputs": [
        {
          "output_type": "stream",
          "name": "stdout",
          "text": [
            "Celsius Fahrenheit\n",
            "0 32.0\n",
            "1 33.8\n",
            "2 35.6\n",
            "3 37.4\n",
            "4 39.2\n",
            "5 41.0\n",
            "6 42.8\n",
            "7 44.6\n",
            "8 46.4\n",
            "9 48.2\n",
            "10 50.0\n",
            "11 51.8\n",
            "12 53.6\n",
            "13 55.400000000000006\n",
            "14 57.2\n",
            "15 59.0\n",
            "16 60.8\n",
            "17 62.6\n",
            "18 64.4\n",
            "19 66.2\n",
            "20 68.0\n"
          ]
        }
      ]
    }
  ]
}