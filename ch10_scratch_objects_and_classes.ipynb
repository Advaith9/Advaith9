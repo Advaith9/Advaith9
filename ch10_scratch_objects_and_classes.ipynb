{
  "nbformat": 4,
  "nbformat_minor": 0,
  "metadata": {
    "colab": {
      "provenance": [],
      "toc_visible": true,
      "include_colab_link": true
    },
    "kernelspec": {
      "name": "python3",
      "display_name": "Python 3"
    },
    "language_info": {
      "name": "python"
    }
  },
  "cells": [
    {
      "cell_type": "markdown",
      "metadata": {
        "id": "view-in-github",
        "colab_type": "text"
      },
      "source": [
        "<a href=\"https://colab.research.google.com/github/Advaith9/Advaith9/blob/Python102/ch10_scratch_objects_and_classes.ipynb\" target=\"_parent\"><img src=\"https://colab.research.google.com/assets/colab-badge.svg\" alt=\"Open In Colab\"/></a>"
      ]
    },
    {
      "cell_type": "markdown",
      "source": [
        "#Chapter 10. Objects and Classes\n",
        "## Siva.Jasthi@metrostate.edu\n",
        "### Python 102"
      ],
      "metadata": {
        "id": "xg63C9rrYT9f"
      }
    },
    {
      "cell_type": "markdown",
      "source": [
        "# Introduction to Objects and Classes"
      ],
      "metadata": {
        "id": "x56RTNIgfbC8"
      }
    },
    {
      "cell_type": "markdown",
      "source": [
        "# Coding Conventions\n",
        "1. Class names start with upper case\n",
        "2. Every class must have __str__ and __init__ methods\n",
        "These are called magic methods (Double Underscore methods) (DUNDER methods)\n",
        "Because these are called by PYTHON behind the scenes.\n"
      ],
      "metadata": {
        "id": "cDnSVywVjmR4"
      }
    },
    {
      "cell_type": "markdown",
      "source": [
        "# How does python think during print()\n",
        "\n",
        "1. Does the object have __str__( ) method?\n",
        "Let me use it\n",
        "\n",
        "2. If not, does the object have __repr__( ) method?\n",
        "Let me use it\n",
        "\n",
        "3. If not, does the parent of the object have __str__() method?\n",
        "Let me use it\n",
        "\n",
        "4. If not, does the parent of the object have __repr__() method?\n",
        "Let me use it"
      ],
      "metadata": {
        "id": "c0HSapHIr4tI"
      }
    },
    {
      "cell_type": "code",
      "source": [
        "\n",
        "#@title Defining a class (Version 1 - Do not use)\n",
        "\n",
        "# # Student (name, age, email)\n",
        "\n",
        "# # Created a class\n",
        "\n",
        "# class Student:\n",
        "\n",
        "#   def __init__(self, a_name, a_age, a_email):\n",
        "#     self.name = a_name\n",
        "#     self.age = a_age\n",
        "#     self.email = a_email\n",
        "\n",
        "#   ''' this is for programmers; or other python code snippets '''\n",
        "#   def __rep__(self):\n",
        "#     #Student (name: ___, age: __, email: ___)\n",
        "#     temp_str = f'Student (name:{self.name}, age:{self.age}, email:self.email)'\n",
        "#     return temp_str\n",
        "\n",
        "#   ''' this is for the end-users, user-friendly output '''\n",
        "#   def __str__(self):\n",
        "#     temp_str = ('\\n\\nHere are the student details' +\n",
        "#                 '\\nName: ' + self.name +\n",
        "#                '\\nAge: ' + str(self.age) +\n",
        "#                '\\nEmail: ' + self.email)\n",
        "#     return temp_str\n",
        "\n",
        "\n",
        "# # Create some instance\n",
        "\n",
        "# # when you create an instance, \"self here becomes student_1\"\n",
        "# student_1 = Student('Sumedh Ghatti', 15, 'sumedh.ghatti@gmail.com')\n",
        "\n",
        "# # How do I know the name of the student_1?\n",
        "# #print(\"Name: \", student_1.name)\n",
        "\n",
        "# # How do I know the email of the student_1?\n",
        "# #print(\"Email: \", student_1.email)\n",
        "# # How do I know the student_1 instance is created?\n",
        "# print(student_1)\n",
        "\n",
        "# # How do I make the output / dispaly useful?\n",
        "# student_2 = Student('Sai Chennupati', 17, 'Sai.chennupati@yahoo.com')\n",
        "# # print(\"Name: \", student_2.name)\n",
        "# # print(\"Email: \", student_2.email)\n",
        "\n",
        "# # Tell me about yourself; Or print all the vairables in user friendly format\n",
        "# print(student_2)\n",
        "\n",
        "\n",
        "# # create third instance\n",
        "# xyz = Student('Anika Khanna', 13, 'anika.khanna@gmail.com')\n",
        "# print(xyz)\n",
        "\n"
      ],
      "metadata": {
        "id": "Eu2vEw--aldQ",
        "colab": {
          "base_uri": "https://localhost:8080/"
        },
        "outputId": "e70a3bc6-63d9-4761-bdaa-2c736889f6b4"
      },
      "execution_count": null,
      "outputs": [
        {
          "output_type": "stream",
          "name": "stdout",
          "text": [
            "\n",
            "\n",
            "Here are the student details\n",
            "Name: Sumedh Ghatti\n",
            "Age: 15\n",
            "Email: sumedh.ghatti@gmail.com\n",
            "\n",
            "\n",
            "Here are the student details\n",
            "Name: Sai Chennupati\n",
            "Age: 17\n",
            "Email: Sai.chennupati@yahoo.com\n",
            "\n",
            "\n",
            "Here are the student details\n",
            "Name: Anika Khanna\n",
            "Age: 13\n",
            "Email: anika.khanna@gmail.com\n"
          ]
        }
      ]
    },
    {
      "cell_type": "code",
      "source": [
        "\n",
        "#@title Defining a class (Version 2)\n",
        "\n",
        "# Student (name, age, email)\n",
        "\n",
        "# Created a class\n",
        "\n",
        "class Student:\n",
        "\n",
        "  def __init__(self, a_name, a_age, a_email):\n",
        "    self.name = a_name\n",
        "    self.age = a_age\n",
        "    self.email = a_email\n",
        "\n",
        "\n",
        "  ''' this is for programmers; or other python code snippets '''\n",
        "  def __repr__(self):\n",
        "    #Student (name: ___, age: __, email: ___)\n",
        "    temp_str = f'Student (name:{self.name}, age:{self.age}, email:{self.email})'\n",
        "    return temp_str\n",
        "\n",
        "  ''' this is for the end-users, user-friendly output '''\n",
        "  def __str__(self):\n",
        "    temp_str = ('\\nName: ' + self.name +\n",
        "               '\\nAge: ' + str(self.age) +\n",
        "               '\\nEmail: ' + self.email)\n",
        "    return temp_str\n",
        "\n",
        "# Create some instances\n",
        "student_1 = Student('Sumedh Ghatti', 15, 'sumedh.ghatti@gmail.com')\n",
        "print('\\n\\nRepresentation: ', repr(student_1))\n",
        "print('String representation: ', student_1)\n",
        "\n",
        "student_2 = Student('Sai Chennupati', 17, 'Sai.chennupati@yahoo.com')\n",
        "print('\\n\\nRepresentation: ', repr(student_2))\n",
        "print('String representation: ', student_2)\n",
        "\n",
        "\n",
        "xyz = Student('Anika Khanna', 13, 'anika.khanna@gmail.com')\n",
        "print('\\n\\nRepresentation: ', repr(xyz))\n",
        "print('String representation: ', xyz)"
      ],
      "metadata": {
        "colab": {
          "base_uri": "https://localhost:8080/"
        },
        "id": "-3W3mVkSpYMC",
        "outputId": "4cb1a61f-7c2c-41d2-f7fc-16defb4442b0"
      },
      "execution_count": null,
      "outputs": [
        {
          "output_type": "stream",
          "name": "stdout",
          "text": [
            "\n",
            "\n",
            "Representation:  Student (name:Sumedh Ghatti, age:15, email:sumedh.ghatti@gmail.com)\n",
            "String representation:  \n",
            "Name: Sumedh Ghatti\n",
            "Age: 15\n",
            "Email: sumedh.ghatti@gmail.com\n",
            "\n",
            "\n",
            "Representation:  Student (name:Sai Chennupati, age:17, email:Sai.chennupati@yahoo.com)\n",
            "String representation:  \n",
            "Name: Sai Chennupati\n",
            "Age: 17\n",
            "Email: Sai.chennupati@yahoo.com\n",
            "\n",
            "\n",
            "Representation:  Student (name:Anika Khanna, age:13, email:anika.khanna@gmail.com)\n",
            "String representation:  \n",
            "Name: Anika Khanna\n",
            "Age: 13\n",
            "Email: anika.khanna@gmail.com\n"
          ]
        }
      ]
    },
    {
      "cell_type": "markdown",
      "source": [
        "# Assignment 5 Instructions\n",
        "1. Create a python class assigned to you.\n",
        "2. Ensure that each class has these two magic methods  __str__ and __repr_ methods.\n",
        "3. Create three objects (instances) for your class.\n",
        "4. print the object\n",
        "5. print the representation of the object\n",
        "6. Please make sure that you use \"Student\" class I demonstrated in the classroom as example  / template.\n",
        "\n",
        "\n",
        "1. Student  (done)\n",
        "name, email, age\n",
        "\n",
        "2. Car  (Anika)\n",
        "make, model, year\n",
        "\n",
        "3. Book  (Nidhi)\n",
        "title, author, publication_year\n",
        "\n",
        "4. Dog   (Nithin)\n",
        "name, breed, age\n",
        "\n",
        "5. Employee  (Prabhav)\n",
        "name, employee_id, salary\n",
        "\n",
        "6. Circle  (Rama)\n",
        "radius, color, area\n",
        "\n",
        "7. BankAccount  (Samhita)\n",
        "account_number, balance, owner\n",
        "\n",
        "8. Movie (Prashanti)\n",
        "title, director, release_year\n",
        "\n",
        "9. Song (Sai)\n",
        "title, artist, duration\n",
        "\n",
        "10. Address (Sumedh)\n",
        "street, city, postal_code\n",
        "\n",
        "11. Restaurant (Ahala)\n",
        "name, cuisine, rating\n",
        "\n",
        "12. Laptop (Krish)\n",
        "brand, model, price\n",
        "\n",
        "13. Course (Nakul)\n",
        "course_code, instructor, credits\n",
        "\n",
        "14. Country (Om)\n",
        "name, population, capital_city\n",
        "\n",
        "15. Smartphone (Pavani)\n",
        "brand, model, screen_size\n",
        "\n",
        "16. House (Satish)\n",
        "area, owner, cost\n",
        "\n",
        "17. Pen (Mayukha)\n",
        "brand, color, name\n",
        "\n",
        "Each class represents a real-world entity, and the attributes associated with each class provide information about that entity.\n"
      ],
      "metadata": {
        "id": "JYYyUb4MuPiI"
      }
    },
    {
      "cell_type": "code",
      "source": [
        "#@title  Assignment 5"
      ],
      "metadata": {
        "id": "7YwzphFHMr3q"
      },
      "execution_count": null,
      "outputs": []
    },
    {
      "cell_type": "markdown",
      "source": [
        "# Examples of Classes"
      ],
      "metadata": {
        "id": "F_cJEY6WhDuc"
      }
    },
    {
      "cell_type": "code",
      "source": [
        "#@title Car (Anika) make, model, year\n",
        "class Car:\n",
        "\n",
        "    def __init__(self, a_make, a_model, a_year):\n",
        "        self.make = a_make\n",
        "        self.model = a_model\n",
        "        self.year = a_year\n",
        "\n",
        "    def __repr__(self):\n",
        "        temp_str = f'Student (name:{self.make}, model:{self.model}, year:{self.year})'\n",
        "        return temp_str\n",
        "\n",
        "    def __str__(self):\n",
        "        temp_str = ('\\nMake: ' + self.make +\n",
        "                    '\\nModel: ' + self.model +\n",
        "                    '\\nYear: ' + str(self.year))\n",
        "        return temp_str\n",
        "\n",
        "\n",
        "\n",
        "# Creating the car objects\n",
        "car_1 = Car('Toyota', 'Supra', 2002)\n",
        "print('\\n\\nRepresentation: ', repr(car_1))\n",
        "print('String representation: ', car_1)\n",
        "\n",
        "car_2 = Car('Ford', 'Mustang', 1989)\n",
        "print('\\n\\nRepresentation: ', repr(car_2))\n",
        "print('String representation: ', car_2)\n",
        "\n",
        "abc = Car('Volkswagen', 'Beetle', 1999)\n",
        "print('\\n\\nRepresentation: ', repr(abc))\n",
        "print('String representation: ', abc)"
      ],
      "metadata": {
        "colab": {
          "base_uri": "https://localhost:8080/"
        },
        "id": "xnLAn4N_hNZU",
        "outputId": "9f550c20-58b0-40cf-abdf-9415ca343192"
      },
      "execution_count": null,
      "outputs": [
        {
          "output_type": "stream",
          "name": "stdout",
          "text": [
            "\n",
            "\n",
            "Representation:  Student (name:Toyota, model:Supra, year:2002)\n",
            "String representation:  \n",
            "Make: Toyota\n",
            "Model: Supra\n",
            "Year: 2002\n",
            "\n",
            "\n",
            "Representation:  Student (name:Ford, model:Mustang, year:1989)\n",
            "String representation:  \n",
            "Make: Ford\n",
            "Model: Mustang\n",
            "Year: 1989\n",
            "\n",
            "\n",
            "Representation:  Student (name:Volkswagen, model:Beetle, year:1999)\n",
            "String representation:  \n",
            "Make: Volkswagen\n",
            "Model: Beetle\n",
            "Year: 1999\n"
          ]
        }
      ]
    },
    {
      "cell_type": "code",
      "source": [
        "#@title Book (Nidhi) title, author, publication_year\n",
        "class Book:\n",
        "  def __init__(self, title, author, publication_year):\n",
        "    self.title = title\n",
        "    self.author = author\n",
        "    self.publication_year = publication_year\n",
        "\n",
        "  def __repr__(self) -> str:\n",
        "    book_string = f'Book: (Title:{self.title}, Author:{self.author}, Publication_year:{self.publication_year})'\n",
        "    return book_string\n",
        "\n",
        "  def __str__(self) -> str:\n",
        "    book_string = ('\\nBook details:' +\n",
        "              '\\nTitle: ' + str(self.title) +\n",
        "              '\\nAuthor: ' + str(self.author) +\n",
        "              '\\nPublication Year: ' + str(self.publication_year))\n",
        "    return book_string\n",
        "\n",
        "#Creating some book objects\n",
        "book1 = Book(\"Red Queen\", \"Victoria Aveyard\", 2015)\n",
        "print('Representation: ', repr(book1))\n",
        "print('String representation: ', book1)\n",
        "\n",
        "#Creating some book objects\n",
        "book1 = Book(\"Red Queen\", \"Victoria Aveyard\", 2015)\n",
        "print('Representation: ', repr(book1))\n",
        "print('String representation: ', book1)\n",
        "\n"
      ],
      "metadata": {
        "colab": {
          "base_uri": "https://localhost:8080/"
        },
        "id": "qyPuGyoXhQtf",
        "outputId": "b24a8f7c-1720-4466-e085-efa2f27f507c"
      },
      "execution_count": null,
      "outputs": [
        {
          "output_type": "stream",
          "name": "stdout",
          "text": [
            "Representation:  Book: (Title:Red Queen, Author:Victoria Aveyard, Publication_year:2015)\n",
            "String representation:  \n",
            "Book details:\n",
            "Title: Red Queen\n",
            "Author: Victoria Aveyard\n",
            "Publication Year: 2015\n"
          ]
        }
      ]
    },
    {
      "cell_type": "code",
      "source": [
        "#@title Dog (Nithin) name, breed, age\n",
        "class Dog:\n",
        "\n",
        "    def __init__(self, name, breed, age):\n",
        "        self.name = name\n",
        "        self.breed = breed\n",
        "        self.age = age\n",
        "\n",
        "    def __str__(self):\n",
        "        return f\"Name: {self.name}\\nBreed: {self.breed}\\nAge: {self.age}\"\n",
        "\n",
        "    def __repr__(self):\n",
        "        return f\"Dog(name='{self.name}', breed='{self.breed}', age={self.age})\"\n",
        "\n",
        "# creating some objects\n",
        "dog1 = Dog(\"Max\", \"Labrador Retriever\", 5)\n",
        "dog2 = Dog(\"Charlie\", \"Golden Retriever\", 3)\n",
        "dog3 = Dog(\"Luna\", \"German Shepherd\", 2)\n",
        "\n",
        "\n",
        "print(dog1)\n",
        "print(dog2)\n",
        "print(dog3)\n",
        "\n",
        "\n",
        "print(repr(dog1))\n",
        "print(repr(dog2))\n",
        "print(repr(dog3))"
      ],
      "metadata": {
        "colab": {
          "base_uri": "https://localhost:8080/"
        },
        "id": "K79CZEt_hUcK",
        "outputId": "def4a710-fafb-499f-81cb-4a45fd3917f4"
      },
      "execution_count": null,
      "outputs": [
        {
          "output_type": "stream",
          "name": "stdout",
          "text": [
            "Name: Max\n",
            "Breed: Labrador Retriever\n",
            "Age: 5\n",
            "Name: Charlie\n",
            "Breed: Golden Retriever\n",
            "Age: 3\n",
            "Name: Luna\n",
            "Breed: German Shepherd\n",
            "Age: 2\n",
            "Dog(name='Max', breed='Labrador Retriever', age=5)\n",
            "Dog(name='Charlie', breed='Golden Retriever', age=3)\n",
            "Dog(name='Luna', breed='German Shepherd', age=2)\n"
          ]
        }
      ]
    },
    {
      "cell_type": "code",
      "source": [
        "#@title Employee (Prabhav) name, employee_id, salary\n",
        "\n",
        "class Employee:\n",
        "  def init(self, name, id, salary, years_employed):\n",
        "    self.name = name\n",
        "    self.id = id\n",
        "    self.salary = salary\n",
        "    self.years_employed = years_employed\n",
        "  def repr(self) -> str:\n",
        "  string = f'Employee: (Name:{self.name}, ID:{self.id}, Salary:{self.salary}, Years_Employed:{self.years_employed})'\n",
        "  return string\n",
        "\n",
        "  def str(self) -> str:\n",
        "  string = ('\\nEmployee Details:' +\n",
        "  '\\nName:' + str(self.name) +\n",
        "  '\\nID:' + str(self.id) +\n",
        "  '\\nSalary:' + str(self.salary) +\n",
        "  '\\nYears Employed:' + str(self.years_employed))\n",
        "  return string\n",
        "  employee1 = Employee(\"H\", 58649, 80000, 2.5)\n",
        "  print('Representation: ', repr(employee1))\n",
        "  print('String representation: ', employee1)\n",
        "  employee2 = Employee(\"J\", 98245, 600000, 6)\n",
        "  print('\\nRepresentation: ', repr(employee2))\n",
        "  print('String representation: ', employee2)\n",
        "  employee3 = Employee(\"K\", 52639, 40000, 0.6)\n",
        "  print('\\nRepresentation: ', repr(employee3))\n",
        "  print('String representation: ', employee3)"
      ],
      "metadata": {
        "id": "sD-POqBDhXPy"
      },
      "execution_count": null,
      "outputs": []
    },
    {
      "cell_type": "code",
      "source": [
        "#@title Circle (Rama) radius, color, area\n",
        "\n",
        "Circle [radius, color, area]\n"
      ],
      "metadata": {
        "id": "F-JGlbeFhaCz"
      },
      "execution_count": null,
      "outputs": []
    },
    {
      "cell_type": "code",
      "source": [
        "#@title BankAccount (Samhita) account_number, balance, owner\n",
        "\n",
        "Movie (Prashanti) title, director, release_year\n",
        "\n",
        "Song (Sai) title, artist, duration\n",
        "\n",
        "Address (Sumedh) street, city, postal_code\n",
        "\n",
        "Restaurant (Ahala) name, cuisine, rating\n",
        "\n",
        "Laptop (Krish) brand, model, price\n",
        "\n",
        "Course (Nakul) course_code, instructor, credits\n",
        "\n",
        "Country (Om) name, population, capital_city\n",
        "\n",
        "Smartphone (Pavani) brand, model, screen_size\n",
        "\n",
        "House (Satish) area, owner, cost"
      ],
      "metadata": {
        "id": "9F10X_A6hdAb"
      },
      "execution_count": null,
      "outputs": []
    },
    {
      "cell_type": "markdown",
      "source": [
        "# Project ABCD: class name\n",
        "tag_line\n",
        "description\n",
        "did_you_know\n"
      ],
      "metadata": {
        "id": "uN2B-8BRjN3b"
      }
    },
    {
      "cell_type": "code",
      "source": [
        "#@title Python Class Generator\n",
        "\n",
        "#Given a class name and its properties, can you write a python program to write python code for the class?\n",
        "\n",
        "#input_str = input('Enter your class details (ex:  Student [name, email, age]): ')\n",
        "input_str = 'Car [make, model, color]'\n",
        "#input_str = 'Student [name, email, age]'\n",
        "#input_str = 'Student [name, email, age, country]'\n",
        "#input_str = 'Student [name, email, age, country, language]'\n",
        "\n",
        "input_str_tokens = input_str.split()\n",
        "print(input_str_tokens)\n",
        "\n",
        "\n",
        "elem_list = []\n",
        "for elem in input_str_tokens:\n",
        "  elem = elem.replace('[', '')\n",
        "  elem = elem.replace(']', '')\n",
        "  elem = elem.replace(',', '')\n",
        "  #print(elem)\n",
        "  elem_list.append(elem)\n",
        "\n",
        "\n",
        "class_name = elem_list[0]\n",
        "property_list = elem_list[1:]\n",
        "\n",
        "print('Class Name: ', class_name)\n",
        "print('Property List: ', property_list)\n",
        "\n"
      ],
      "metadata": {
        "colab": {
          "base_uri": "https://localhost:8080/"
        },
        "id": "Tr4cTO1yjnHi",
        "outputId": "7020c336-3819-4771-87e3-856ba073b33e"
      },
      "execution_count": null,
      "outputs": [
        {
          "output_type": "stream",
          "name": "stdout",
          "text": [
            "['Car', '[make,', 'model,', 'color]']\n",
            "Class Name:  Car\n",
            "Property List:  ['make', 'model', 'color']\n"
          ]
        }
      ]
    },
    {
      "cell_type": "code",
      "source": [
        "#@title Processing class_name and property_list\n",
        "\n",
        "\n",
        "    # def __init__(self, make, model, year):\n",
        "    #     self.make = make\n",
        "    #     self.model = model\n",
        "    #     self.year = year\n",
        "\n",
        "\n",
        "def get_init_code(property_list):  # I will do this now\n",
        "  init_code = \"\\n\\n# Defining the __init__ method\"\n",
        "  init_code += '\\n\\tdef __init__(self, '\n",
        "  for each_property in property_list:\n",
        "    init_code += each_property + ', '\n",
        "\n",
        "  # replace the last , with ):\n",
        "  init_code = init_code[0:-2]\n",
        "  init_code = init_code + \"):\"\n",
        "\n",
        "  for each_property in property_list:\n",
        "    init_code += f'\\n\\t\\tself.{each_property} = {each_property}'\n",
        "\n",
        "  init_code += '\\n'\n",
        "\n",
        "\n",
        "\n",
        "  return init_code\n",
        "\n",
        "def get_repr_code(class_name, property_list):  # Assignment 6 (1/3 of the class)\n",
        "  init_code = '\\nrepr to be done'\n",
        "  # TBD\n",
        "  return init_code\n",
        "\n",
        "def get_str_code(class_name, property_list):  # Assignment 6 (1/3 of the class)\n",
        "  init_code = '\\nstr to be done'\n",
        "  # TBD\n",
        "  return init_code\n",
        "\n",
        "def get_obj_creation_code(class_name, property_list):  # Assignment 6 (1/3 of the class)\n",
        "  init_code = '\\nobj creation to be done'\n",
        "  # TBD\n",
        "  return init_code\n",
        "\n",
        "def create_python_class(class_name, property_list):\n",
        "  python_code = f\"\"\"#@title {class_name} {property_list}\"\"\"\n",
        "  python_code +=  \"\\nclass \" + class_name + \":\"\n",
        "  python_code +=  get_init_code(property_list)\n",
        "  python_code +=  get_repr_code(class_name, property_list)\n",
        "  python_code +=  get_str_code(class_name, property_list)\n",
        "  return (python_code)\n",
        "\n",
        "#call the method\n",
        "final_python_code = create_python_class(class_name, property_list)\n",
        "\n",
        "\n",
        "# print the code to the console\n",
        "print(final_python_code)\n",
        "\n",
        "# write the code to a file\n",
        "output_file_name = class_name + \".py\"\n",
        "output_file_name = class_name + \".py\"\n",
        "output_file_obj = open(output_file_name, 'w')\n",
        "output_file_obj.write(final_python_code)\n",
        "output_file_obj.close()\n"
      ],
      "metadata": {
        "colab": {
          "base_uri": "https://localhost:8080/"
        },
        "id": "Wzg-6GYFm0BK",
        "outputId": "8a1af4fa-9223-477b-fe12-dfc9aec9badb"
      },
      "execution_count": null,
      "outputs": [
        {
          "output_type": "stream",
          "name": "stdout",
          "text": [
            "#@title Car ['make', 'model', 'color']\n",
            "class Car:\n",
            "\n",
            "# Defining the __init__ method\n",
            "\tdef __init__(self, make, model, color):\n",
            "\t\tself.make = make\n",
            "\t\tself.model = model\n",
            "\t\tself.color = color\n",
            "\n",
            "repr to be done\n",
            "str to be done\n"
          ]
        }
      ]
    },
    {
      "cell_type": "markdown",
      "source": [],
      "metadata": {
        "id": "C-Uya9JEuNb5"
      }
    },
    {
      "cell_type": "code",
      "source": [
        "name = \"Siva Jasthi\"\n",
        "place = \"Minneapolis\"\n",
        "\n",
        "name = \"Samhita\"\n",
        "place = \"Plymouth\"\n",
        "\n",
        "name = \"abc\"\n",
        "place = \"xyz\"\n",
        "\n",
        "output_str = f\"{name} lives in {place}\"\n",
        "print(output_str)"
      ],
      "metadata": {
        "colab": {
          "base_uri": "https://localhost:8080/"
        },
        "id": "bf-qJtfFnfnA",
        "outputId": "d903e6d4-476d-4794-d21f-3588faeeb819"
      },
      "execution_count": null,
      "outputs": [
        {
          "output_type": "stream",
          "name": "stdout",
          "text": [
            "abc lives in xyz\n"
          ]
        }
      ]
    },
    {
      "cell_type": "markdown",
      "source": [
        "# Assignment 6 Instructions\n",
        "```\n",
        "== Write get_repr_code( ) method in Python Class Generator\n",
        "\n",
        "Anika\n",
        "Nidhi\n",
        "Nithin\n",
        "Prabhav\n",
        "Rama\n",
        "\n",
        "== Write get_str_code( ) method in Python Class Generator\n",
        "\n",
        "Samhita\n",
        "Prashanti\n",
        "Sai\n",
        "Sumedh\n",
        "Ahala\n",
        "\n",
        "\n",
        "\n",
        "== Write get_obj_create_code( ) method in Python class creator\n",
        "\n",
        "Krish\n",
        "Nakul\n",
        "Om\n",
        "Pavani\n",
        "Satish\n",
        "Mayukha\n",
        "```\n",
        "\n",
        "What is our measure of success for A6\n",
        "\n",
        "1. We will compile all the code into one big program\n",
        "\n",
        "2. We will test that combined program against\n",
        "- the class you have written in Assignment 5\n",
        "-- the class we will be writing for ABCD\n"
      ],
      "metadata": {
        "id": "kmyWyFltuPRZ"
      }
    }
  ]
}