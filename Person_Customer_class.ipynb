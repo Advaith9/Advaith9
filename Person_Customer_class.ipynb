{
  "nbformat": 4,
  "nbformat_minor": 0,
  "metadata": {
    "colab": {
      "provenance": [],
      "authorship_tag": "ABX9TyMd8dI5TnoK2UqushuvkqdF",
      "include_colab_link": true
    },
    "kernelspec": {
      "name": "python3",
      "display_name": "Python 3"
    },
    "language_info": {
      "name": "python"
    }
  },
  "cells": [
    {
      "cell_type": "markdown",
      "metadata": {
        "id": "view-in-github",
        "colab_type": "text"
      },
      "source": [
        "<a href=\"https://colab.research.google.com/github/Advaith9/Advaith9/blob/Python102/Person_Customer_class.ipynb\" target=\"_parent\"><img src=\"https://colab.research.google.com/assets/colab-badge.svg\" alt=\"Open In Colab\"/></a>"
      ]
    },
    {
      "cell_type": "code",
      "execution_count": 7,
      "metadata": {
        "colab": {
          "base_uri": "https://localhost:8080/"
        },
        "id": "5ruawnRCIK30",
        "outputId": "0223c4c3-f3c6-4071-c45d-897300aec932"
      },
      "outputs": [
        {
          "output_type": "stream",
          "name": "stdout",
          "text": [
            "__Person_Name: Siva __Person_Address: 123 A Street__Telephone_number 4532343424 __Customer_number: 123__Subscribe_to_mailing_list: Yes\n",
            "__Person_Name: Mahesh __Person_Address: 456B street__Telephone_number 3224145891 __Customer_number: 123__Subscribe_to_mailing_list: No\n",
            "__Person_Name: Amit __Person_Address: 789 C drive__Telephone_number 8817017130 __Customer_number: 123__Subscribe_to_mailing_list: Yes\n"
          ]
        }
      ],
      "source": [
        "class Person:\n",
        "    def __init__(self, name, address, phone_number):\n",
        "        self.__name = name\n",
        "        self.__address = address\n",
        "        self.__phone_number = phone_number\n",
        "\n",
        "    def get_name(self):\n",
        "        return self.__name\n",
        "\n",
        "    def get_address(self):\n",
        "        return self.__address\n",
        "\n",
        "    def get_phone_number(self):\n",
        "        return self.__phone_number\n",
        "\n",
        "    def set_name(self, new_name):\n",
        "        self.__name = new_name\n",
        "\n",
        "    def set_phone_number(self, new_phone_number):\n",
        "        self.__phone_number = phone_number\n",
        "\n",
        "    def set_address(self, new_address):\n",
        "        self.__address = new_address\n",
        "\n",
        "    def __repr__(self):\n",
        "        return \" Person Name: \" + self.__name + \" Person Address: \" + self.__address + \" Phone Number:  \" + self.__phone_number\n",
        "\n",
        "    def __str__(self):\n",
        "        return \" Person Name: \" + self.__name + \" Person Address: \" + self.__address + \" Phone Number: \" + self.__phone_number\n",
        "\n",
        "# creating instances\n",
        "# p_1 = Person(\"Siva\",\"123 A Street\" , \"4532343424\")\n",
        "# p_2 = Person(\"Mahesh\",\"456\" \"B street\" , \"3224145891\")\n",
        "# p_3 = Person(\"Amit\",\"789 C drive\", \"8817017130\")\n",
        "\n",
        "# print(p_1)\n",
        "# print(p_2)\n",
        "# print(p_3)\n",
        "\n",
        "\n",
        "class Customer(Person):\n",
        "    def __init__(self, name, address, phone_number, customer_number, subscribe_to_mailing_list ):\n",
        "        super().__init__(name, address, phone_number)\n",
        "        self.__customer_number = customer_number\n",
        "        self.__subscribe_to_mailing_list = subscribe_to_mailing_list\n",
        "\n",
        "    def __repr__(self):\n",
        "          return \"__Person_Name: \" + self.get_name() + \\\n",
        "               \" __Person_Address: \" + self.get_address()  + \\\n",
        "               \"__Telephone_number \" + self.get_phone_number()   + \\\n",
        "               \" __Customer_number: \" + self.__customer_number()  + \\\n",
        "               \"__Subscribe_to_mailing_list: \" + self.__subscibe_to_mailing_list()\n",
        "\n",
        "    def __str__(self):\n",
        "        return \"__Person_Name: \" + self.get_name() + \\\n",
        "               \" __Person_Address: \" + self.get_address()  + \\\n",
        "               \"__Telephone_number \" + self.get_phone_number()   + \\\n",
        "               \" __Customer_number: \" + self.get_customer_number()  + \\\n",
        "               \"__Subscribe_to_mailing_list: \" + self.get_subscribe_to_mailing_list()\n",
        "\n",
        "\n",
        "\n",
        "    def get_customer_number(self):\n",
        "        return self.__customer_number\n",
        "\n",
        "    def get_subscribe_to_mailing_list(self):\n",
        "        return self.__subscribe_to_mailing_list\n",
        "\n",
        "    def set_customer_number(self, new__customer_number):\n",
        "        self.__customer_number = new__customer_number\n",
        "\n",
        "    def set_subscribe_to_mailing_list(self, new_subscribe_to_mailing_list):\n",
        "        self.__subscribe_to_mailing_list = new_subscribe_to_mailing_list\n",
        "\n",
        "\n",
        "# creating instances\n",
        "c_1 = Customer(\"Siva\",\"123 A Street\" , \"4532343424\",  \"123\" , \"Yes\")\n",
        "c_2 = Customer(\"Mahesh\",\"456\" \"B street\" , \"3224145891\", \"123\", \"No\")\n",
        "c_3 = Customer(\"Amit\",\"789 C drive\", \"8817017130\", \"123\", \"Yes\")\n",
        "\n",
        "print(c_1)\n",
        "print(c_2)\n",
        "print(c_3)"
      ]
    },
    {
      "cell_type": "markdown",
      "source": [
        "3. Person and Customer Classes\n",
        "Write a class named Person with data attributes for a person’s name, address, and tel-\n",
        "ephone number. Next, write a class named Customer that is a subclass of the Person class. The Customer class should have a data attribute for a customer number, and a Boolean data attribute indicating whether the customer wishes to be on a mailing list. Demonstrate an instance of the Customer class in a simple program."
      ],
      "metadata": {
        "id": "V8BNDLL9MOLU"
      }
    }
  ]
}