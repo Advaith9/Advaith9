{
  "nbformat": 4,
  "nbformat_minor": 0,
  "metadata": {
    "colab": {
      "provenance": [],
      "authorship_tag": "ABX9TyN6eLNGl0lGgEl9i7VuJxAl",
      "include_colab_link": true
    },
    "kernelspec": {
      "name": "python3",
      "display_name": "Python 3"
    },
    "language_info": {
      "name": "python"
    }
  },
  "cells": [
    {
      "cell_type": "markdown",
      "metadata": {
        "id": "view-in-github",
        "colab_type": "text"
      },
      "source": [
        "<a href=\"https://colab.research.google.com/github/Advaith9/Advaith9/blob/Python_assignments/Assignment_17_word_frequency.ipynb\" target=\"_parent\"><img src=\"https://colab.research.google.com/assets/colab-badge.svg\" alt=\"Open In Colab\"/></a>"
      ]
    },
    {
      "cell_type": "code",
      "source": [
        "# Load the input file\n",
        "with open('input_text.txt') as input_text_file_obj:\n",
        "    all_text = input_text_file_obj.read()\n",
        "\n",
        "# Split the text into words\n",
        "words = all_text.split()\n",
        "\n",
        "# Create a dictionary to store the word counts\n",
        "word_counts = {}\n",
        "\n",
        "# Count the occurrences of each word\n",
        "for word in words:\n",
        "    if word in word_counts:\n",
        "        word_counts[word] += 1\n",
        "    else:\n",
        "        word_counts[word] = 1\n",
        "\n",
        "# Print the word counts\n",
        "for word, count in word_counts.items():\n",
        "    print(f\"{word}: {count}\")\n"
      ],
      "metadata": {
        "colab": {
          "base_uri": "https://localhost:8080/"
        },
        "id": "PzlXMtR-pGe9",
        "outputId": "a9edbf28-528d-401e-dede-d267dc446fb7"
      },
      "execution_count": 3,
      "outputs": [
        {
          "output_type": "stream",
          "name": "stdout",
          "text": [
            "Hello: 2\n",
            "World: 1\n",
            "Python: 1\n",
            "How: 1\n",
            "are: 1\n",
            "you: 1\n",
            "doing: 1\n",
            "Good: 1\n",
            "Morning: 1\n",
            "This: 1\n",
            "is: 1\n",
            "awesome: 1\n",
            "Apple: 2\n",
            "Ant: 3\n",
            "Bread: 1\n",
            "Orange: 4\n",
            "Grapes: 6\n",
            "Watermelon: 4\n"
          ]
        }
      ]
    }
  ]
}