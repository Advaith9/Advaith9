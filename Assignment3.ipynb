{
  "nbformat": 4,
  "nbformat_minor": 0,
  "metadata": {
    "colab": {
      "provenance": [],
      "collapsed_sections": [],
      "authorship_tag": "ABX9TyNskek48xTw3UTBkGXh6xhr",
      "include_colab_link": true
    },
    "kernelspec": {
      "name": "python3",
      "display_name": "Python 3"
    },
    "language_info": {
      "name": "python"
    }
  },
  "cells": [
    {
      "cell_type": "markdown",
      "metadata": {
        "id": "view-in-github",
        "colab_type": "text"
      },
      "source": [
        "<a href=\"https://colab.research.google.com/github/Advaith9/Advaith9/blob/Python_assignments/Assignment3.ipynb\" target=\"_parent\"><img src=\"https://colab.research.google.com/assets/colab-badge.svg\" alt=\"Open In Colab\"/></a>"
      ]
    },
    {
      "cell_type": "code",
      "execution_count": null,
      "metadata": {
        "id": "8IkLNc6KL2Q3"
      },
      "outputs": [],
      "source": [
        "### ASSIGNMENT 3.10 --- Money counting game ###\n",
        "\n",
        "Pennies = int(input(\"enter the number of pennies: \"))\n",
        "Dimes = int(input(\"enter the number of dimes:\"))\n",
        "Quarters = int(input(\"enter th number of quarters:\"))\n",
        "Nickels = int(input(\"enter the number of nickels:\"))\n",
        "\n",
        "Total = float((Pennies/100) + (Dimes/10) + (Quarters/4) + (Nickels/20))\n",
        "\n",
        "print(\"The total amount entered is\", Total)\n",
        "\n",
        "if (Total == 1.00):\n",
        "   print(\"Congratulations!!!! , You are a winner\")\n",
        "   \n",
        "elif (Total > 1.00):\n",
        "    print(\"Sorry, You did not win, the amount entered is more than a dollar\")\n",
        "    \n",
        "elif (Total < 1.00):\n",
        "    print(\"Sorry, You did not win, the amount entered is less than a dollar\")"
      ]
    },
    {
      "cell_type": "markdown",
      "source": [],
      "metadata": {
        "id": "PuJRPOIxMJAq"
      }
    },
    {
      "cell_type": "code",
      "source": [
        "### assignment_3_Book_Club_Points ####\n",
        "\n",
        "books = int(input(\"enter number of books purchased this month \"))\n",
        "\n",
        "if (books <2):\n",
        "    print(\"you have earned 0 points\")\n",
        "    \n",
        "elif (books <4):\n",
        "    print(\"you have earned 5 points\")\n",
        "    \n",
        "elif (books <6):\n",
        "    print(\"you have earned 15 points\")\n",
        "    \n",
        "elif (books <8):\n",
        "    print(\"you have earned 30 points\")\n",
        "    \n",
        "elif (books >7):\n",
        "    print(\"you have earned 60 points\")"
      ],
      "metadata": {
        "colab": {
          "base_uri": "https://localhost:8080/"
        },
        "id": "KeZ49FM3Db91",
        "outputId": "f3a536d7-4459-4ba6-a62f-e9e3b64c7bd5"
      },
      "execution_count": null,
      "outputs": [
        {
          "output_type": "stream",
          "name": "stdout",
          "text": [
            "enter number of books purchased this month 10\n",
            "you have earned 60 points\n"
          ]
        }
      ]
    },
    {
      "cell_type": "code",
      "source": [
        "S = int(input(\"How many seconds\"))\n",
        "\n",
        "#Seconds = S/1\n",
        "if (S >= 60):\n",
        "    Minute = S/60\n",
        "elif (S >= 3600):\n",
        "    Hours = S/3600\n",
        "\n",
        "elif (S >= 86400):\n",
        "Days = S/86400"
      ],
      "metadata": {
        "id": "AO7px6ZoCG2j"
      },
      "execution_count": null,
      "outputs": []
    }
  ]
}