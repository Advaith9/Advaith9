{
  "nbformat": 4,
  "nbformat_minor": 0,
  "metadata": {
    "colab": {
      "provenance": [],
      "collapsed_sections": [],
      "authorship_tag": "ABX9TyOqijU/zWjbWm4HQTDbe9iz",
      "include_colab_link": true
    },
    "kernelspec": {
      "name": "python3",
      "display_name": "Python 3"
    },
    "language_info": {
      "name": "python"
    }
  },
  "cells": [
    {
      "cell_type": "markdown",
      "metadata": {
        "id": "view-in-github",
        "colab_type": "text"
      },
      "source": [
        "<a href=\"https://colab.research.google.com/github/Advaith9/Advaith9/blob/Python_assignments/Assignment3.ipynb\" target=\"_parent\"><img src=\"https://colab.research.google.com/assets/colab-badge.svg\" alt=\"Open In Colab\"/></a>"
      ]
    },
    {
      "cell_type": "code",
      "execution_count": null,
      "metadata": {
        "id": "8IkLNc6KL2Q3"
      },
      "outputs": [],
      "source": [
        "### ASSIGNMENT 3.10 --- Money counting game ###\n",
        "\n",
        "Pennies = int(input(\"enter the number of pennies: \"))\n",
        "Dimes = int(input(\"enter the number of dimes:\"))\n",
        "Quarters = int(input(\"enter th number of quarters:\"))\n",
        "Nickels = int(input(\"enter the number of nickels:\"))\n",
        "\n",
        "Total = float((Pennies/100) + (Dimes/10) + (Quarters/4) + (Nickels/20))\n",
        "\n",
        "print(\"The total amount entered is\", Total)\n",
        "\n",
        "if (Total == 1.00):\n",
        "   print(\"Congratulations!!!! , You are a winner\")\n",
        "   \n",
        "elif (Total > 1.00):\n",
        "    print(\"Sorry, You did not win, the amount entered is more than a dollar\")\n",
        "    \n",
        "elif (Total < 1.00):\n",
        "    print(\"Sorry, You did not win, the amount entered is less than a dollar\")"
      ]
    },
    {
      "cell_type": "markdown",
      "source": [],
      "metadata": {
        "id": "PuJRPOIxMJAq"
      }
    },
    {
      "cell_type": "code",
      "source": [
        "### assignment_3_Book_Club_Points ####\n",
        "\n",
        "books = int(input(\"enter number of books purchased this month\"))\n",
        "\n",
        "if (books <=1):\n",
        "    print(\"you have earned 0 points\")\n",
        "elif (books == 2) or (books == 3):\n",
        "    print(\"you have earned 5 points\")\n",
        "elif (books == 4):\n",
        "    print(\"you have earned 15 points\")\n",
        "elif (books ==6):\n",
        "    print(\"you have earned 30 points\")\n",
        "elif (books >=8):\n",
        "    print(\"you have earned 60 points\")"
      ],
      "metadata": {
        "colab": {
          "base_uri": "https://localhost:8080/"
        },
        "id": "KeZ49FM3Db91",
        "outputId": "272cc8c4-a509-4c2f-e4cc-fab1f381c6f5"
      },
      "execution_count": 3,
      "outputs": [
        {
          "name": "stdout",
          "output_type": "stream",
          "text": [
            "enter number of books purchased this month5\n"
          ]
        }
      ]
    }
  ]
}