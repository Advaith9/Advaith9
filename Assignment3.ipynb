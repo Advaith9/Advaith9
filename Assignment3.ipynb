{
  "nbformat": 4,
  "nbformat_minor": 0,
  "metadata": {
    "colab": {
      "provenance": [],
      "collapsed_sections": [],
      "authorship_tag": "ABX9TyMD8To4RX2jvu3ciH8hjnFo",
      "include_colab_link": true
    },
    "kernelspec": {
      "name": "python3",
      "display_name": "Python 3"
    },
    "language_info": {
      "name": "python"
    }
  },
  "cells": [
    {
      "cell_type": "markdown",
      "metadata": {
        "id": "view-in-github",
        "colab_type": "text"
      },
      "source": [
        "<a href=\"https://colab.research.google.com/github/Advaith9/Advaith9/blob/Python_assignments/Assignment3.ipynb\" target=\"_parent\"><img src=\"https://colab.research.google.com/assets/colab-badge.svg\" alt=\"Open In Colab\"/></a>"
      ]
    },
    {
      "cell_type": "code",
      "execution_count": null,
      "metadata": {
        "id": "8IkLNc6KL2Q3"
      },
      "outputs": [],
      "source": [
        "### ASSIGNMENT 3.10 --- Money counting game ###\n",
        "\n",
        "Pennies = int(input(\"enter the number of pennies: \"))\n",
        "Dimes = int(input(\"enter the number of dimes:\"))\n",
        "Quarters = int(input(\"enter th number of quarters:\"))\n",
        "Nickels = int(input(\"enter the number of nickels:\"))\n",
        "\n",
        "Total = float((Pennies/100) + (Dimes/10) + (Quarters/4) + (Nickels/20))\n",
        "\n",
        "print(\"The total amount entered is\", Total)\n",
        "\n",
        "if (Total == 1.00):\n",
        "   print(\"Congratulations!!!! , You are a winner\")\n",
        "   \n",
        "elif (Total > 1.00):\n",
        "    print(\"Sorry, You did not win, the amount entered is more than a dollar\")\n",
        "    \n",
        "elif (Total < 1.00):\n",
        "    print(\"Sorry, You did not win, the amount entered is less than a dollar\")"
      ]
    },
    {
      "cell_type": "markdown",
      "source": [],
      "metadata": {
        "id": "PuJRPOIxMJAq"
      }
    }
  ]
}