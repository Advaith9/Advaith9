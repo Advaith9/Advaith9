{
  "nbformat": 4,
  "nbformat_minor": 0,
  "metadata": {
    "colab": {
      "provenance": [],
      "authorship_tag": "ABX9TyPnAl7FLfkypFO6KD9x1phV",
      "include_colab_link": true
    },
    "kernelspec": {
      "name": "python3",
      "display_name": "Python 3"
    },
    "language_info": {
      "name": "python"
    }
  },
  "cells": [
    {
      "cell_type": "markdown",
      "metadata": {
        "id": "view-in-github",
        "colab_type": "text"
      },
      "source": [
        "<a href=\"https://colab.research.google.com/github/Advaith9/Advaith9/blob/main/MidTerm_Final.ipynb\" target=\"_parent\"><img src=\"https://colab.research.google.com/assets/colab-badge.svg\" alt=\"Open In Colab\"/></a>"
      ]
    },
    {
      "cell_type": "markdown",
      "source": [
        "Mid_term_Final"
      ],
      "metadata": {
        "id": "XwH1DVjB4suK"
      }
    },
    {
      "cell_type": "code",
      "source": [
        "def is_credit(card_number):\n",
        "    # Check if the card number is numeric\n",
        "    print(card_number.isnumeric())\n",
        "\n",
        "    # Convert the card number to a list of integers and reverse it\n",
        "    my_list = [int(x) for x in list(card_number)]\n",
        "    my_list.reverse()\n",
        "    print(my_list)\n",
        "\n",
        "    # Double every other digit and store the doubled values in a new list\n",
        "    new_list = []\n",
        "    for i, x in enumerate(my_list):\n",
        "        if i % 2 == 1:\n",
        "            x = x * 2\n",
        "            # If the doubled digit is greater than 9, subtract 9 from it\n",
        "            if x > 9:\n",
        "                x = x - 9\n",
        "        new_list.append(x)\n",
        "    print(new_list)\n",
        "\n",
        "    # Calculate the sum of all the digits\n",
        "    sum_of_digits = sum(new_list)\n",
        "    print(sum_of_digits)\n",
        "\n",
        "    # Check if the sum is divisible by 10\n",
        "    if sum_of_digits % 10 == 0:\n",
        "        print(\"Valid credit card\")\n",
        "        return True\n",
        "    else:\n",
        "        print(\"Invalid credit card\")\n",
        "        return False\n",
        "        \n",
        "def is_visa(card_number):\n",
        "    # Visa card numbers are 13 or 16-digits in length\n",
        "    if len(card_number) == 13 or len(card_number) == 16:\n",
        "        if card_number[0] == '4':\n",
        "            print(\"Visa card detected\")        \n",
        "    \n",
        "def is_mastercard(card_number):\n",
        "    # master card is 16-digits in length\n",
        "    if len(card_number) == 16:\n",
        "        if card_number[0] == '5' and card_number[1] in [1, 2, 3, 4, 5]:\n",
        "            print(\"Master card detected\") \n",
        "            \n",
        "            \n",
        "def main():\n",
        "  print('\\n==>1. Basic test cases (positive)')\n",
        "  print(\"is_credit('6011000000000004')\", is_credit(\"6011000000000004\"))\n",
        "  print(\"is_credit('79927398713')\", is_credit(\"79927398713\"))\n",
        "  print(\"is_credit('30000000000004')\" ,is_credit(\"30000000000004\"))\n",
        "  print(\"is_credit('6911600873502604')\"  ,is_credit(\"6911600873502604\"))\n",
        "  print(\"is_credit('1234567890')\",  is_credit(\"1234567890\"))\n",
        "\n",
        "  print('\\n==>2. Negative Test Case')\n",
        "  print(\"is_credit('abcdefg')\"), is_credit(\"abcdefg\")\n",
        "\n",
        "  print('\\n==>3. Checking whether a card is valid visa card or not')\n",
        "  print(\"is_visa('6011000000000004')\",is_visa(\"6011000000000004\"))\n",
        "  print(\"is_visa('79927398713')\", is_visa(\"79927398713\"))\n",
        "  print(\"is_visa('4012888888881881')\" ,is_visa(\"4012888888881881\"))\n",
        "  print(\"is_visa('4111111111111111')\",  is_visa(\"4111111111111111\"))\n",
        "\n",
        "  print('\\n==>4. Checking whether a card is valid Master card or not')\n",
        "  print(\"is_mastercard('5555555555554444')\",is_mastercard(\"5555555555554444\"))\n",
        "  print(\"is_mastercard('79927398713')\", is_mastercard(\"79927398713\"))\n",
        "  print(\"is_mastercard('5105105105105100')\" ,is_mastercard(\"5105105105105100\"))\n",
        "  print(\"is_mastercard('6911600873502604')\"  ,is_mastercard(\"6911600873502604\"))\n",
        "\n",
        "# call the main function\n",
        "main()\n"
      ],
      "metadata": {
        "id": "BXr6h7dh01eC"
      },
      "execution_count": null,
      "outputs": []
    },
    {
      "cell_type": "code",
      "execution_count": null,
      "metadata": {
        "id": "WZ5p2mz64n1u"
      },
      "outputs": [],
      "source": [
        "def is_credit(card_number):\n",
        "# checking if the card number is numeric    \n",
        "    print(card_number.isnumeric())\n",
        "#converting the card number to list\n",
        "    my_list = [int(x) for x in list(card_number)]\n",
        "    print(my_list)\n",
        "# Double every other digit\n",
        "    i = 1\n",
        "    for x in my_list:\n",
        "        if i % 2 == 0:\n",
        "            x = x * 2\n",
        "        my_list[i - 1] = x\n",
        "        i = i + 1\n",
        "    sum_of_digits = sum(my_list)\n",
        "        #return sum_of_digits\n",
        "    \n",
        "    if sum_of_digits % 10 == 0:\n",
        "        print(\" it is a valid credit card \")\n",
        "    else:\n",
        "        print(\" false credit card number \")\n",
        "        \n",
        "def is_visa(card_number):\n",
        "    # Visa card numbers are 13 or 16-digits in length\n",
        "    if len(card_number) == 13 or len(card_number) == 16:\n",
        "        if card_number[0] == '4':\n",
        "            print(\"Visa card detected\")        \n",
        "    \n",
        "def is_mastercard(card_number):\n",
        "    # master card is 16-digits in length\n",
        "    if len(card_number) == 16:\n",
        "        if card_number[0] == '5' and card_number[1] in [1, 2, 3, 4, 5]:\n",
        "            print(\"Master card detected\") d\n",
        "\n",
        "\n",
        "def main():\n",
        "  print(\"is_credit('6011000000000004')\", is_credit(\"6011000000000004\"))\n",
        "  print(\"is_credit('79927398713')\", is_credit(\"79927398713\"))\n",
        "  print(\"is_credit('30000000000004')\" ,is_credit(\"30000000000004\"))\n",
        "  print(\"is_credit('6911600873502604')\"  ,is_credit(\"6911600873502604\"))\n",
        "  print(\"is_credit('1234567890')\",  is_credit(\"1234567890\"))\n",
        "\n",
        "  print(\"is_visa('6011000000000004')\",is_visa(\"6011000000000004\"))\n",
        "  print(\"is_visa('79927398713')\", is_visa(\"79927398713\"))\n",
        "  print(\"is_visa('30000000000004')\" ,is_visa(\"30000000000004\"))\n",
        "  print(\"is_visa('6911600873502604')\"  ,is_visa(\"6911600873502604\"))\n",
        "  print(\"is_visa('1234567890')\",  is_visa(\"1234567890\"))\n",
        "\n",
        "  print(\"is_mastercard('6011000000000004')\",is_mastercard(\"6011000000000004\"))\n",
        "  print(\"is_mastercard('79927398713')\", is_mastercard(\"79927398713\"))\n",
        "  print(\"is_mastercard('30000000000004')\" ,is_mastercard(\"30000000000004\"))\n",
        "  print(\"is_mastercard('6911600873502604')\"  ,is_mastercard(\"6911600873502604\"))\n",
        "  print(\"is_mastercard('1234567890')\",  is_mastercard(\"1234567890\"))\n",
        "\n",
        "# call the main function\n",
        "main()\n",
        "\n",
        "   \n",
        "    "
      ]
    }
  ]
}