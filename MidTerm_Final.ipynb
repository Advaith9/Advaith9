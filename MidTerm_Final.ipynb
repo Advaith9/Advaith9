{
  "nbformat": 4,
  "nbformat_minor": 0,
  "metadata": {
    "colab": {
      "provenance": [],
      "authorship_tag": "ABX9TyOExdNWcbE03K2bJSXf2rcA",
      "include_colab_link": true
    },
    "kernelspec": {
      "name": "python3",
      "display_name": "Python 3"
    },
    "language_info": {
      "name": "python"
    }
  },
  "cells": [
    {
      "cell_type": "markdown",
      "metadata": {
        "id": "view-in-github",
        "colab_type": "text"
      },
      "source": [
        "<a href=\"https://colab.research.google.com/github/Advaith9/Advaith9/blob/Python_assignments/MidTerm_Final.ipynb\" target=\"_parent\"><img src=\"https://colab.research.google.com/assets/colab-badge.svg\" alt=\"Open In Colab\"/></a>"
      ]
    },
    {
      "cell_type": "markdown",
      "source": [
        "Mid_term_Final"
      ],
      "metadata": {
        "id": "XwH1DVjB4suK"
      }
    },
    {
      "cell_type": "code",
      "execution_count": 1,
      "metadata": {
        "colab": {
          "base_uri": "https://localhost:8080/"
        },
        "id": "WZ5p2mz64n1u",
        "outputId": "3c009cec-f292-435b-8fbe-1c8efb4fcd31"
      },
      "outputs": [
        {
          "output_type": "stream",
          "name": "stdout",
          "text": [
            "True\n",
            "[6, 0, 1, 1, 0, 0, 0, 0, 0, 0, 0, 0, 0, 0, 0, 4]\n",
            " false credit card number \n",
            "is_credit('6011000000000004') None\n",
            "True\n",
            "[7, 9, 9, 2, 7, 3, 9, 8, 7, 1, 3]\n",
            " false credit card number \n",
            "is_credit('79927398713') None\n",
            "True\n",
            "[3, 0, 0, 0, 0, 0, 0, 0, 0, 0, 0, 0, 0, 4]\n",
            " false credit card number \n",
            "is_credit('30000000000004') None\n",
            "True\n",
            "[6, 9, 1, 1, 6, 0, 0, 8, 7, 3, 5, 0, 2, 6, 0, 4]\n",
            " false credit card number \n",
            "is_credit('6911600873502604') None\n",
            "True\n",
            "[1, 2, 3, 4, 5, 6, 7, 8, 9, 0]\n",
            " false credit card number \n",
            "is_credit('1234567890') None\n",
            "is_visa('6011000000000004') None\n",
            "is_visa('79927398713') None\n",
            "is_visa('30000000000004') None\n",
            "is_visa('6911600873502604') None\n",
            "is_visa('1234567890') None\n",
            "is_mastercard('6011000000000004') None\n",
            "is_mastercard('79927398713') None\n",
            "is_mastercard('30000000000004') None\n",
            "is_mastercard('6911600873502604') None\n",
            "is_mastercard('1234567890') None\n"
          ]
        }
      ],
      "source": [
        "def is_credit(card_number):\n",
        "# checking if the card number is numeric    \n",
        "    print(card_number.isnumeric())\n",
        "#converting the card number to list\n",
        "    my_list = [int(x) for x in list(card_number)]\n",
        "    print(my_list)\n",
        "# Double every other digit\n",
        "    i = 1\n",
        "    for x in my_list:\n",
        "        if i % 2 == 0:\n",
        "            x = x * 2\n",
        "        my_list[i - 1] = x\n",
        "        i = i + 1\n",
        "    sum_of_digits = sum(my_list)\n",
        "        #return sum_of_digits\n",
        "    \n",
        "    if sum_of_digits % 10 == 0:\n",
        "        print(\" it is a valid credit card \")\n",
        "    else:\n",
        "        print(\" false credit card number \")\n",
        "        \n",
        "def is_visa(card_number):\n",
        "    # Visa card numbers are 13 or 16-digits in length\n",
        "    if len(card_number) == 13 or len(card_number) == 16:\n",
        "        if card_number[0] == '4':\n",
        "            print(\"Visa card detected\")        \n",
        "    \n",
        "def is_mastercard(card_number):\n",
        "    # master card is 16-digits in length\n",
        "    if len(card_number) == 16:\n",
        "        if card_number[0] == '5' and card_number[1] in [1, 2, 3, 4, 5]:\n",
        "            print(\"Master card detected\") \n",
        "\n",
        "\n",
        "def main():\n",
        "  print(\"is_credit('6011000000000004')\", is_credit(\"6011000000000004\"))\n",
        "  print(\"is_credit('79927398713')\", is_credit(\"79927398713\"))\n",
        "  print(\"is_credit('30000000000004')\" ,is_credit(\"30000000000004\"))\n",
        "  print(\"is_credit('6911600873502604')\"  ,is_credit(\"6911600873502604\"))\n",
        "  print(\"is_credit('1234567890')\",  is_credit(\"1234567890\"))\n",
        "\n",
        "  print(\"is_visa('6011000000000004')\",is_visa(\"6011000000000004\"))\n",
        "  print(\"is_visa('79927398713')\", is_visa(\"79927398713\"))\n",
        "  print(\"is_visa('30000000000004')\" ,is_visa(\"30000000000004\"))\n",
        "  print(\"is_visa('6911600873502604')\"  ,is_visa(\"6911600873502604\"))\n",
        "  print(\"is_visa('1234567890')\",  is_visa(\"1234567890\"))\n",
        "\n",
        "  print(\"is_mastercard('6011000000000004')\",is_mastercard(\"6011000000000004\"))\n",
        "  print(\"is_mastercard('79927398713')\", is_mastercard(\"79927398713\"))\n",
        "  print(\"is_mastercard('30000000000004')\" ,is_mastercard(\"30000000000004\"))\n",
        "  print(\"is_mastercard('6911600873502604')\"  ,is_mastercard(\"6911600873502604\"))\n",
        "  print(\"is_mastercard('1234567890')\",  is_mastercard(\"1234567890\"))\n",
        "\n",
        "# call the main function\n",
        "main()\n",
        "\n",
        "   \n",
        "    "
      ]
    }
  ]
}