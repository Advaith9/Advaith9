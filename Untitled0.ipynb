{
  "nbformat": 4,
  "nbformat_minor": 0,
  "metadata": {
    "colab": {
      "provenance": [],
      "authorship_tag": "ABX9TyO3piSB962P3gAFerdbsNan",
      "include_colab_link": true
    },
    "kernelspec": {
      "name": "python3",
      "display_name": "Python 3"
    },
    "language_info": {
      "name": "python"
    }
  },
  "cells": [
    {
      "cell_type": "markdown",
      "metadata": {
        "id": "view-in-github",
        "colab_type": "text"
      },
      "source": [
        "<a href=\"https://colab.research.google.com/github/Advaith9/Advaith9/blob/TheWeeknd/Untitled0.ipynb\" target=\"_parent\"><img src=\"https://colab.research.google.com/assets/colab-badge.svg\" alt=\"Open In Colab\"/></a>"
      ]
    },
    {
      "cell_type": "code",
      "execution_count": null,
      "metadata": {
        "id": "n6hiX1Zg6TFt"
      },
      "outputs": [],
      "source": [
        "###Assignment1- test ####"
      ]
    },
    {
      "cell_type": "markdown",
      "source": [
        "Assignment_1\n",
        "\n",
        "#printing  student’s name\n",
        "print(\"My name is\",  \"Advaith Nare\")\n",
        "\n",
        "#printing the student’s address\n",
        "print(\"My Address \", \"12345 Maple dr  CA 76231\")\n",
        "\n",
        "#printing telephone number\n",
        "print(\"My number is \" , \"3456792864\")\n",
        "\n",
        "#printing my future college major\n",
        "\n",
        "print(\"I wish to go to\" , \"MIT \")"
      ],
      "metadata": {
        "id": "qyMC_EVU6Zxc"
      }
    }
  ]
}