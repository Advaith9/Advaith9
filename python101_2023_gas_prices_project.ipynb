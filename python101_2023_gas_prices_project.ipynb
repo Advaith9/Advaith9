{
  "nbformat": 4,
  "nbformat_minor": 0,
  "metadata": {
    "colab": {
      "provenance": [],
      "authorship_tag": "ABX9TyPjYV+VNeKus7LLJ911PTkr",
      "include_colab_link": true
    },
    "kernelspec": {
      "name": "python3",
      "display_name": "Python 3"
    },
    "language_info": {
      "name": "python"
    }
  },
  "cells": [
    {
      "cell_type": "markdown",
      "metadata": {
        "id": "view-in-github",
        "colab_type": "text"
      },
      "source": [
        "<a href=\"https://colab.research.google.com/github/Advaith9/Advaith9/blob/main/python101_2023_gas_prices_project.ipynb\" target=\"_parent\"><img src=\"https://colab.research.google.com/assets/colab-badge.svg\" alt=\"Open In Colab\"/></a>"
      ]
    },
    {
      "cell_type": "code",
      "execution_count": null,
      "metadata": {
        "id": "oPWxwY1aaUvO"
      },
      "outputs": [],
      "source": [
        "!wget https://raw.githubusercontent.com/sjasthi/python_input_files/main/gasprices.txt\n",
        "\n",
        "def read_gas_prices(file_name='gasprices.txt'):\n",
        "    prices_master_list = []\n",
        "    with open(file_name, 'r') as f:\n",
        "        for line in f:\n",
        "            date_price = line.strip().split(':')\n",
        "            date = date_price[0]\n",
        "            price = float(date_price[1])\n",
        "            price_mini_list = [date, price]\n",
        "            prices_master_list.append(price_mini_list)\n",
        "    return prices_master_list\n",
        "\n",
        "#prices_master_list = read_gas_prices()\n",
        "#print(prices_master_list)\n",
        "\n",
        "def get_average_price_per_year(prices_master_list):\n",
        "    start_month = 4\n",
        "    end_month = 8\n",
        "    for year in range(1993, 2014):\n",
        "        total_price = 0\n",
        "        count = 0\n",
        "        for price_mini_list in prices_master_list:\n",
        "            year_str = price_mini_list[0][-4:]\n",
        "            month_str = price_mini_list[0][:2]\n",
        "            if year_str == str(year) and start_month <= int(month_str) <= end_month and 1 <= int(price_mini_list[0][3:5]) <= 31:\n",
        "                total_price += price_mini_list[1]\n",
        "                count += 1\n",
        "        if count > 0:\n",
        "            avg_price = total_price / count\n",
        "            print(f\"Average price in {year}: {avg_price}\")\n",
        "\n",
        "#get_average_price_per_year(prices_master_list)\n",
        "\n",
        "\n"
      ]
    }
  ]
}