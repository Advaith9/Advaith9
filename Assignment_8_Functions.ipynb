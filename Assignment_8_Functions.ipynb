{
  "nbformat": 4,
  "nbformat_minor": 0,
  "metadata": {
    "colab": {
      "provenance": [],
      "collapsed_sections": [],
      "authorship_tag": "ABX9TyNUww+LuSFBto+x3FoESy8J",
      "include_colab_link": true
    },
    "kernelspec": {
      "name": "python3",
      "display_name": "Python 3"
    },
    "language_info": {
      "name": "python"
    }
  },
  "cells": [
    {
      "cell_type": "markdown",
      "metadata": {
        "id": "view-in-github",
        "colab_type": "text"
      },
      "source": [
        "<a href=\"https://colab.research.google.com/github/Advaith9/Advaith9/blob/Python_assignments/Assignment_8_Functions.ipynb\" target=\"_parent\"><img src=\"https://colab.research.google.com/assets/colab-badge.svg\" alt=\"Open In Colab\"/></a>"
      ]
    },
    {
      "cell_type": "markdown",
      "source": [
        "Assignment#8.1\n",
        "testing function for int, float, strings\n"
      ],
      "metadata": {
        "id": "U72Qni5oACWB"
      }
    },
    {
      "cell_type": "code",
      "source": [
        "def getMax(a, b, c):\n",
        "  if (a > b):\n",
        "    if (a > c):\n",
        "      return a\n",
        "    else:\n",
        "      return c\n",
        "  elif (b > c):\n",
        "    return b\n",
        "  elif (c > b):\n",
        "    return c\n",
        "    \n",
        "x = getMax(0.09, 0.1, -2.6)\n",
        "print(\"max is : \", x)\n",
        "\n",
        "x = getMax(100, 20, 1.45)\n",
        "print(\"max is : \", x)"
      ],
      "metadata": {
        "colab": {
          "base_uri": "https://localhost:8080/"
        },
        "id": "TjuRpEXlAHFO",
        "outputId": "b3b5be71-4334-453d-861e-239f91f406af"
      },
      "execution_count": 3,
      "outputs": [
        {
          "output_type": "stream",
          "name": "stdout",
          "text": [
            "max is :  0.1\n",
            "max is :  100\n"
          ]
        }
      ]
    },
    {
      "cell_type": "code",
      "source": [
        "def getLength(input_str):\n",
        "    x = len(input_str)\n",
        "    return x\n",
        "    \n",
        "a = getLength(\"ABC\")\n",
        "print(\"length of the string is : \", a)\n",
        "\n",
        "b = getLength(\"python\")\n",
        "print(\"length of the string is : \", b)\n",
        "\n",
        "c = getLength(\"crazy\")\n",
        "print(\"length of the string is : \", c)\n",
        "\n",
        "def getMax(a, b, c):\n",
        "  if (a > b):\n",
        "    if (a > c):\n",
        "      return a\n",
        "    else:\n",
        "      return c\n",
        "  elif (b > c):\n",
        "    return b\n",
        "  elif (c > b):\n",
        "    return c\n",
        "    \n",
        "x = getMax(a, b, c)\n",
        "print(\"max is : \", x)"
      ],
      "metadata": {
        "colab": {
          "base_uri": "https://localhost:8080/"
        },
        "id": "kO3DUpPiAkNx",
        "outputId": "222aafc4-7035-4efc-a8b3-b021c0b39019"
      },
      "execution_count": 4,
      "outputs": [
        {
          "output_type": "stream",
          "name": "stdout",
          "text": [
            "length of the string is :  3\n",
            "length of the string is :  6\n",
            "length of the string is :  5\n",
            "max is :  6\n"
          ]
        }
      ]
    },
    {
      "cell_type": "markdown",
      "source": [
        "###Assignemnt8.2### \n",
        "###Leap_Year####\n"
      ],
      "metadata": {
        "id": "RlnsDElt6x-h"
      }
    },
    {
      "cell_type": "code",
      "source": [
        "def isLeapYear(input_year):\n",
        "    if (input_year % 100 == 0) and (input_year % 400 == 0):\n",
        "        print(\" this is a leap year \")\n",
        "\n",
        "    if (input_year % 100 != 0) and (input_year % 4 == 0):\n",
        "        print (\" this is a leap year \")\n",
        "    else:\n",
        "            print(\" this is not a leap year \")\n",
        "            \n",
        "            \n",
        "a = isLeapYear(1700)\n",
        "\n",
        "a = isLeapYear(1600)\n",
        "\n",
        "a = isLeapYear(2023)"
      ],
      "metadata": {
        "id": "b5Tz4Ql_6-so"
      },
      "execution_count": null,
      "outputs": []
    }
  ]
}