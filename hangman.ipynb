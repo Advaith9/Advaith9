{
  "nbformat": 4,
  "nbformat_minor": 0,
  "metadata": {
    "colab": {
      "provenance": [],
      "authorship_tag": "ABX9TyOY+E8YDo5T9o8qGs/DaE0n",
      "include_colab_link": true
    },
    "kernelspec": {
      "name": "python3",
      "display_name": "Python 3"
    },
    "language_info": {
      "name": "python"
    }
  },
  "cells": [
    {
      "cell_type": "markdown",
      "metadata": {
        "id": "view-in-github",
        "colab_type": "text"
      },
      "source": [
        "<a href=\"https://colab.research.google.com/github/Advaith9/Advaith9/blob/Python102/hangman.ipynb\" target=\"_parent\"><img src=\"https://colab.research.google.com/assets/colab-badge.svg\" alt=\"Open In Colab\"/></a>"
      ]
    },
    {
      "cell_type": "code",
      "execution_count": 7,
      "metadata": {
        "colab": {
          "base_uri": "https://localhost:8080/"
        },
        "id": "kSL-kfmrwMWC",
        "outputId": "a94434e2-4607-4291-97e1-d4679dc6382d"
      },
      "outputs": [
        {
          "output_type": "stream",
          "name": "stdout",
          "text": [
            "Loading word list from file...\n",
            "   55900 words loaded.\n",
            "python ['y', 't', 'n', 'o', 'p', 'h'] True\n",
            "python ['y', 't', 'n', 'o', 'p', 'h'] True\n",
            "python ['y', 'q', 'n', 'o', 'p', 'h'] False\n",
            "program ['p', 'm', 'r', 'o', 'g', 'a'] True\n"
          ]
        }
      ],
      "source": [
        "# Problem Set 2, hangman.py\n",
        "# Name:\n",
        "# Collaborators:\n",
        "# Time spent:\n",
        "\n",
        "# Hangman Game\n",
        "# -----------------------------------\n",
        "# Helper code\n",
        "# You don't need to understand this helper code,\n",
        "# but you will have to know how to use the functions\n",
        "# (so be sure to read the docstrings!)\n",
        "import random\n",
        "import string\n",
        "\n",
        "WORDLIST_FILENAME = \"words.txt\"\n",
        "\n",
        "\n",
        "def load_words():\n",
        "    \"\"\"\n",
        "    Returns a list of valid words. Words are strings of lowercase letters.\n",
        "\n",
        "    Depending on the size of the word list, this function may\n",
        "    take a while to finish.\n",
        "    \"\"\"\n",
        "    print(\"Loading word list from file...\")\n",
        "    # inFile: file\n",
        "    inFile = open(WORDLIST_FILENAME, 'r')\n",
        "    # line: string\n",
        "    line = inFile.readline()\n",
        "    # wordlist: list of strings\n",
        "    wordlist = line.split()\n",
        "    print(\"  \", len(wordlist), \"words loaded.\")\n",
        "    return wordlist\n",
        "\n",
        "\n",
        "\n",
        "def choose_word(wordlist):\n",
        "    \"\"\"\n",
        "    wordlist (list): list of words (strings)\n",
        "\n",
        "    Returns a word from wordlist at random\n",
        "    \"\"\"\n",
        "    return random.choice(wordlist)\n",
        "\n",
        "# end of helper code\n",
        "\n",
        "# -----------------------------------\n",
        "\n",
        "# Load the list of words into the variable wordlist\n",
        "# so that it can be accessed from anywhere in the program\n",
        "wordlist = load_words()\n",
        "\n",
        "\n",
        "import random\n",
        "\n",
        "def is_word_guessed(secret_word, letters_guessed):\n",
        "    for letter in secret_word:\n",
        "        if letter not in letters_guessed:\n",
        "            return False\n",
        "    return True\n",
        "\n",
        "    # Test the method - True\n",
        "secret_word = 'python'\n",
        "letters_guessed = ['y', 't', 'n', 'o', 'p', 'h']\n",
        "x = is_word_guessed(secret_word, letters_guessed)\n",
        "print(secret_word, letters_guessed, x)\n",
        "\n",
        "import random\n",
        "\n",
        "def is_word_guessed(secret_word, letters_guessed):\n",
        "    for letter in secret_word:\n",
        "        if letter not in letters_guessed:\n",
        "            return False\n",
        "    return True\n",
        "\n",
        "    # Test the method - True\n",
        "secret_word = 'python'\n",
        "letters_guessed = ['y', 't', 'n', 'o', 'p', 'h']\n",
        "x = is_word_guessed(secret_word, letters_guessed)\n",
        "print(secret_word, letters_guessed, x)\n",
        "\n",
        "# Test the method - False\n",
        "secret_word = 'python'\n",
        "letters_guessed = ['y', 'q', 'n', 'o', 'p', 'h']\n",
        "x = is_word_guessed(secret_word, letters_guessed)\n",
        "print(secret_word, letters_guessed, x)\n",
        "\n",
        "# Test the method - True\n",
        "secret_word = 'program'\n",
        "letters_guessed = ['p', 'm', 'r', 'o', 'g', 'a']\n",
        "x = is_word_guessed(secret_word, letters_guessed)\n",
        "print(secret_word, letters_guessed, x)\n"
      ]
    }
  ]
}