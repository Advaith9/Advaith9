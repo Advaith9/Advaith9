{
  "nbformat": 4,
  "nbformat_minor": 0,
  "metadata": {
    "colab": {
      "provenance": [],
      "authorship_tag": "ABX9TyNqNvef7EIJmV1EZVlp5DD0",
      "include_colab_link": true
    },
    "kernelspec": {
      "name": "python3",
      "display_name": "Python 3"
    },
    "language_info": {
      "name": "python"
    }
  },
  "cells": [
    {
      "cell_type": "markdown",
      "metadata": {
        "id": "view-in-github",
        "colab_type": "text"
      },
      "source": [
        "<a href=\"https://colab.research.google.com/github/Advaith9/Advaith9/blob/Python102/Assignment15.ipynb\" target=\"_parent\"><img src=\"https://colab.research.google.com/assets/colab-badge.svg\" alt=\"Open In Colab\"/></a>"
      ]
    },
    {
      "cell_type": "markdown",
      "source": [
        "MODULE : music21\n",
        "music21 -- A Toolkit for Computer-Aided Musical Analysis and Computational Musicology\n",
        "\n",
        "\n",
        "What is music21?\n",
        "Music21 is a set of tools for helping scholars and other active listeners answer questions about music quickly and simply. If you’ve ever asked yourself a question like, “I wonder how often Bach does that” or “I wish I knew which band was the first to use these chords in this order,” or “I’ll bet we’d know more about Renaissance counterpoint (or Indian ragas or post-tonal pitch structures or the form of minuets) if I could write a program to automatically write more of them,” then music21 can help you with your work."
      ],
      "metadata": {
        "id": "wHAhDkrJeJ29"
      }
    },
    {
      "cell_type": "code",
      "source": [
        "# https://web.mit.edu/music21/doc/usersGuide/usersGuide_01_installing.html\n",
        "\n",
        "#First step is to install music21\n",
        "\n",
        "sudo pip3 install music21 # command to install\n",
        "\n",
        "\n",
        "from music21 import *\n",
        "\n",
        "# n = note.Note(\"D#3\")\n",
        "# n.duration.type = 'half'\n",
        "# n.show()\n",
        "\n",
        "littleMelody.show('midi')\n",
        "\n",
        "# these are just some of the extensive list of modules it has\n",
        "\n",
        "music21.chord\n",
        "music21.chord.tables\n",
        "music21.chord.tools\n",
        "music21.clef\n",
        "music21.common.classTools\n",
        "music21.common.decorators\n",
        "music21.common.enums\n",
        "music21.common.fileTools\n",
        "music21.common.formats\n",
        "music21.common.misc\n",
        "music21.common.numberTools\n",
        "music21.common.objects\n",
        "music21.common.parallel\n",
        "music21.common.pathTools\n",
        "music21.common.stringTools\n",
        "music21.common.weakrefTools\n",
        "music21.converter\n",
        "\n",
        "# all of the documentatio is provided here : https://web.mit.edu/music21/doc/index.html"
      ],
      "metadata": {
        "id": "J5ZJBv6TeTkz"
      },
      "execution_count": null,
      "outputs": []
    }
  ]
}