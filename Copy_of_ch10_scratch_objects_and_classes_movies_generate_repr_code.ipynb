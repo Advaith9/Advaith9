{
  "nbformat": 4,
  "nbformat_minor": 0,
  "metadata": {
    "colab": {
      "provenance": [],
      "toc_visible": true,
      "include_colab_link": true
    },
    "kernelspec": {
      "name": "python3",
      "display_name": "Python 3"
    },
    "language_info": {
      "name": "python"
    }
  },
  "cells": [
    {
      "cell_type": "markdown",
      "metadata": {
        "id": "view-in-github",
        "colab_type": "text"
      },
      "source": [
        "<a href=\"https://colab.research.google.com/github/Advaith9/Advaith9/blob/Python102/Copy_of_ch10_scratch_objects_and_classes_movies_generate_repr_code.ipynb\" target=\"_parent\"><img src=\"https://colab.research.google.com/assets/colab-badge.svg\" alt=\"Open In Colab\"/></a>"
      ]
    },
    {
      "cell_type": "markdown",
      "source": [
        "#Chapter 10. Objects and Classes\n",
        "## Siva.Jasthi@metrostate.edu\n",
        "### Python 102"
      ],
      "metadata": {
        "id": "xg63C9rrYT9f"
      }
    },
    {
      "cell_type": "markdown",
      "source": [
        "# Introduction to Objects and Classes"
      ],
      "metadata": {
        "id": "x56RTNIgfbC8"
      }
    },
    {
      "cell_type": "markdown",
      "source": [
        "# Coding Conventions\n",
        "1. Class names start with upper case\n",
        "2. Every class must have __str__ and __init__ methods\n",
        "These are called magic methods (Double Underscore methods) (DUNDER methods)\n",
        "Because these are called by PYTHON behind the scenes.\n"
      ],
      "metadata": {
        "id": "cDnSVywVjmR4"
      }
    },
    {
      "cell_type": "markdown",
      "source": [
        "# How does python think during print()\n",
        "\n",
        "1. Does the object have __str__( ) method?\n",
        "Let me use it\n",
        "\n",
        "2. If not, does the object have __repr__( ) method?\n",
        "Let me use it\n",
        "\n",
        "3. If not, does the parent of the object have __str__() method?\n",
        "Let me use it\n",
        "\n",
        "4. If not, does the parent of the object have __repr__() method?\n",
        "Let me use it"
      ],
      "metadata": {
        "id": "c0HSapHIr4tI"
      }
    },
    {
      "cell_type": "code",
      "source": [
        "\n",
        "#@title Defining a class (Version 2)\n",
        "\n",
        "# Student (name, age, email)\n",
        "\n",
        "# Created a class\n",
        "\n",
        "class Movie:\n",
        "\n",
        "  def __init__(self, a_movietitle, a_director, a_yearofrelease, a_genre):\n",
        "    self.movietitle = a_movietitle\n",
        "    self.director = a_director\n",
        "    self.yearofrelease = a_yearofrelease\n",
        "    self.genre = a_genre\n",
        "\n",
        "\n",
        "  ''' this is for programmers; or other python code snippets '''\n",
        "  def __repr__(self):\n",
        "    temp_str = f'Movie (Title:{self.movietitle}, Director:{self.director}, Yearofrelease:{self.yearofrelease}, Genres:{self.genre})'\n",
        "    return temp_str\n",
        "\n",
        "  ''' this is for the end-users, user-friendly output '''\n",
        "  def __str__(self):\n",
        "    temp_str = ('\\nTitle: ' + self.movietitle +\n",
        "               '\\nDirector: ' + self.director +\n",
        "               '\\nYearofrelease: ' + str(self.yearofrelease) +\n",
        "                '\\nGenres: ' +(self.genre))\n",
        "    return temp_str\n",
        "\n",
        "# Create some instances\n",
        "movie_1 = Movie('Interstellar', 'Christopher Nolan', '2014', 'Sci-Fi')\n",
        "print('\\n\\nRepresentation: ', repr(movie_1))\n",
        "print('String representation: ', movie_1)\n",
        "\n",
        "\n",
        "movie_2 = Movie('Ben-Hur', 'William Wylor', '1959','Drama')\n",
        "print('\\n\\nRepresentation: ', repr(movie_2))\n",
        "print('String representation: ', movie_2)\n",
        "\n",
        "movie_3 = Movie('Avatar', 'James Cameron', '2009', 'Fantasy')\n",
        "print('\\n\\nRepresentation: ', repr(movie_3))\n",
        "print('String representation: ', movie_3)\n",
        "\n",
        "\n",
        "\n",
        "\n",
        "\n",
        "\n",
        "\n"
      ],
      "metadata": {
        "colab": {
          "base_uri": "https://localhost:8080/"
        },
        "outputId": "81d4ca70-bfdd-46fc-8481-7546585ff55f",
        "id": "ShqOHeE_P4Z2"
      },
      "execution_count": null,
      "outputs": [
        {
          "output_type": "stream",
          "name": "stdout",
          "text": [
            "\n",
            "\n",
            "Representation:  Movie (Title:Interstellar, Director:Christopher Nolan, Yearofrelease:2014, Genres:Sci-Fi)\n",
            "String representation:  \n",
            "Title: Interstellar\n",
            "Director: Christopher Nolan\n",
            "Yearofrelease: 2014\n",
            "Genres: Sci-Fi\n",
            "\n",
            "\n",
            "Representation:  Movie (Title:Ben-Hur, Director:William Wylor, Yearofrelease:1959, Genres:Drama)\n",
            "String representation:  \n",
            "Title: Ben-Hur\n",
            "Director: William Wylor\n",
            "Yearofrelease: 1959\n",
            "Genres: Drama\n",
            "\n",
            "\n",
            "Representation:  Movie (Title:Avatar, Director:James Cameron, Yearofrelease:2009, Genres:Fantasy)\n",
            "String representation:  \n",
            "Title: Avatar\n",
            "Director: James Cameron\n",
            "Yearofrelease: 2009\n",
            "Genres: Fantasy\n"
          ]
        }
      ]
    },
    {
      "cell_type": "markdown",
      "source": [
        "# Assignment 5 Instructions\n",
        "1. Create a python class assigned to you.\n",
        "2. Ensure that each class has these two magic methods  __str__ and __repr_ methods.\n",
        "3. Create three objects (instances) for your class.\n",
        "4. print the object\n",
        "5. print the representation of the object\n",
        "6. Please make sure that you use \"Student\" class I demonstrated in the classroom as example  / template.\n",
        "\n",
        "\n",
        "1. Student  (done)\n",
        "name, email, age\n",
        "\n",
        "2. Car  (Anika)\n",
        "make, model, year\n",
        "\n",
        "3. Book  (Nidhi)\n",
        "title, author, publication_year\n",
        "\n",
        "4. Dog   (Nithin)\n",
        "name, breed, age\n",
        "\n",
        "5. Employee  (Prabhav)\n",
        "name, employee_id, salary\n",
        "\n",
        "6. Circle  (Rama)\n",
        "radius, color, area\n",
        "\n",
        "7. BankAccount  (Samhita)\n",
        "account_number, balance, owner\n",
        "\n",
        "8. Movie (Prashanti)\n",
        "title, director, release_year\n",
        "\n",
        "9. Song (Sai)\n",
        "title, artist, duration\n",
        "\n",
        "10. Address (Sumedh)\n",
        "street, city, postal_code\n",
        "\n",
        "11. Restaurant (Ahala)\n",
        "name, cuisine, rating\n",
        "\n",
        "12. Laptop (Krish)\n",
        "brand, model, price\n",
        "\n",
        "13. Course (Nakul)\n",
        "course_code, instructor, credits\n",
        "\n",
        "14. Country (Om)\n",
        "name, population, capital_city\n",
        "\n",
        "15. Smartphone (Pavani)\n",
        "brand, model, screen_size\n",
        "\n",
        "16. House (Satish)\n",
        "area, owner, cost\n",
        "\n",
        "Each class represents a real-world entity, and the attributes associated with each class provide information about that entity.\n"
      ],
      "metadata": {
        "id": "JYYyUb4MuPiI"
      }
    },
    {
      "cell_type": "code",
      "source": [
        "#@title  Assignment 6\n",
        "\n",
        "input_str = 'Movie [MovieTitle, Director, YearofRelease]'\n",
        "#input_str = 'Student [name, email, age]'\n",
        "#input_str = 'Student [name, email, age, country]'\n",
        "#input_str = 'Student [name, email, age, country, language]'\n",
        "\n",
        "input_str_tokens = input_str.split()\n",
        "print(input_str_tokens)\n",
        "\n",
        "\n",
        "elem_list = []\n",
        "for elem in input_str_tokens:\n",
        "  elem = elem.replace('[', '')\n",
        "  elem = elem.replace(']', '')\n",
        "  elem = elem.replace(',', '')\n",
        "  #print(elem)\n",
        "  elem_list.append(elem)\n",
        "\n",
        "\n",
        "class_name = elem_list[0]\n",
        "property_list = elem_list[1:]\n",
        "\n",
        "print('Class Name: ', class_name)\n",
        "print('Property List: ', property_list)\n",
        "\n",
        "def get_init_code(property_list):  # I will do this now\n",
        "  init_code = \"\\n\\n# Defining the __init__ method\"\n",
        "  init_code += '\\n\\tdef __init__(self, '\n",
        "  for each_property in property_list:\n",
        "    init_code += each_property + ', '\n",
        "\n",
        "  # replace the last , with ):\n",
        "  init_code = init_code[0:-2]\n",
        "  init_code = init_code + \"):\"\n",
        "\n",
        "  for each_property in property_list:\n",
        "    init_code += f'\\n\\t\\tself.{each_property} = {each_property}'\n",
        "\n",
        "  init_code += '\\n'\n",
        "\n",
        "\n",
        "\n",
        "  return init_code\n",
        "\n",
        "\n",
        "\n",
        "# def get_repr_code(class_name, property_list):  # Assignment 6 (1/3 of the class)\n",
        "#   init_code = '\\nrepr to be done'\n",
        "#   # TBD\n",
        "#   return init_code\n",
        "# ... (your existing code for parsing the input_str and getting class_name and property_list)\n",
        "\n",
        "def get_init_code(property_list):\n",
        "    init_code = \"\\n\\n# Defining the __init__ method\"\n",
        "    init_code += '\\n\\tdef __init__(self, '\n",
        "    for each_property in property_list:\n",
        "        init_code += each_property + ', '\n",
        "\n",
        "    # replace the last , with ):\n",
        "    init_code = init_code[0:-2]\n",
        "    init_code = init_code + \"):\"\n",
        "\n",
        "    for each_property in property_list:\n",
        "        init_code += f'\\n\\t\\tself.{each_property} = {each_property}'\n",
        "\n",
        "    init_code += '\\n'\n",
        "\n",
        "    return init_code\n",
        "\n",
        "def get_repr_code(class_name, property_list):\n",
        "    repr_code = f\"\\n\\n# Defining the __repr__ method for {class_name}\"\n",
        "    repr_code += f'\\n\\tdef __repr__(self):'\n",
        "    repr_code += f'\\n\\t\\treturn f\"{class_name}('\n",
        "\n",
        "    for each_property in property_list:\n",
        "        repr_code += f'{each_property}={{self.{each_property}}}, '\n",
        "\n",
        "    # Replace the last ', ' with a closing parenthesis and a new line.\n",
        "    repr_code = repr_code[0:-2]\n",
        "    repr_code += ')\"'\n",
        "\n",
        "    return repr_code\n",
        "\n",
        "# ... (your existing code)\n",
        "\n",
        "# Call the get_repr_code function to generate the __repr__ code\n",
        "repr_code = get_repr_code(class_name, property_list)\n",
        "\n",
        "# Print the generated __repr__ code\n",
        "print(repr_code)\n",
        "\n",
        "# Representation:  Movie (Title:Interstellar, Director:Christopher Nolan, Yearofrelease:2014, Genres:Sci-Fi)\n",
        "# String representation:\n",
        "# Title: Interstellar\n",
        "# Director: Christopher Nolan\n",
        "# Yearofrelease: 2014\n",
        "# Genres: Sci-Fi\n"
      ],
      "metadata": {
        "id": "7YwzphFHMr3q",
        "colab": {
          "base_uri": "https://localhost:8080/"
        },
        "outputId": "78275780-c941-45f1-b3cd-777e64c14dc4"
      },
      "execution_count": null,
      "outputs": [
        {
          "output_type": "stream",
          "name": "stdout",
          "text": [
            "['Movie', '[MovieTitle,', 'Director,', 'YearofRelease]']\n",
            "Class Name:  Movie\n",
            "Property List:  ['MovieTitle', 'Director', 'YearofRelease']\n",
            "\n",
            "\n",
            "# Defining the __repr__ method for Movie\n",
            "\tdef __repr__(self):\n",
            "\t\treturn f\"Movie(MovieTitle={self.MovieTitle}, Director={self.Director}, YearofRelease={self.YearofRelease})\"\n"
          ]
        }
      ]
    }
  ]
}