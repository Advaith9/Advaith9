{
  "nbformat": 4,
  "nbformat_minor": 0,
  "metadata": {
    "colab": {
      "provenance": [],
      "toc_visible": true,
      "include_colab_link": true
    },
    "kernelspec": {
      "name": "python3",
      "display_name": "Python 3"
    },
    "language_info": {
      "name": "python"
    }
  },
  "cells": [
    {
      "cell_type": "markdown",
      "metadata": {
        "id": "view-in-github",
        "colab_type": "text"
      },
      "source": [
        "<a href=\"https://colab.research.google.com/github/Advaith9/Advaith9/blob/TheWeeknd/ch7_list_intro_1.ipynb\" target=\"_parent\"><img src=\"https://colab.research.google.com/assets/colab-badge.svg\" alt=\"Open In Colab\"/></a>"
      ]
    },
    {
      "cell_type": "markdown",
      "source": [
        "# Lists\n"
      ],
      "metadata": {
        "id": "HpIJY9lvgjMV"
      }
    },
    {
      "cell_type": "markdown",
      "source": [
        "* https://www.w3schools.com/python/python_ref_list.asp  (Python List Methods)\n",
        "\n",
        "\n",
        "* https://www.w3schools.com/python/python_ref_functions.asp (Python Built-in Functions)\n",
        "* Some built-in functions len( ) min() max() sum() print()\n"
      ],
      "metadata": {
        "id": "imH1nSNBUuG_"
      }
    },
    {
      "cell_type": "code",
      "source": [
        "list_ops = dir(list)\n",
        "\n",
        "#print(x)\n",
        "\n",
        "for ops_name in list_ops:\n",
        "  if '__' in ops_name:\n",
        "    continue\n",
        "\n",
        "  print(ops_name)\n",
        "\n",
        "\n",
        "  # in to check the membership\n",
        "  # not in inverse of membership\n",
        "\n",
        "  #Double UNDERscore methods:  DUNDER methods: these are used by python (internally)"
      ],
      "metadata": {
        "colab": {
          "base_uri": "https://localhost:8080/"
        },
        "id": "KNu-u3jrdc7M",
        "outputId": "9312f57e-b3a7-4658-e9e9-6a037ac23717"
      },
      "execution_count": null,
      "outputs": [
        {
          "output_type": "stream",
          "name": "stdout",
          "text": [
            "append\n",
            "clear\n",
            "copy\n",
            "count\n",
            "extend\n",
            "index\n",
            "insert\n",
            "pop\n",
            "remove\n",
            "reverse\n",
            "sort\n"
          ]
        }
      ]
    },
    {
      "cell_type": "code",
      "source": [
        "my_list = [6,7,8]\n",
        "print(my_list)\n",
        "\n",
        "# print(max(my_list))\n",
        "# print(min(my_list))\n",
        "# print(sum(my_list))\n",
        "# print(sum(my_list)/len(my_list))\n",
        "\n",
        "my_list.append(10)\n",
        "print(my_list)\n"
      ],
      "metadata": {
        "colab": {
          "base_uri": "https://localhost:8080/"
        },
        "id": "7sD4C42geTms",
        "outputId": "272a0868-039f-4bdf-809c-e73683c57ffa"
      },
      "execution_count": null,
      "outputs": [
        {
          "output_type": "stream",
          "name": "stdout",
          "text": [
            "[6, 7, 8]\n",
            "[6, 7, 8, 10]\n"
          ]
        }
      ]
    },
    {
      "cell_type": "code",
      "source": [
        "your_list = my_list.copy()\n",
        "print('Original list is: ', my_list)\n",
        "print('Copied list (your_list) is: ', your_list)\n",
        "# No Magic numbers anywhere in the code or output\n",
        "\n",
        "your_list.append(10)\n",
        "print('Original list is: ', my_list)\n",
        "print('Copied list (your_list) is: ', your_list)\n"
      ],
      "metadata": {
        "colab": {
          "base_uri": "https://localhost:8080/"
        },
        "id": "V0fZZvyPfR1U",
        "outputId": "b217b519-76a1-499c-c841-dafc3d8cd627"
      },
      "execution_count": null,
      "outputs": [
        {
          "output_type": "stream",
          "name": "stdout",
          "text": [
            "Original list is:  [6, 7, 8, 10]\n",
            "Copied list (your_list) is:  [6, 7, 8, 10]\n",
            "Original list is:  [6, 7, 8, 10]\n",
            "Copied list (your_list) is:  [6, 7, 8, 10, 10]\n"
          ]
        }
      ]
    },
    {
      "cell_type": "code",
      "source": [
        "our_list = my_list\n",
        "print('Original list is: ', my_list)\n",
        "print('Assigned List (our_list) is: ', our_list)\n",
        "our_list.insert(0, 10)\n",
        "print('Assigned List (our_list) after inserting at 0 is: ', our_list)\n",
        "print('Original list is: ', my_list)\n",
        "\n",
        "# x = 10\n",
        "# y = x\n",
        "# print(x)\n",
        "# print(y)\n",
        "# y = 20\n",
        "# print(x)\n",
        "# print(y)"
      ],
      "metadata": {
        "colab": {
          "base_uri": "https://localhost:8080/"
        },
        "id": "-U8wVj5Mf0Ev",
        "outputId": "d76f3eb5-d5fd-49c5-c011-173ac77804d0"
      },
      "execution_count": null,
      "outputs": [
        {
          "output_type": "stream",
          "name": "stdout",
          "text": [
            "Original list is:  [10, 6, 7, 8, 10]\n",
            "Assigned List (our_list) is:  [10, 6, 7, 8, 10]\n",
            "Assigned List (our_list) after inserting at 0 is:  [10, 10, 6, 7, 8, 10]\n",
            "Original list is:  [10, 10, 6, 7, 8, 10]\n"
          ]
        }
      ]
    },
    {
      "cell_type": "code",
      "source": [
        "#@title Lists: An Introduction\n",
        "\n",
        "#Data Type\n",
        "#List Type\n",
        "x = [10, 3, -5, 'hello', True, 3.4]\n",
        "print(\"List of elements: \", x)\n",
        "\n",
        "# what is the data type of x?\n",
        "print(\"Data type\", type(x))\n",
        "\n",
        "\n"
      ],
      "metadata": {
        "id": "iE_KtgxUn4at",
        "colab": {
          "base_uri": "https://localhost:8080/"
        },
        "outputId": "53f06be2-7ffb-4945-cfee-2575121f585b"
      },
      "execution_count": null,
      "outputs": [
        {
          "output_type": "stream",
          "name": "stdout",
          "text": [
            "List of elements:  [10, 3, -5, 'hello', True, 3.4]\n",
            "Data type <class 'list'>\n",
            "Help on method_descriptor:\n",
            "\n",
            "extend(self, iterable, /)\n",
            "    Extend list by appending elements from the iterable.\n",
            "\n"
          ]
        }
      ]
    },
    {
      "cell_type": "code",
      "source": [
        "x = help(list)\n",
        "#print(type(x))\n",
        "\n",
        "y = dir(list)\n",
        "print(y)\n",
        "\n",
        "#Double UNDER Score Methods  (DUNDER methods) (magic methods)\n",
        "# For now, ignore these DUNDER methods"
      ],
      "metadata": {
        "colab": {
          "base_uri": "https://localhost:8080/"
        },
        "id": "sLiVNYE8lXaT",
        "outputId": "514a523c-00da-418f-8c68-ef3d0d87d77d"
      },
      "execution_count": null,
      "outputs": [
        {
          "output_type": "stream",
          "name": "stdout",
          "text": [
            "Help on class list in module builtins:\n",
            "\n",
            "class list(object)\n",
            " |  list(iterable=(), /)\n",
            " |  \n",
            " |  Built-in mutable sequence.\n",
            " |  \n",
            " |  If no argument is given, the constructor creates a new empty list.\n",
            " |  The argument must be an iterable if specified.\n",
            " |  \n",
            " |  Methods defined here:\n",
            " |  \n",
            " |  __add__(self, value, /)\n",
            " |      Return self+value.\n",
            " |  \n",
            " |  __contains__(self, key, /)\n",
            " |      Return key in self.\n",
            " |  \n",
            " |  __delitem__(self, key, /)\n",
            " |      Delete self[key].\n",
            " |  \n",
            " |  __eq__(self, value, /)\n",
            " |      Return self==value.\n",
            " |  \n",
            " |  __ge__(self, value, /)\n",
            " |      Return self>=value.\n",
            " |  \n",
            " |  __getattribute__(self, name, /)\n",
            " |      Return getattr(self, name).\n",
            " |  \n",
            " |  __getitem__(...)\n",
            " |      x.__getitem__(y) <==> x[y]\n",
            " |  \n",
            " |  __gt__(self, value, /)\n",
            " |      Return self>value.\n",
            " |  \n",
            " |  __iadd__(self, value, /)\n",
            " |      Implement self+=value.\n",
            " |  \n",
            " |  __imul__(self, value, /)\n",
            " |      Implement self*=value.\n",
            " |  \n",
            " |  __init__(self, /, *args, **kwargs)\n",
            " |      Initialize self.  See help(type(self)) for accurate signature.\n",
            " |  \n",
            " |  __iter__(self, /)\n",
            " |      Implement iter(self).\n",
            " |  \n",
            " |  __le__(self, value, /)\n",
            " |      Return self<=value.\n",
            " |  \n",
            " |  __len__(self, /)\n",
            " |      Return len(self).\n",
            " |  \n",
            " |  __lt__(self, value, /)\n",
            " |      Return self<value.\n",
            " |  \n",
            " |  __mul__(self, value, /)\n",
            " |      Return self*value.\n",
            " |  \n",
            " |  __ne__(self, value, /)\n",
            " |      Return self!=value.\n",
            " |  \n",
            " |  __repr__(self, /)\n",
            " |      Return repr(self).\n",
            " |  \n",
            " |  __reversed__(self, /)\n",
            " |      Return a reverse iterator over the list.\n",
            " |  \n",
            " |  __rmul__(self, value, /)\n",
            " |      Return value*self.\n",
            " |  \n",
            " |  __setitem__(self, key, value, /)\n",
            " |      Set self[key] to value.\n",
            " |  \n",
            " |  __sizeof__(self, /)\n",
            " |      Return the size of the list in memory, in bytes.\n",
            " |  \n",
            " |  append(self, object, /)\n",
            " |      Append object to the end of the list.\n",
            " |  \n",
            " |  clear(self, /)\n",
            " |      Remove all items from list.\n",
            " |  \n",
            " |  copy(self, /)\n",
            " |      Return a shallow copy of the list.\n",
            " |  \n",
            " |  count(self, value, /)\n",
            " |      Return number of occurrences of value.\n",
            " |  \n",
            " |  extend(self, iterable, /)\n",
            " |      Extend list by appending elements from the iterable.\n",
            " |  \n",
            " |  index(self, value, start=0, stop=9223372036854775807, /)\n",
            " |      Return first index of value.\n",
            " |      \n",
            " |      Raises ValueError if the value is not present.\n",
            " |  \n",
            " |  insert(self, index, object, /)\n",
            " |      Insert object before index.\n",
            " |  \n",
            " |  pop(self, index=-1, /)\n",
            " |      Remove and return item at index (default last).\n",
            " |      \n",
            " |      Raises IndexError if list is empty or index is out of range.\n",
            " |  \n",
            " |  remove(self, value, /)\n",
            " |      Remove first occurrence of value.\n",
            " |      \n",
            " |      Raises ValueError if the value is not present.\n",
            " |  \n",
            " |  reverse(self, /)\n",
            " |      Reverse *IN PLACE*.\n",
            " |  \n",
            " |  sort(self, /, *, key=None, reverse=False)\n",
            " |      Stable sort *IN PLACE*.\n",
            " |  \n",
            " |  ----------------------------------------------------------------------\n",
            " |  Static methods defined here:\n",
            " |  \n",
            " |  __new__(*args, **kwargs) from builtins.type\n",
            " |      Create and return a new object.  See help(type) for accurate signature.\n",
            " |  \n",
            " |  ----------------------------------------------------------------------\n",
            " |  Data and other attributes defined here:\n",
            " |  \n",
            " |  __hash__ = None\n",
            "\n",
            "['__add__', '__class__', '__contains__', '__delattr__', '__delitem__', '__dir__', '__doc__', '__eq__', '__format__', '__ge__', '__getattribute__', '__getitem__', '__gt__', '__hash__', '__iadd__', '__imul__', '__init__', '__init_subclass__', '__iter__', '__le__', '__len__', '__lt__', '__mul__', '__ne__', '__new__', '__reduce__', '__reduce_ex__', '__repr__', '__reversed__', '__rmul__', '__setattr__', '__setitem__', '__sizeof__', '__str__', '__subclasshook__', 'append', 'clear', 'copy', 'count', 'extend', 'index', 'insert', 'pop', 'remove', 'reverse', 'sort']\n"
          ]
        }
      ]
    },
    {
      "cell_type": "code",
      "source": [
        "#@title Listing of the \"List\" methods\n",
        "#x = dir(list)\n",
        "#x = dir(tuple)\n",
        "#x = dir(dict)\n",
        "#x = dir(set)\n",
        "# x = dir()\n",
        "# for i in x:\n",
        "#   if '__' not in i:\n",
        "#     print(i)\n",
        "\n",
        "y = dir(__builtin__)\n",
        "\n",
        "# for i in y:\n",
        "#   print(i)\n",
        "\n",
        "x = help(list)\n",
        "print(x)\n",
        "\n",
        "# getting the help\n",
        "help()\n",
        "\n",
        "# getting the help on a specific module\n",
        "help(list)\n",
        "\n",
        "help(list.extend)\n",
        "\n",
        "# listing of functions\n",
        "dir()\n",
        "\n",
        "# zen of python\n",
        "import this\n"
      ],
      "metadata": {
        "colab": {
          "base_uri": "https://localhost:8080/"
        },
        "id": "ahehP1TacQeZ",
        "outputId": "5ed49dec-0f30-436a-bab9-e01bab53bc61"
      },
      "execution_count": null,
      "outputs": [
        {
          "output_type": "stream",
          "name": "stdout",
          "text": [
            "Help on class list in module builtins:\n",
            "\n",
            "class list(object)\n",
            " |  list(iterable=(), /)\n",
            " |  \n",
            " |  Built-in mutable sequence.\n",
            " |  \n",
            " |  If no argument is given, the constructor creates a new empty list.\n",
            " |  The argument must be an iterable if specified.\n",
            " |  \n",
            " |  Methods defined here:\n",
            " |  \n",
            " |  __add__(self, value, /)\n",
            " |      Return self+value.\n",
            " |  \n",
            " |  __contains__(self, key, /)\n",
            " |      Return key in self.\n",
            " |  \n",
            " |  __delitem__(self, key, /)\n",
            " |      Delete self[key].\n",
            " |  \n",
            " |  __eq__(self, value, /)\n",
            " |      Return self==value.\n",
            " |  \n",
            " |  __ge__(self, value, /)\n",
            " |      Return self>=value.\n",
            " |  \n",
            " |  __getattribute__(self, name, /)\n",
            " |      Return getattr(self, name).\n",
            " |  \n",
            " |  __getitem__(...)\n",
            " |      x.__getitem__(y) <==> x[y]\n",
            " |  \n",
            " |  __gt__(self, value, /)\n",
            " |      Return self>value.\n",
            " |  \n",
            " |  __iadd__(self, value, /)\n",
            " |      Implement self+=value.\n",
            " |  \n",
            " |  __imul__(self, value, /)\n",
            " |      Implement self*=value.\n",
            " |  \n",
            " |  __init__(self, /, *args, **kwargs)\n",
            " |      Initialize self.  See help(type(self)) for accurate signature.\n",
            " |  \n",
            " |  __iter__(self, /)\n",
            " |      Implement iter(self).\n",
            " |  \n",
            " |  __le__(self, value, /)\n",
            " |      Return self<=value.\n",
            " |  \n",
            " |  __len__(self, /)\n",
            " |      Return len(self).\n",
            " |  \n",
            " |  __lt__(self, value, /)\n",
            " |      Return self<value.\n",
            " |  \n",
            " |  __mul__(self, value, /)\n",
            " |      Return self*value.\n",
            " |  \n",
            " |  __ne__(self, value, /)\n",
            " |      Return self!=value.\n",
            " |  \n",
            " |  __repr__(self, /)\n",
            " |      Return repr(self).\n",
            " |  \n",
            " |  __reversed__(self, /)\n",
            " |      Return a reverse iterator over the list.\n",
            " |  \n",
            " |  __rmul__(self, value, /)\n",
            " |      Return value*self.\n",
            " |  \n",
            " |  __setitem__(self, key, value, /)\n",
            " |      Set self[key] to value.\n",
            " |  \n",
            " |  __sizeof__(self, /)\n",
            " |      Return the size of the list in memory, in bytes.\n",
            " |  \n",
            " |  append(self, object, /)\n",
            " |      Append object to the end of the list.\n",
            " |  \n",
            " |  clear(self, /)\n",
            " |      Remove all items from list.\n",
            " |  \n",
            " |  copy(self, /)\n",
            " |      Return a shallow copy of the list.\n",
            " |  \n",
            " |  count(self, value, /)\n",
            " |      Return number of occurrences of value.\n",
            " |  \n",
            " |  extend(self, iterable, /)\n",
            " |      Extend list by appending elements from the iterable.\n",
            " |  \n",
            " |  index(self, value, start=0, stop=9223372036854775807, /)\n",
            " |      Return first index of value.\n",
            " |      \n",
            " |      Raises ValueError if the value is not present.\n",
            " |  \n",
            " |  insert(self, index, object, /)\n",
            " |      Insert object before index.\n",
            " |  \n",
            " |  pop(self, index=-1, /)\n",
            " |      Remove and return item at index (default last).\n",
            " |      \n",
            " |      Raises IndexError if list is empty or index is out of range.\n",
            " |  \n",
            " |  remove(self, value, /)\n",
            " |      Remove first occurrence of value.\n",
            " |      \n",
            " |      Raises ValueError if the value is not present.\n",
            " |  \n",
            " |  reverse(self, /)\n",
            " |      Reverse *IN PLACE*.\n",
            " |  \n",
            " |  sort(self, /, *, key=None, reverse=False)\n",
            " |      Stable sort *IN PLACE*.\n",
            " |  \n",
            " |  ----------------------------------------------------------------------\n",
            " |  Static methods defined here:\n",
            " |  \n",
            " |  __new__(*args, **kwargs) from builtins.type\n",
            " |      Create and return a new object.  See help(type) for accurate signature.\n",
            " |  \n",
            " |  ----------------------------------------------------------------------\n",
            " |  Data and other attributes defined here:\n",
            " |  \n",
            " |  __hash__ = None\n",
            "\n",
            "None\n",
            "\n",
            "Welcome to Python 3.7's help utility!\n",
            "\n",
            "If this is your first time using Python, you should definitely check out\n",
            "the tutorial on the Internet at https://docs.python.org/3.7/tutorial/.\n",
            "\n",
            "Enter the name of any module, keyword, or topic to get help on writing\n",
            "Python programs and using Python modules.  To quit this help utility and\n",
            "return to the interpreter, just type \"quit\".\n",
            "\n",
            "To get a list of available modules, keywords, symbols, or topics, type\n",
            "\"modules\", \"keywords\", \"symbols\", or \"topics\".  Each module also comes\n",
            "with a one-line summary of what it does; to list the modules whose name\n",
            "or summary contain a given string such as \"spam\", type \"modules spam\".\n",
            "\n",
            "\n",
            "You are now leaving help and returning to the Python interpreter.\n",
            "If you want to ask for help on a particular object directly from the\n",
            "interpreter, you can type \"help(object)\".  Executing \"help('string')\"\n",
            "has the same effect as typing a particular string at the help> prompt.\n",
            "Help on class list in module builtins:\n",
            "\n",
            "class list(object)\n",
            " |  list(iterable=(), /)\n",
            " |  \n",
            " |  Built-in mutable sequence.\n",
            " |  \n",
            " |  If no argument is given, the constructor creates a new empty list.\n",
            " |  The argument must be an iterable if specified.\n",
            " |  \n",
            " |  Methods defined here:\n",
            " |  \n",
            " |  __add__(self, value, /)\n",
            " |      Return self+value.\n",
            " |  \n",
            " |  __contains__(self, key, /)\n",
            " |      Return key in self.\n",
            " |  \n",
            " |  __delitem__(self, key, /)\n",
            " |      Delete self[key].\n",
            " |  \n",
            " |  __eq__(self, value, /)\n",
            " |      Return self==value.\n",
            " |  \n",
            " |  __ge__(self, value, /)\n",
            " |      Return self>=value.\n",
            " |  \n",
            " |  __getattribute__(self, name, /)\n",
            " |      Return getattr(self, name).\n",
            " |  \n",
            " |  __getitem__(...)\n",
            " |      x.__getitem__(y) <==> x[y]\n",
            " |  \n",
            " |  __gt__(self, value, /)\n",
            " |      Return self>value.\n",
            " |  \n",
            " |  __iadd__(self, value, /)\n",
            " |      Implement self+=value.\n",
            " |  \n",
            " |  __imul__(self, value, /)\n",
            " |      Implement self*=value.\n",
            " |  \n",
            " |  __init__(self, /, *args, **kwargs)\n",
            " |      Initialize self.  See help(type(self)) for accurate signature.\n",
            " |  \n",
            " |  __iter__(self, /)\n",
            " |      Implement iter(self).\n",
            " |  \n",
            " |  __le__(self, value, /)\n",
            " |      Return self<=value.\n",
            " |  \n",
            " |  __len__(self, /)\n",
            " |      Return len(self).\n",
            " |  \n",
            " |  __lt__(self, value, /)\n",
            " |      Return self<value.\n",
            " |  \n",
            " |  __mul__(self, value, /)\n",
            " |      Return self*value.\n",
            " |  \n",
            " |  __ne__(self, value, /)\n",
            " |      Return self!=value.\n",
            " |  \n",
            " |  __repr__(self, /)\n",
            " |      Return repr(self).\n",
            " |  \n",
            " |  __reversed__(self, /)\n",
            " |      Return a reverse iterator over the list.\n",
            " |  \n",
            " |  __rmul__(self, value, /)\n",
            " |      Return value*self.\n",
            " |  \n",
            " |  __setitem__(self, key, value, /)\n",
            " |      Set self[key] to value.\n",
            " |  \n",
            " |  __sizeof__(self, /)\n",
            " |      Return the size of the list in memory, in bytes.\n",
            " |  \n",
            " |  append(self, object, /)\n",
            " |      Append object to the end of the list.\n",
            " |  \n",
            " |  clear(self, /)\n",
            " |      Remove all items from list.\n",
            " |  \n",
            " |  copy(self, /)\n",
            " |      Return a shallow copy of the list.\n",
            " |  \n",
            " |  count(self, value, /)\n",
            " |      Return number of occurrences of value.\n",
            " |  \n",
            " |  extend(self, iterable, /)\n",
            " |      Extend list by appending elements from the iterable.\n",
            " |  \n",
            " |  index(self, value, start=0, stop=9223372036854775807, /)\n",
            " |      Return first index of value.\n",
            " |      \n",
            " |      Raises ValueError if the value is not present.\n",
            " |  \n",
            " |  insert(self, index, object, /)\n",
            " |      Insert object before index.\n",
            " |  \n",
            " |  pop(self, index=-1, /)\n",
            " |      Remove and return item at index (default last).\n",
            " |      \n",
            " |      Raises IndexError if list is empty or index is out of range.\n",
            " |  \n",
            " |  remove(self, value, /)\n",
            " |      Remove first occurrence of value.\n",
            " |      \n",
            " |      Raises ValueError if the value is not present.\n",
            " |  \n",
            " |  reverse(self, /)\n",
            " |      Reverse *IN PLACE*.\n",
            " |  \n",
            " |  sort(self, /, *, key=None, reverse=False)\n",
            " |      Stable sort *IN PLACE*.\n",
            " |  \n",
            " |  ----------------------------------------------------------------------\n",
            " |  Static methods defined here:\n",
            " |  \n",
            " |  __new__(*args, **kwargs) from builtins.type\n",
            " |      Create and return a new object.  See help(type) for accurate signature.\n",
            " |  \n",
            " |  ----------------------------------------------------------------------\n",
            " |  Data and other attributes defined here:\n",
            " |  \n",
            " |  __hash__ = None\n",
            "\n"
          ]
        }
      ]
    },
    {
      "cell_type": "code",
      "source": [
        "help(list)"
      ],
      "metadata": {
        "colab": {
          "base_uri": "https://localhost:8080/"
        },
        "id": "ITOy0bczZnDy",
        "outputId": "aaefb8c7-d846-48fa-9292-771203b576ff"
      },
      "execution_count": null,
      "outputs": [
        {
          "output_type": "stream",
          "name": "stdout",
          "text": [
            "Help on class list in module builtins:\n",
            "\n",
            "class list(object)\n",
            " |  list(iterable=(), /)\n",
            " |  \n",
            " |  Built-in mutable sequence.\n",
            " |  \n",
            " |  If no argument is given, the constructor creates a new empty list.\n",
            " |  The argument must be an iterable if specified.\n",
            " |  \n",
            " |  Methods defined here:\n",
            " |  \n",
            " |  __add__(self, value, /)\n",
            " |      Return self+value.\n",
            " |  \n",
            " |  __contains__(self, key, /)\n",
            " |      Return key in self.\n",
            " |  \n",
            " |  __delitem__(self, key, /)\n",
            " |      Delete self[key].\n",
            " |  \n",
            " |  __eq__(self, value, /)\n",
            " |      Return self==value.\n",
            " |  \n",
            " |  __ge__(self, value, /)\n",
            " |      Return self>=value.\n",
            " |  \n",
            " |  __getattribute__(self, name, /)\n",
            " |      Return getattr(self, name).\n",
            " |  \n",
            " |  __getitem__(...)\n",
            " |      x.__getitem__(y) <==> x[y]\n",
            " |  \n",
            " |  __gt__(self, value, /)\n",
            " |      Return self>value.\n",
            " |  \n",
            " |  __iadd__(self, value, /)\n",
            " |      Implement self+=value.\n",
            " |  \n",
            " |  __imul__(self, value, /)\n",
            " |      Implement self*=value.\n",
            " |  \n",
            " |  __init__(self, /, *args, **kwargs)\n",
            " |      Initialize self.  See help(type(self)) for accurate signature.\n",
            " |  \n",
            " |  __iter__(self, /)\n",
            " |      Implement iter(self).\n",
            " |  \n",
            " |  __le__(self, value, /)\n",
            " |      Return self<=value.\n",
            " |  \n",
            " |  __len__(self, /)\n",
            " |      Return len(self).\n",
            " |  \n",
            " |  __lt__(self, value, /)\n",
            " |      Return self<value.\n",
            " |  \n",
            " |  __mul__(self, value, /)\n",
            " |      Return self*value.\n",
            " |  \n",
            " |  __ne__(self, value, /)\n",
            " |      Return self!=value.\n",
            " |  \n",
            " |  __repr__(self, /)\n",
            " |      Return repr(self).\n",
            " |  \n",
            " |  __reversed__(self, /)\n",
            " |      Return a reverse iterator over the list.\n",
            " |  \n",
            " |  __rmul__(self, value, /)\n",
            " |      Return value*self.\n",
            " |  \n",
            " |  __setitem__(self, key, value, /)\n",
            " |      Set self[key] to value.\n",
            " |  \n",
            " |  __sizeof__(self, /)\n",
            " |      Return the size of the list in memory, in bytes.\n",
            " |  \n",
            " |  append(self, object, /)\n",
            " |      Append object to the end of the list.\n",
            " |  \n",
            " |  clear(self, /)\n",
            " |      Remove all items from list.\n",
            " |  \n",
            " |  copy(self, /)\n",
            " |      Return a shallow copy of the list.\n",
            " |  \n",
            " |  count(self, value, /)\n",
            " |      Return number of occurrences of value.\n",
            " |  \n",
            " |  extend(self, iterable, /)\n",
            " |      Extend list by appending elements from the iterable.\n",
            " |  \n",
            " |  index(self, value, start=0, stop=9223372036854775807, /)\n",
            " |      Return first index of value.\n",
            " |      \n",
            " |      Raises ValueError if the value is not present.\n",
            " |  \n",
            " |  insert(self, index, object, /)\n",
            " |      Insert object before index.\n",
            " |  \n",
            " |  pop(self, index=-1, /)\n",
            " |      Remove and return item at index (default last).\n",
            " |      \n",
            " |      Raises IndexError if list is empty or index is out of range.\n",
            " |  \n",
            " |  remove(self, value, /)\n",
            " |      Remove first occurrence of value.\n",
            " |      \n",
            " |      Raises ValueError if the value is not present.\n",
            " |  \n",
            " |  reverse(self, /)\n",
            " |      Reverse *IN PLACE*.\n",
            " |  \n",
            " |  sort(self, /, *, key=None, reverse=False)\n",
            " |      Stable sort *IN PLACE*.\n",
            " |  \n",
            " |  ----------------------------------------------------------------------\n",
            " |  Static methods defined here:\n",
            " |  \n",
            " |  __new__(*args, **kwargs) from builtins.type\n",
            " |      Create and return a new object.  See help(type) for accurate signature.\n",
            " |  \n",
            " |  ----------------------------------------------------------------------\n",
            " |  Data and other attributes defined here:\n",
            " |  \n",
            " |  __hash__ = None\n",
            "\n"
          ]
        }
      ]
    },
    {
      "cell_type": "code",
      "source": [
        "#dir()\n",
        "#help()\n",
        "import this"
      ],
      "metadata": {
        "colab": {
          "base_uri": "https://localhost:8080/"
        },
        "id": "f7Uz_m0Jvhjo",
        "outputId": "72d6e4bb-77aa-4b6d-bae0-359d2baa1340"
      },
      "execution_count": null,
      "outputs": [
        {
          "output_type": "stream",
          "name": "stdout",
          "text": [
            "The Zen of Python, by Tim Peters\n",
            "\n",
            "Beautiful is better than ugly.\n",
            "Explicit is better than implicit.\n",
            "Simple is better than complex.\n",
            "Complex is better than complicated.\n",
            "Flat is better than nested.\n",
            "Sparse is better than dense.\n",
            "Readability counts.\n",
            "Special cases aren't special enough to break the rules.\n",
            "Although practicality beats purity.\n",
            "Errors should never pass silently.\n",
            "Unless explicitly silenced.\n",
            "In the face of ambiguity, refuse the temptation to guess.\n",
            "There should be one-- and preferably only one --obvious way to do it.\n",
            "Although that way may not be obvious at first unless you're Dutch.\n",
            "Now is better than never.\n",
            "Although never is often better than *right* now.\n",
            "If the implementation is hard to explain, it's a bad idea.\n",
            "If the implementation is easy to explain, it may be a good idea.\n",
            "Namespaces are one honking great idea -- let's do more of those!\n"
          ]
        }
      ]
    },
    {
      "cell_type": "code",
      "source": [
        "#@title 1.Creating an empty list\n",
        "x = []\n",
        "print(x)\n",
        "print(\"Length of this list: \", len(x))"
      ],
      "metadata": {
        "id": "4GnRakGpUz8V",
        "colab": {
          "base_uri": "https://localhost:8080/"
        },
        "outputId": "7dfdf637-c7b9-4748-db1e-a9e12cca46be"
      },
      "execution_count": null,
      "outputs": [
        {
          "output_type": "stream",
          "name": "stdout",
          "text": [
            "[]\n",
            "Length of this list:  0\n"
          ]
        }
      ]
    },
    {
      "cell_type": "code",
      "source": [
        "#@title 2.Creating a list with some elements\n",
        "x = [10, 40, 32]\n",
        "print(x)"
      ],
      "metadata": {
        "id": "uCm9yPLDU0O0",
        "colab": {
          "base_uri": "https://localhost:8080/"
        },
        "outputId": "efbb3ab9-88ee-4d20-f1e7-b6658c78e929"
      },
      "execution_count": null,
      "outputs": [
        {
          "output_type": "stream",
          "name": "stdout",
          "text": [
            "[10, 40, 32]\n"
          ]
        }
      ]
    },
    {
      "cell_type": "code",
      "source": [
        "#@title 3.Adding elements at the end\n",
        "x = [10, 40, 32]\n",
        "x.append(34)\n",
        "x.append(20)\n",
        "x.append(-10)\n",
        "x.append('bob')\n",
        "#x.append(3,1)\n",
        "print(x)\n"
      ],
      "metadata": {
        "id": "rEpmqm7MU0Si",
        "colab": {
          "base_uri": "https://localhost:8080/"
        },
        "outputId": "e0025fb3-92b5-45b7-d89f-c9b818b11bf3"
      },
      "execution_count": null,
      "outputs": [
        {
          "output_type": "stream",
          "name": "stdout",
          "text": [
            "[10, 40, 32, 34, 20, -10, 'bob']\n",
            "Help on method_descriptor:\n",
            "\n",
            "extend(self, iterable, /)\n",
            "    Extend list by appending elements from the iterable.\n",
            "\n"
          ]
        }
      ]
    },
    {
      "cell_type": "code",
      "source": [
        "#@title 4.Accessing an element (positive index)\n",
        "# also known as \"Reading an element\"\n",
        "# also known as \"Setting an element\"\n",
        "x = [10, 40, 32, 34, 20, -10, 'bob']\n",
        "\n",
        "# Give me 1st element\n",
        "first = x[0]\n",
        "print(\"1st element: \", first)\n",
        "\n",
        "# Give me 1st element\n",
        "fourth = x[3]\n",
        "print(\"4th element: \", fourth)\n",
        "\n"
      ],
      "metadata": {
        "id": "AMTpZsLMU0Vr",
        "colab": {
          "base_uri": "https://localhost:8080/"
        },
        "outputId": "be622559-d79d-4a3c-c694-2fa8ab38aea4"
      },
      "execution_count": null,
      "outputs": [
        {
          "output_type": "stream",
          "name": "stdout",
          "text": [
            "1st element:  10\n",
            "4th element:  34\n"
          ]
        }
      ]
    },
    {
      "cell_type": "code",
      "source": [
        "#@title 5.Accessing an element (through Negative Indexing)\n",
        "# also known as \"Reading an element\"\n",
        "# also known as \"Setting an element\"\n",
        "\n",
        "# 0, 1, 2, 3.... N\n",
        "# -N, -3, -2, -1\n",
        "x = [10, 40, 32, 34, 20, -10, 'bob', 10, 40, 32, 34, 20, -10, 'lol', 10, 40, 32, 34, 20, 'cool', 'bff' ]\n",
        "\n",
        "count = len(x)\n",
        "last_element = x[count-1]\n",
        "print('Last element: ', last_element)\n",
        "\n",
        "# Positive index starts from 0 from the front\n",
        "# Negative index starts from -1 from the end\n",
        "last_element = x[-1]\n",
        "print('Last element: ', last_element)\n",
        "\n",
        "# What is there in second position from the last\n",
        "second_from_last = x[-2]\n",
        "print('second_from_last element: ', second_from_last)"
      ],
      "metadata": {
        "id": "VWaPKymnXdtx",
        "colab": {
          "base_uri": "https://localhost:8080/"
        },
        "outputId": "9a327005-efd8-426b-e892-b582197582ff"
      },
      "execution_count": null,
      "outputs": [
        {
          "output_type": "stream",
          "name": "stdout",
          "text": [
            "Last element:  bff\n",
            "Last element:  bff\n",
            "second_from_last element:  cool\n"
          ]
        }
      ]
    },
    {
      "cell_type": "code",
      "source": [
        "#@title 6.Adding an element at the front of the list\n",
        "my_list = [4,3,2]\n",
        "print(my_list)\n",
        "\n",
        "# Add 10 at the front\n",
        "my_list.insert(0, 10)\n",
        "print(my_list)\n",
        "\n",
        "# Add 20 at the position 3 of the new list\n",
        "my_list.insert(2, 20)\n",
        "print(my_list)\n",
        "\n",
        "\n",
        "# Add 50 at the end of the list\n",
        "my_list.append(50)\n",
        "print(my_list)\n",
        "\n",
        "\n",
        "print(\"number of elements: \", len(my_list))\n",
        "\n",
        "insert_position = 7\n",
        "my_list.insert(insert_position, 99)\n",
        "print(my_list)\n",
        "\n",
        "my_list.insert(-1, 199)\n",
        "print(my_list)"
      ],
      "metadata": {
        "id": "dSKr5_20U0YS",
        "colab": {
          "base_uri": "https://localhost:8080/"
        },
        "outputId": "e2154510-757c-4aba-8bfd-eae6381186d9"
      },
      "execution_count": null,
      "outputs": [
        {
          "output_type": "stream",
          "name": "stdout",
          "text": [
            "[4, 3, 2]\n",
            "[10, 4, 3, 2]\n",
            "[10, 4, 20, 3, 2]\n",
            "[10, 4, 20, 3, 2, 50]\n",
            "number of elements:  6\n",
            "[10, 4, 20, 3, 2, 50, 99]\n",
            "[10, 4, 20, 3, 2, 50, 199, 99]\n"
          ]
        }
      ]
    },
    {
      "cell_type": "code",
      "source": [
        "#@title 7.Adding an element anywhere (at a specific index) \n",
        "my_list = [4,3,2]\n",
        "print(my_list)\n",
        " \n",
        "\n",
        "# Add 20 at the position 3 of the new list\n",
        "my_list.insert(2, 20)\n",
        "print(my_list)\n"
      ],
      "metadata": {
        "id": "jvMJf2-2U0bM",
        "colab": {
          "base_uri": "https://localhost:8080/"
        },
        "outputId": "240612cd-60c5-4b21-ce93-0ae6811d0bc7"
      },
      "execution_count": null,
      "outputs": [
        {
          "output_type": "stream",
          "name": "stdout",
          "text": [
            "[4, 3, 2]\n",
            "[4, 3, 20, 2]\n"
          ]
        }
      ]
    },
    {
      "cell_type": "code",
      "source": [
        "#@title 8.Updating (or Replacing) an element\n",
        "my_list = [4,3,2]\n",
        "print(my_list)\n",
        "\n",
        "# Replace the second element with 10\n",
        "my_list[1] = 10\n",
        "print(my_list)\n",
        "\n",
        "# Replace first element with \"python\"\n",
        "my_list[0] = 'python'\n",
        "print(my_list)\n",
        "\n"
      ],
      "metadata": {
        "id": "DUG9xlraaTlO",
        "colab": {
          "base_uri": "https://localhost:8080/"
        },
        "outputId": "19d01a58-dd3c-4ea7-bfdc-5859ff864fa7"
      },
      "execution_count": null,
      "outputs": [
        {
          "output_type": "stream",
          "name": "stdout",
          "text": [
            "[4, 3, 2]\n",
            "[4, 10, 2]\n",
            "['python', 10, 2]\n"
          ]
        }
      ]
    },
    {
      "cell_type": "code",
      "source": [
        "#@title Exploring the range function\n",
        "# range(stop)  # 0 to till stop (stop is not included)\n",
        "# range(start, stop)  \n",
        "# range(start, stop, step)\n",
        "\n",
        "print('# range(stop)  # 0 to till stop (stop is not included)')\n",
        "for x in range(10):\n",
        "    print(x, end = ' ')\n",
        "\n",
        "\n",
        "print('print from 10 20')\n",
        "for x in range(10, 21):\n",
        "    print(x, end = ' ')\n",
        "    \n",
        "\n",
        "print('all even numbers from 1 to 100')\n",
        "for x in range(2, 101, 2):\n",
        "    print(x, end = ' ')"
      ],
      "metadata": {
        "id": "EmeSorcakWSh"
      },
      "execution_count": null,
      "outputs": []
    },
    {
      "cell_type": "code",
      "source": [
        "my_list = [3, 4, 9, 23]\n",
        "\n",
        "# method 1: YOu care about only values\n",
        "print('we care about only values')\n",
        "for item in my_list:\n",
        "  print(item, end=' ')\n",
        "\n",
        "# method 2: You can about the index\n",
        "print('we care about indexes as well')\n",
        "count = len(my_list)\n",
        "for i in range(count):\n",
        "  current_value = my_list[i]\n",
        "  print(\"index: \", i, \"value: \", current_value)\n",
        "\n",
        "# method 3\n",
        "print('we care about both indexes and values at the same time')\n",
        "for index, value in enumerate(my_list):\n",
        "   print(\"index: \", index, \"value: \", value)\n",
        "\n"
      ],
      "metadata": {
        "colab": {
          "base_uri": "https://localhost:8080/"
        },
        "id": "wLbMdLKpjPW7",
        "outputId": "5173a554-e829-4dd1-b2a0-36bdc3d03abf"
      },
      "execution_count": null,
      "outputs": [
        {
          "output_type": "stream",
          "name": "stdout",
          "text": [
            "we care about only values\n",
            "3 4 9 23 we care about indexes as well\n",
            "index:  0 value:  3\n",
            "index:  1 value:  4\n",
            "index:  2 value:  9\n",
            "index:  3 value:  23\n",
            "we care about both indexes and values at the same time\n",
            "index:  0 value:  3\n",
            "index:  1 value:  4\n",
            "index:  2 value:  9\n",
            "index:  3 value:  23\n"
          ]
        }
      ]
    },
    {
      "cell_type": "code",
      "source": [
        "#@title 9.Looping through the list (just for READING)\n",
        "\n",
        "# print every element in the list on a separate line\n",
        "my_list = [3, 4, 2, 2, 4]\n",
        "\n",
        "for x in my_list:\n",
        "  print(x)\n",
        "\n",
        "# find sum using the loop\n",
        "my_list = [3, 4, 2, 2, 4]\n",
        "\n",
        "total = 0\n",
        "for x in my_list:\n",
        "  total = total + x\n",
        "print(\"total of the list: \", total)\n",
        "\n",
        "# find the sum using the built-in function\n",
        "total = sum(my_list)\n",
        "print(\"total of the list: \", total)\n"
      ],
      "metadata": {
        "id": "F6P3NNhFU0j8",
        "colab": {
          "base_uri": "https://localhost:8080/"
        },
        "outputId": "8f8e2927-093d-4ef0-ae94-e6b7a07c5d14"
      },
      "execution_count": null,
      "outputs": [
        {
          "output_type": "stream",
          "name": "stdout",
          "text": [
            "3\n",
            "4\n",
            "2\n",
            "2\n",
            "4\n",
            "total of the list:  15\n",
            "total of the list:  15\n"
          ]
        }
      ]
    },
    {
      "cell_type": "code",
      "source": [
        "#@title 10.Looping through the list (for UPDATING)\n",
        "\n",
        "# Update every element of the list by adding number 10 to it\n",
        "\n",
        "my_list = [5,6,3,4]\n",
        "print(my_list)\n",
        "\n",
        "# Select some lines and press \"Ctrl + /\" to comment out all the lines\n",
        "# Ctrl + / acts as a toggle (as light switch)\n",
        "\n",
        "\n",
        "length = len(my_list)\n",
        "\n",
        "for i in range(length):\n",
        "  current_element = my_list[i]\n",
        "  # print(current_element)\n",
        "  my_list[i] = current_element + 10\n",
        "\n",
        "print(my_list)\n"
      ],
      "metadata": {
        "id": "QFJmGzYOU0nG",
        "colab": {
          "base_uri": "https://localhost:8080/"
        },
        "outputId": "78aae421-5178-4e8e-f8f4-6b11f522f621"
      },
      "execution_count": null,
      "outputs": [
        {
          "output_type": "stream",
          "name": "stdout",
          "text": [
            "[5, 6, 3, 4]\n",
            "[15, 16, 13, 14]\n"
          ]
        }
      ]
    },
    {
      "cell_type": "code",
      "source": [
        "#@title 10.1.Looping through the list through ENUMERATION"
      ],
      "metadata": {
        "id": "YhQNv6OblhKx"
      },
      "execution_count": null,
      "outputs": []
    },
    {
      "cell_type": "code",
      "source": [
        "#@title 11.Common Operations: Find the length of the list (Brute-force approach)\n",
        "# Find the number of elements in the list\n",
        "my_list = [4,3,2, 4,3,2, 4,3,2, 4,3,2]\n",
        "my_list.append(10)\n",
        "my_list.remove(4)\n",
        "\n",
        "counter = 0\n",
        "for elem in my_list:\n",
        "  counter = counter + 1\n",
        "\n",
        "print(\"length of the list: \", counter)\n"
      ],
      "metadata": {
        "id": "_OiuJHIeU0p6",
        "colab": {
          "base_uri": "https://localhost:8080/"
        },
        "outputId": "59ab3e8b-1763-4587-a7a2-498fb1913fad"
      },
      "execution_count": null,
      "outputs": [
        {
          "output_type": "stream",
          "name": "stdout",
          "text": [
            "length of the list:  12\n"
          ]
        }
      ]
    },
    {
      "cell_type": "code",
      "source": [
        "#@title 12.Common Operations: Find the maximum in the list (Through looping)\n",
        "\n",
        "#@title 11.Common Operations: Find the length of the list (Brute-force approach)\n",
        "# Find the number of elements in the list\n",
        "my_list = [4,13,2, 4,3,2, 4,23,2, 4,3,2]\n",
        "my_list.append(10)\n",
        "my_list.remove(4)\n",
        "\n",
        "max = my_list[0]\n",
        "for elem in my_list:\n",
        "  if (elem > max):\n",
        "    max = elem\n",
        "\n",
        "print(\"max of the list: \", max)\n"
      ],
      "metadata": {
        "id": "IhGhO_XxU0tB",
        "colab": {
          "base_uri": "https://localhost:8080/"
        },
        "outputId": "49177d62-4e11-4f08-98ec-5ba82841d5a8"
      },
      "execution_count": null,
      "outputs": [
        {
          "output_type": "stream",
          "name": "stdout",
          "text": [
            "max of the list:  23\n"
          ]
        }
      ]
    },
    {
      "cell_type": "code",
      "source": [
        "#@title 13.Common Operations: Find the minimum in the list (Through looping)\n",
        "my_list = [4,13,2, -4,3,2, 4,23,2, 4,3,2]\n",
        "my_list.append(10)\n",
        "my_list.remove(4)\n",
        "\n",
        "min = my_list[0]\n",
        "for elem in my_list:\n",
        "  if (elem < min):\n",
        "    min = elem\n",
        "\n",
        "print(\"min of the list: \", min)"
      ],
      "metadata": {
        "id": "D4vmqhUHYaVC",
        "colab": {
          "base_uri": "https://localhost:8080/"
        },
        "outputId": "cd7d2d5c-c57c-4899-e9f3-65810c00ed7b"
      },
      "execution_count": null,
      "outputs": [
        {
          "output_type": "stream",
          "name": "stdout",
          "text": [
            "min of the list:  -4\n"
          ]
        }
      ]
    },
    {
      "cell_type": "code",
      "source": [
        "#@title 14.Common Operations: Find the sum of elements in the list (Through looping)\n",
        "my_list = [4, 3, 2, 4, 3, 2, 4,3,2, 4,3,2]\n",
        "my_list.append(10)\n",
        "my_list.remove(4)\n",
        "\n",
        "\n",
        "# traversal = iteration = visiting (action)\n",
        "# list = sequence = 'iterable'\n",
        "sum = 0\n",
        "for x in my_list:\n",
        "  sum = sum + x\n",
        "\n",
        "print(\"sum of the list: \", sum)\n"
      ],
      "metadata": {
        "id": "ULNy2XkGYd5g",
        "colab": {
          "base_uri": "https://localhost:8080/"
        },
        "outputId": "5b4a79e3-c6e0-4bf9-9a0c-7ee659084c48"
      },
      "execution_count": null,
      "outputs": [
        {
          "output_type": "stream",
          "name": "stdout",
          "text": [
            "sum of the list:  42\n"
          ]
        }
      ]
    },
    {
      "cell_type": "code",
      "source": [
        "#@title 14.Removing an element by value\n",
        "my_list = [6,7,3,4]\n",
        "my_list.remove(6)\n",
        "print('1--', my_list)\n",
        "\n",
        "my_list = [6,7,3,7,4]\n",
        "print('2--', my_list)\n",
        "my_list.remove(7)\n",
        "print('3--', my_list)"
      ],
      "metadata": {
        "id": "8UfCeQSpYwFB",
        "colab": {
          "base_uri": "https://localhost:8080/"
        },
        "outputId": "1a36a8a4-a9ca-4983-84bf-0b5ac1380c61"
      },
      "execution_count": null,
      "outputs": [
        {
          "output_type": "stream",
          "name": "stdout",
          "text": [
            "1-- [7, 3, 4]\n",
            "2-- [6, 7, 3, 7, 4]\n",
            "3-- [6, 3, 7, 4]\n"
          ]
        }
      ]
    },
    {
      "cell_type": "code",
      "source": [
        "#@title 15.Removing the last element in the list\n",
        "\n",
        "#help(list.pop)\n",
        "\n",
        "my_list = [6,7,3,7,4]\n",
        "my_list.pop()\n",
        "print(my_list)\n"
      ],
      "metadata": {
        "id": "8pLgwYe0YwOY",
        "colab": {
          "base_uri": "https://localhost:8080/"
        },
        "outputId": "2a7d9509-9709-4935-ee20-55c5a7757c8b"
      },
      "execution_count": null,
      "outputs": [
        {
          "output_type": "stream",
          "name": "stdout",
          "text": [
            "[6, 7, 3, 7]\n"
          ]
        }
      ]
    },
    {
      "cell_type": "code",
      "source": [
        "#@title 16.Removing an element at a given index\n",
        "my_list = [6,7,3,7,4]\n",
        "my_list.pop(3)\n",
        "print(my_list)\n",
        "\n",
        "\n",
        "# CRUD - Create, Add, Copy, Construct, Define\n",
        "        # Read, Query, Find, Search\n",
        "        # Update, Modify, Change\n",
        "        # Delete or Clear or Remove"
      ],
      "metadata": {
        "id": "2jpc-7ppYwb_",
        "colab": {
          "base_uri": "https://localhost:8080/"
        },
        "outputId": "b1e739cb-cb6c-40aa-aaef-900f94c2188a"
      },
      "execution_count": null,
      "outputs": [
        {
          "output_type": "stream",
          "name": "stdout",
          "text": [
            "[6, 7, 3, 4]\n"
          ]
        }
      ]
    },
    {
      "cell_type": "code",
      "source": [
        "#@title 17.Extending a list\n",
        "#(Adding several elements to one list)\n",
        "my_list = [1, 2, 3]\n",
        "your_list = [4,99, 23]\n",
        "print('before extending: ', my_list)\n",
        "my_list.extend(your_list)\n",
        "print('after extending: ', my_list)\n",
        "\n",
        "print('before extending: ', your_list)\n",
        "your_list.extend(my_list)\n",
        "print('after extending: ', your_list)\n",
        "\n",
        "print('before extending: ', my_list)\n",
        "my_list.extend(my_list)\n",
        "print('after extending: ', my_list)"
      ],
      "metadata": {
        "id": "f9CutvMNYwn6",
        "colab": {
          "base_uri": "https://localhost:8080/"
        },
        "outputId": "f761875d-c728-45c4-b9cb-20bb4cb4a842"
      },
      "execution_count": null,
      "outputs": [
        {
          "output_type": "stream",
          "name": "stdout",
          "text": [
            "before extending:  [4, 99, 23]\n",
            "after extending:  [4, 99, 23, 1, 2, 3]\n",
            "before extending:  [1, 2, 3]\n",
            "after extending:  [1, 2, 3, 1, 2, 3]\n"
          ]
        }
      ]
    },
    {
      "cell_type": "code",
      "source": [
        "#@title 18.Search for an element. What is the index?\n",
        "#help(list.index)\n",
        "my_list = [1, 2, 3]\n",
        "your_list = [4,99, 23]\n",
        "my_list.extend(your_list)\n",
        "print(my_list)\n",
        "\n",
        "x = my_list.index(99)\n",
        "print('index of 99', x)\n",
        "\n",
        "\n",
        "# You can not search for an element that is not there\n",
        "# x = my_list.index(100)\n",
        "# print('index of 100', x)\n",
        "\n",
        "\n"
      ],
      "metadata": {
        "id": "S7JBtxoufmw0",
        "colab": {
          "base_uri": "https://localhost:8080/",
          "height": 280
        },
        "outputId": "01bc195b-ce9d-43d4-bb1e-a8cdf2bd576d"
      },
      "execution_count": null,
      "outputs": [
        {
          "output_type": "stream",
          "name": "stdout",
          "text": [
            "[1, 2, 3, 4, 99, 23]\n",
            "index of 99 4\n"
          ]
        },
        {
          "output_type": "error",
          "ename": "ValueError",
          "evalue": "ignored",
          "traceback": [
            "\u001b[0;31m---------------------------------------------------------------------------\u001b[0m",
            "\u001b[0;31mValueError\u001b[0m                                Traceback (most recent call last)",
            "\u001b[0;32m<ipython-input-60-fd46cec7afe8>\u001b[0m in \u001b[0;36m<module>\u001b[0;34m\u001b[0m\n\u001b[1;32m     10\u001b[0m \u001b[0;34m\u001b[0m\u001b[0m\n\u001b[1;32m     11\u001b[0m \u001b[0;34m\u001b[0m\u001b[0m\n\u001b[0;32m---> 12\u001b[0;31m \u001b[0mx\u001b[0m \u001b[0;34m=\u001b[0m \u001b[0mmy_list\u001b[0m\u001b[0;34m.\u001b[0m\u001b[0mindex\u001b[0m\u001b[0;34m(\u001b[0m\u001b[0;36m100\u001b[0m\u001b[0;34m)\u001b[0m\u001b[0;34m\u001b[0m\u001b[0;34m\u001b[0m\u001b[0m\n\u001b[0m\u001b[1;32m     13\u001b[0m \u001b[0mprint\u001b[0m\u001b[0;34m(\u001b[0m\u001b[0;34m'index of 100'\u001b[0m\u001b[0;34m,\u001b[0m \u001b[0mx\u001b[0m\u001b[0;34m)\u001b[0m\u001b[0;34m\u001b[0m\u001b[0;34m\u001b[0m\u001b[0m\n\u001b[1;32m     14\u001b[0m \u001b[0;34m\u001b[0m\u001b[0m\n",
            "\u001b[0;31mValueError\u001b[0m: 100 is not in list"
          ]
        }
      ]
    },
    {
      "cell_type": "code",
      "source": [
        "#@title 19.Count the number of times an element is appearing\n",
        "\n",
        "#help(list.count)\n",
        "\n",
        "# this is using the list method (this is the winner)\n",
        "my_list = [1, 99, 2, 99, 3, 4, 99, 23]\n",
        "\n",
        "count_99 = my_list.count(99)\n",
        "print(\"count of 99 in the list: \", count_99)\n",
        "\n",
        "# this is using the loop (you use this if you forget that there is already a method called count( ) in list)\n",
        "counter = 0\n",
        "for elem in my_list:\n",
        "  if elem == 99:\n",
        "    counter = counter + 1\n",
        "\n",
        "print(\"count of 99 in the list: \", counter)\n"
      ],
      "metadata": {
        "id": "xtYWNnRUfykZ",
        "colab": {
          "base_uri": "https://localhost:8080/"
        },
        "outputId": "b2ca493e-5dad-4b50-c46b-1325c7f6319d"
      },
      "execution_count": null,
      "outputs": [
        {
          "output_type": "stream",
          "name": "stdout",
          "text": [
            "count of 99 in the list:  3\n",
            "count of 99 in the list:  3\n"
          ]
        }
      ]
    },
    {
      "cell_type": "code",
      "source": [
        "#Does this list contain any duplicate?\n",
        "\n",
        "\n",
        "'''\n",
        "THis method returns True if the input_list contains any duplicates\n",
        "Otherwise, it returns False\n",
        "'''\n",
        "\n",
        "def containsDuplicates(input_list):\n",
        "  tracker = False\n",
        "  for x in input_list:\n",
        "    if input_list.count(x) > 0:\n",
        "      tracker = True\n",
        "\n",
        "\n",
        "  return Tracker\n",
        "\n",
        "# testing\n",
        "my_list = [1,2,3]\n",
        "x = containsDuplicates(my_list)\n",
        "print(x)\n",
        "\n",
        "my_list = [1, 2, 3, 2]\n",
        "x = containsDuplicates(my_list)\n",
        "print(x)"
      ],
      "metadata": {
        "colab": {
          "base_uri": "https://localhost:8080/"
        },
        "id": "ZzbX1wtPmqdo",
        "outputId": "5fd4ef71-070a-41d6-fa43-b7a2b191fac0"
      },
      "execution_count": null,
      "outputs": [
        {
          "output_type": "stream",
          "name": "stdout",
          "text": [
            "True\n",
            "True\n"
          ]
        }
      ]
    },
    {
      "cell_type": "code",
      "execution_count": null,
      "metadata": {
        "colab": {
          "base_uri": "https://localhost:8080/"
        },
        "id": "HzdJE7DjkZ7-",
        "outputId": "7ad62f04-eecc-496d-e716-a0790433a3cb"
      },
      "outputs": [
        {
          "output_type": "stream",
          "name": "stdout",
          "text": [
            "is 99 in the list:  True\n",
            "is 100 in the list:  False\n",
            "your element is not there in the list\n"
          ]
        }
      ],
      "source": [
        "#@title 20.Checking for Membership (in)\n",
        "my_list = [1, 2, 3, 4, 99, 23]\n",
        "\n",
        "print('is 99 in the list: ', (99 in my_list) )\n",
        "print('is 100 in the list: ', (100 in my_list) )\n",
        "\n",
        "element_to_find = 123\n",
        "element_exists = element_to_find in my_list\n",
        "if (element_exists == True):\n",
        "  current_index = my_list.index(element_to_find)\n",
        "  print(\"Your element \", element_to_find, \"sits at\", current_index)\n",
        "else:\n",
        "  print(\"your element is not there in the list\")\n"
      ]
    },
    {
      "cell_type": "code",
      "source": [
        "#@title 21.Checking for Membership (not in)\n",
        "# in = positive check\n",
        "# not in = inverse check \n",
        "\n",
        "my_list = [1, 2, 3, 100, 4, 99, 23]\n",
        "\n",
        "print('is 99 not in the list: ', (99 not in my_list) )\n",
        "print('is 100 not in the list: ', (100 not in my_list) )\n",
        "\n",
        "if (99 in my_list) :\n",
        "  if (100 in my_list):\n",
        "    print('both 99 and 100 exist in the list')\n",
        "  else:\n",
        "    print('only 99 exists in the list')\n",
        "\n",
        "if (99 in my_list) and (100 in my_list):\n",
        "    print('both 99 and 100 exist in the list')\n",
        "else:\n",
        "    print('Both do not existin the list')"
      ],
      "metadata": {
        "id": "0jlu0amZfUYv",
        "colab": {
          "base_uri": "https://localhost:8080/"
        },
        "outputId": "80da27d4-6e27-42fd-a786-567e2d1714a2"
      },
      "execution_count": null,
      "outputs": [
        {
          "output_type": "stream",
          "name": "stdout",
          "text": [
            "is 99 not in the list:  False\n",
            "is 100 not in the list:  False\n",
            "both 99 and 100 exist in the list\n",
            "both 99 and 100 exist in the list\n"
          ]
        }
      ]
    },
    {
      "cell_type": "code",
      "source": [
        "#@title 22.Reverse a list\n",
        "#help(list.reverse)\n",
        "\n",
        "my_list = [1, 2, 3, 100, 4, 99, 23]\n",
        "\n",
        "print('before reversing: ', my_list)\n",
        "my_list.reverse()\n",
        "print('after reversing: ', my_list)"
      ],
      "metadata": {
        "id": "4ss-JZlugMdZ",
        "colab": {
          "base_uri": "https://localhost:8080/"
        },
        "outputId": "b01db44a-1ea1-44df-9eca-b3327e34b872"
      },
      "execution_count": null,
      "outputs": [
        {
          "output_type": "stream",
          "name": "stdout",
          "text": [
            "Help on method_descriptor:\n",
            "\n",
            "reverse(self, /)\n",
            "    Reverse *IN PLACE*.\n",
            "\n",
            "before reversing:  [1, 2, 3, 100, 4, 99, 23]\n",
            "after reversing:  [23, 99, 4, 100, 3, 2, 1]\n"
          ]
        }
      ]
    },
    {
      "cell_type": "code",
      "source": [
        "#@title 23.Sort a list\n",
        "my_list = [1, 2, 3, 100, 4, 99, 23]\n",
        "\n",
        "print('before sorting: ', my_list)\n",
        "my_list.sort()\n",
        "print('after sorting: ', my_list)"
      ],
      "metadata": {
        "id": "XNEHDoaFgop0",
        "colab": {
          "base_uri": "https://localhost:8080/"
        },
        "outputId": "df045630-8552-4c01-dec3-98f8115f1930"
      },
      "execution_count": null,
      "outputs": [
        {
          "output_type": "stream",
          "name": "stdout",
          "text": [
            "before sorting:  [1, 2, 3, 100, 4, 99, 23]\n",
            "after sorting:  [1, 2, 3, 4, 23, 99, 100]\n"
          ]
        }
      ]
    },
    {
      "cell_type": "code",
      "source": [
        "#@title 24.Copy a list (Caution: Don't reassign)\n",
        "# Option 1: Two explicit lists\n",
        "# list_A = [1,2,3]\n",
        "# list_B = [1,2,3]\n",
        "# list_B.append(4)\n",
        "\n",
        "# Option 2: Copy the list_A to create list_B\n",
        "# list_A = [1,2,3]\n",
        "# list_B = list_A.copy()\n",
        "# list_B.append(5)\n",
        "\n",
        "# Option 3: Let us do reassignment as we did for the integers\n",
        "list_A = [1, 2, 3]\n",
        "list_B = list_A.copy()\n",
        "\n",
        "list_A1 = [1, 2, 3]\n",
        "list_B1 = list_A1\n",
        "\n",
        "print('list A1 before appending: ', list_A1)\n",
        "print('list B1 before appending: ', list_B1)\n",
        "list_B1.append(5)\n",
        "print('list A1 after appending through B1: ', list_A1)\n",
        "print('list B1 after appending: ', list_B1)\n",
        "\n",
        "# Some background: analogy with simple integers\n",
        "#Option 1: for integers\n",
        "# x = 10\n",
        "# y = 10\n",
        "# y = 25\n",
        "\n",
        "#Option 2: for integers\n",
        "# x = 13\n",
        "# y = x\n",
        "# y = 25"
      ],
      "metadata": {
        "id": "OKubdzAkhAzu"
      },
      "execution_count": null,
      "outputs": []
    },
    {
      "cell_type": "code",
      "source": [
        "#@title 25.Clear (Empty) a list\n",
        "#Delete all the elements in the list\n",
        "my_list = [1, 2, 3, 100, 4, 99, 23]\n",
        "\n",
        "print('before clearing: ', my_list)\n",
        "print('length of my_list: ', len(my_list))\n",
        "my_list.clear()\n",
        "print('after clearing: ', my_list)\n",
        "print('length of my_list: ', len(my_list))"
      ],
      "metadata": {
        "id": "EtzP3vuKgt8T",
        "colab": {
          "base_uri": "https://localhost:8080/"
        },
        "outputId": "9b4242c4-c910-4ac0-96c4-5b3605a97ffc"
      },
      "execution_count": null,
      "outputs": [
        {
          "output_type": "stream",
          "name": "stdout",
          "text": [
            "before clearing:  [1, 2, 3, 100, 4, 99, 23]\n",
            "length of my_list:  7\n",
            "after clearing:  []\n",
            "length of my_list:  0\n"
          ]
        }
      ]
    },
    {
      "cell_type": "code",
      "source": [
        "#@title 26.Delete the entire list\n",
        "my_list = [1, 2, 3, 100, 4, 99, 23]\n",
        "print('before deleting: ', my_list)\n",
        "del my_list\n",
        "#print('after deleting: ', my_list)"
      ],
      "metadata": {
        "id": "Kio7904Bh1uk",
        "colab": {
          "base_uri": "https://localhost:8080/",
          "height": 217
        },
        "outputId": "752fb955-a6a7-41bd-d99b-175ad43027b5"
      },
      "execution_count": null,
      "outputs": [
        {
          "output_type": "stream",
          "name": "stdout",
          "text": [
            "before deleting:  [1, 2, 3, 100, 4, 99, 23]\n"
          ]
        },
        {
          "output_type": "error",
          "ename": "NameError",
          "evalue": "ignored",
          "traceback": [
            "\u001b[0;31m---------------------------------------------------------------------------\u001b[0m",
            "\u001b[0;31mNameError\u001b[0m                                 Traceback (most recent call last)",
            "\u001b[0;32m<ipython-input-43-de224ad537aa>\u001b[0m in \u001b[0;36m<module>\u001b[0;34m\u001b[0m\n\u001b[1;32m      3\u001b[0m \u001b[0mprint\u001b[0m\u001b[0;34m(\u001b[0m\u001b[0;34m'before deleting: '\u001b[0m\u001b[0;34m,\u001b[0m \u001b[0mmy_list\u001b[0m\u001b[0;34m)\u001b[0m\u001b[0;34m\u001b[0m\u001b[0;34m\u001b[0m\u001b[0m\n\u001b[1;32m      4\u001b[0m \u001b[0;32mdel\u001b[0m \u001b[0mmy_list\u001b[0m\u001b[0;34m\u001b[0m\u001b[0;34m\u001b[0m\u001b[0m\n\u001b[0;32m----> 5\u001b[0;31m \u001b[0mprint\u001b[0m\u001b[0;34m(\u001b[0m\u001b[0;34m'after deleting: '\u001b[0m\u001b[0;34m,\u001b[0m \u001b[0mmy_list\u001b[0m\u001b[0;34m)\u001b[0m\u001b[0;34m\u001b[0m\u001b[0;34m\u001b[0m\u001b[0m\n\u001b[0m",
            "\u001b[0;31mNameError\u001b[0m: name 'my_list' is not defined"
          ]
        }
      ]
    },
    {
      "cell_type": "code",
      "source": [
        "#@title 27.Cool Operation: You can add lists\n",
        "my_list = [1, 2, 3]\n",
        "your_list = [4,99, 23]\n",
        "\n",
        "our_list = my_list + your_list\n",
        "print('my_list: ', my_list)\n",
        "print('your_list: ', my_list)\n",
        "print('our_list: ', our_list)\n"
      ],
      "metadata": {
        "id": "xrsUOIOmiGT7",
        "colab": {
          "base_uri": "https://localhost:8080/"
        },
        "outputId": "9b894550-43b2-4eef-f700-cfe9942b302c"
      },
      "execution_count": null,
      "outputs": [
        {
          "output_type": "stream",
          "name": "stdout",
          "text": [
            "my_list:  [1, 2, 3]\n",
            "your_list:  [1, 2, 3]\n",
            "our_list:  [1, 2, 3, 4, 99, 23]\n"
          ]
        }
      ]
    },
    {
      "cell_type": "code",
      "source": [
        "#@title 28.Cool Operation: You can multiply/repeat a list\n",
        "my_list = [1, 2, 3]\n",
        "new_list = my_list * 5\n",
        "\n",
        "print(\"my_list \" , my_list)\n",
        "print(\"my_list * 5\" , new_list)\n",
        "\n",
        "print([False] * 100)"
      ],
      "metadata": {
        "id": "daHyLToliKFa",
        "colab": {
          "base_uri": "https://localhost:8080/"
        },
        "outputId": "17f6a275-df89-4450-fbf9-c52ad4a3f357"
      },
      "execution_count": null,
      "outputs": [
        {
          "output_type": "stream",
          "name": "stdout",
          "text": [
            "my_list  [1, 2, 3]\n",
            "my_list * 5 [1, 2, 3, 1, 2, 3, 1, 2, 3, 1, 2, 3, 1, 2, 3]\n",
            "[False, False, False, False, False, False, False, False, False, False, False, False, False, False, False, False, False, False, False, False, False, False, False, False, False, False, False, False, False, False, False, False, False, False, False, False, False, False, False, False, False, False, False, False, False, False, False, False, False, False, False, False, False, False, False, False, False, False, False, False, False, False, False, False, False, False, False, False, False, False, False, False, False, False, False, False, False, False, False, False, False, False, False, False, False, False, False, False, False, False, False, False, False, False, False, False, False, False, False, False]\n"
          ]
        }
      ]
    },
    {
      "cell_type": "code",
      "source": [
        "#@title 29.Cool Operation: You can convert a range to a list\n",
        "x = range(25, 1001, 25)\n",
        "print(type(x), '-->', x)\n",
        "\n",
        "for i in x:\n",
        "  print(i)\n",
        "\n",
        "# list_x = list(x)\n",
        "# print(type(list_x), '-->', list_x)\n",
        " "
      ],
      "metadata": {
        "id": "72Cxp55ziPoa",
        "colab": {
          "base_uri": "https://localhost:8080/"
        },
        "outputId": "fc628f63-6c49-4a3d-8fbc-25727c292c63"
      },
      "execution_count": null,
      "outputs": [
        {
          "output_type": "stream",
          "name": "stdout",
          "text": [
            "<class 'range'> --> range(25, 1001, 25)\n",
            "<class 'list'> --> [25, 50, 75, 100, 125, 150, 175, 200, 225, 250, 275, 300, 325, 350, 375, 400, 425, 450, 475, 500, 525, 550, 575, 600, 625, 650, 675, 700, 725, 750, 775, 800, 825, 850, 875, 900, 925, 950, 975, 1000]\n"
          ]
        }
      ]
    },
    {
      "cell_type": "code",
      "source": [
        "#@title 30.Common Operations: Find the length (Using Built-in Function)\n",
        "my_list = [4,3,2, 4,3,2, 4,3,2, 4,3,2]\n",
        "my_list.append(10)\n",
        "my_list.remove(4)\n",
        "\n",
        "print(\"length of the list: \", len(my_list))"
      ],
      "metadata": {
        "id": "ubwosLZvYiPv",
        "colab": {
          "base_uri": "https://localhost:8080/"
        },
        "outputId": "c631a4ea-aca2-4187-928e-69e05f8caa7c"
      },
      "execution_count": null,
      "outputs": [
        {
          "output_type": "stream",
          "name": "stdout",
          "text": [
            "length of the list:  12\n"
          ]
        }
      ]
    },
    {
      "cell_type": "code",
      "source": [
        "#@title 31.Common Operations: Find the maximum in the list (Using Built-in Function)\n",
        "my_list = [4,3,2, 4,13,2, 4,3,2, 4,3,2]\n",
        "my_list.append(10)\n",
        "my_list.remove(4)\n",
        "\n",
        "print(\"length of the list: \", max(my_list))"
      ],
      "metadata": {
        "id": "bsYWoh8viya7",
        "colab": {
          "base_uri": "https://localhost:8080/"
        },
        "outputId": "8fafc9a6-93b0-45a5-8307-5761332fb07b"
      },
      "execution_count": null,
      "outputs": [
        {
          "output_type": "stream",
          "name": "stdout",
          "text": [
            "length of the list:  13\n"
          ]
        }
      ]
    },
    {
      "cell_type": "code",
      "source": [
        "#@title 32.Common Operations: Find the minimum in the list (Using Built-in Function)\n",
        "my_list = [4,-3,2, 4,13,2, 4,3,2, 0,3,2]\n",
        "my_list.append(10)\n",
        "my_list.remove(4)\n",
        "\n",
        "print(\"length of the list: \", min(my_list))"
      ],
      "metadata": {
        "id": "_dXOQIhsi88b",
        "colab": {
          "base_uri": "https://localhost:8080/"
        },
        "outputId": "0469c2d1-cf15-4a8f-8a48-db7a1374856f"
      },
      "execution_count": null,
      "outputs": [
        {
          "output_type": "stream",
          "name": "stdout",
          "text": [
            "length of the list:  -3\n"
          ]
        }
      ]
    },
    {
      "cell_type": "code",
      "source": [
        "#@title 33.Common Operations: Find the sum of elements in the list (Using Built-in Function)\n",
        "my_list = [4,3,2, 4,13,2, 4,3,2, 0,3,2]\n",
        "my_list.append(10)\n",
        "my_list.remove(4)\n",
        "\n",
        "print(\"length of the list: \", sum(my_list))"
      ],
      "metadata": {
        "id": "EDcj1HkdjIXD",
        "colab": {
          "base_uri": "https://localhost:8080/"
        },
        "outputId": "0a4f9154-5de6-4704-8b2e-770ea3cec6c7"
      },
      "execution_count": null,
      "outputs": [
        {
          "output_type": "stream",
          "name": "stdout",
          "text": [
            "length of the list:  48\n"
          ]
        }
      ]
    },
    {
      "cell_type": "code",
      "source": [
        "#@title 34.Common Operations: Find the average of elements in the list (Using Built-in Function)\n",
        "my_list = [4,3,2, 4,13,2, 4,3,2, 0,3,2]\n",
        "my_list.append(10)\n",
        "my_list.remove(4)\n",
        "\n",
        "average = sum(my_list) / len(my_list)\n",
        "print(\"length of the list: \", average)"
      ],
      "metadata": {
        "id": "rQwWmGsnjMG0",
        "colab": {
          "base_uri": "https://localhost:8080/"
        },
        "outputId": "ae7538b9-b35c-4755-e70d-c23f34f10c4e"
      },
      "execution_count": null,
      "outputs": [
        {
          "output_type": "stream",
          "name": "stdout",
          "text": [
            "length of the list:  4.0\n"
          ]
        }
      ]
    },
    {
      "cell_type": "code",
      "source": [
        "#@title 35.Common Operations: Find whether the list has any duplicate elements\n",
        "# Traverse the list. Find the count of each element. The moment count is > 1, we know that the list has duplicates\n",
        "my_list = [1,2,3,6,7,8, 1, 77,88, 3, 99]\n",
        "\n",
        "duplicate_list = False\n",
        "for elem in my_list:\n",
        "  elem_count = my_list.count(elem)\n",
        "  if elem_count > 1:\n",
        "    duplicate_list = True\n",
        "    break\n",
        "\n",
        "\n",
        "print('Does the list contain duplicates?: ', duplicate_list)\n"
      ],
      "metadata": {
        "id": "YuaeC0FVjU81",
        "colab": {
          "base_uri": "https://localhost:8080/"
        },
        "outputId": "c955ecf6-3853-4945-d466-b1d5a0d9d47f"
      },
      "execution_count": null,
      "outputs": [
        {
          "output_type": "stream",
          "name": "stdout",
          "text": [
            "Does the list contain duplicates?:  True\n"
          ]
        }
      ]
    },
    {
      "cell_type": "code",
      "source": [
        "#@title 36.Common Operations: Multiply / Divide / Do something to every element in the list\n",
        "# List Comprehension\n",
        "# map\n",
        "# Parking Lot"
      ],
      "metadata": {
        "id": "6ENoMN_Pjr1t"
      },
      "execution_count": null,
      "outputs": []
    },
    {
      "cell_type": "code",
      "source": [
        "#@title 37.List Unpacking (N to N mapping)\n",
        "\n",
        "my_list = [5, 6, 3, 9]\n",
        "a, b, c, d = my_list\n",
        "print(a, b, c, d)\n",
        "\n",
        "p, *q = my_list\n",
        "print(p,q)\n",
        "\n",
        "my_list = [5, 6, 3, 9, 87, 56, 45, 34, 23]\n",
        "x, *y, z = my_list\n",
        "print(x, y, z)\n",
        "print(x, *y, z)\n",
        "\n",
        "\n",
        "\n"
      ],
      "metadata": {
        "id": "4UgT1N2MkFY6",
        "colab": {
          "base_uri": "https://localhost:8080/",
          "height": 235
        },
        "outputId": "66552b5b-59e9-477c-dbfa-241e30070ba6"
      },
      "execution_count": null,
      "outputs": [
        {
          "output_type": "error",
          "ename": "ValueError",
          "evalue": "ignored",
          "traceback": [
            "\u001b[0;31m---------------------------------------------------------------------------\u001b[0m",
            "\u001b[0;31mValueError\u001b[0m                                Traceback (most recent call last)",
            "\u001b[0;32m<ipython-input-51-fcaff0db012c>\u001b[0m in \u001b[0;36m<module>\u001b[0;34m\u001b[0m\n\u001b[1;32m      2\u001b[0m \u001b[0;34m\u001b[0m\u001b[0m\n\u001b[1;32m      3\u001b[0m \u001b[0mmy_list\u001b[0m \u001b[0;34m=\u001b[0m \u001b[0;34m[\u001b[0m\u001b[0;36m5\u001b[0m\u001b[0;34m,\u001b[0m \u001b[0;36m6\u001b[0m\u001b[0;34m,\u001b[0m \u001b[0;36m3\u001b[0m\u001b[0;34m,\u001b[0m \u001b[0;36m9\u001b[0m\u001b[0;34m]\u001b[0m\u001b[0;34m\u001b[0m\u001b[0;34m\u001b[0m\u001b[0m\n\u001b[0;32m----> 4\u001b[0;31m \u001b[0ma\u001b[0m\u001b[0;34m,\u001b[0m\u001b[0mb\u001b[0m\u001b[0;34m,\u001b[0m\u001b[0mc\u001b[0m \u001b[0;34m=\u001b[0m \u001b[0mmy_list\u001b[0m\u001b[0;34m\u001b[0m\u001b[0;34m\u001b[0m\u001b[0m\n\u001b[0m\u001b[1;32m      5\u001b[0m \u001b[0ma\u001b[0m\u001b[0;34m,\u001b[0m \u001b[0mb\u001b[0m\u001b[0;34m,\u001b[0m \u001b[0mc\u001b[0m\u001b[0;34m,\u001b[0m \u001b[0md\u001b[0m \u001b[0;34m=\u001b[0m \u001b[0mmy_list\u001b[0m\u001b[0;34m\u001b[0m\u001b[0;34m\u001b[0m\u001b[0m\n\u001b[1;32m      6\u001b[0m \u001b[0mprint\u001b[0m\u001b[0;34m(\u001b[0m\u001b[0ma\u001b[0m\u001b[0;34m,\u001b[0m \u001b[0mb\u001b[0m\u001b[0;34m,\u001b[0m \u001b[0mc\u001b[0m\u001b[0;34m,\u001b[0m \u001b[0md\u001b[0m\u001b[0;34m)\u001b[0m\u001b[0;34m\u001b[0m\u001b[0;34m\u001b[0m\u001b[0m\n",
            "\u001b[0;31mValueError\u001b[0m: too many values to unpack (expected 3)"
          ]
        }
      ]
    },
    {
      "cell_type": "code",
      "source": [
        "#@title 38.List Unpacking (N to <N mapping)\n",
        "my_list = [5, 3, 9, 89, 7, 5, 9, 34, 25, 10]\n",
        "x, y, *z = my_list\n",
        "print(x, y, z)\n",
        "\n",
        "\n",
        "my_list = [5, 3, 9, 89, 7, 5, 9, 34, 25, 10]\n",
        "x, *y, z = my_list\n",
        "print(x, y, z)\n",
        "print(x, *y, z)\n",
        "\n",
        "# print(y[0])\n",
        "# x,y,*z = my_list\n",
        "# print(y)\n",
        "# print(my_list[1])\n",
        "# print(my_list[-9])\n",
        "\n"
      ],
      "metadata": {
        "id": "oHnK7xtkkKoM",
        "colab": {
          "base_uri": "https://localhost:8080/"
        },
        "outputId": "c4fdb3b9-a502-4e53-d8cb-4d5243e565f7"
      },
      "execution_count": null,
      "outputs": [
        {
          "output_type": "stream",
          "name": "stdout",
          "text": [
            "5 3 [9, 89, 7, 5, 9, 34, 25, 10]\n",
            "5 [3, 9, 89, 7, 5, 9, 34, 25] 10\n",
            "5 3 9 89 7 5 9 34 25 10\n"
          ]
        }
      ]
    },
    {
      "cell_type": "code",
      "source": [
        "#@title 39.Printing a List (*)\n",
        "print(my_list)\n",
        "print(*my_list)"
      ],
      "metadata": {
        "id": "5MXjd3xIkieL",
        "colab": {
          "base_uri": "https://localhost:8080/"
        },
        "outputId": "cee30ac5-daa9-41ff-9369-4b4fddb5d540"
      },
      "execution_count": null,
      "outputs": [
        {
          "output_type": "stream",
          "name": "stdout",
          "text": [
            "[5, 3, 9, 89, 7, 5, 9, 34, 25, 10]\n",
            "5 3 9 89 7 5 9 34 25 10\n"
          ]
        }
      ]
    },
    {
      "cell_type": "code",
      "source": [
        "#@title 40.List Slicing\n",
        "my_list = [5, 3, 9, 89, 7, 5, 9, 34, 25, 10]\n",
        "\n",
        "a1 = my_list[0:3]\n",
        "\n",
        "\n",
        "# # syntax: (start, stop)\n",
        "# list_1 = my_list[0:3]\n",
        "# list_2 = my_list[0: 5]\n",
        "# list_3 = my_list[2: 5]\n",
        "\n",
        "# list_4 = my_list[0:]\n",
        "# list_5 = my_list[0:]\n",
        "# list_6 = my_list[2:]\n",
        "\n",
        "# list_7 = my_list[:4]\n",
        "# list_8 = my_list[:3]\n",
        "# list_9 = my_list[:-1]"
      ],
      "metadata": {
        "id": "05fSVpKRkoc8",
        "colab": {
          "base_uri": "https://localhost:8080/"
        },
        "outputId": "22b27b25-bd0b-4a4c-ef3c-5deb2d0fe686"
      },
      "execution_count": null,
      "outputs": [
        {
          "output_type": "execute_result",
          "data": {
            "text/plain": [
              "[34, 25, 10]"
            ]
          },
          "metadata": {},
          "execution_count": 15
        }
      ]
    },
    {
      "cell_type": "code",
      "source": [
        "#@title Lists with items of different data types.\n",
        "person = ['bob', 30, 'bob@yahoo.com', 100.50, 'USA', True]\n",
        "print(person)\n",
        "\n",
        "person = ['bob', 30, 'bob@yahoo.com', 100.50, 'USA', True, ['reading', 'trekking', 'ethnic foods'], ('pluto', 'nova')]\n",
        "print(person)\n",
        "\n",
        "#what is the first hobby of bob?\n",
        "print('First hobby of bob: ', person[6][0])\n",
        "print('Second pet of bob: ', person[7][1])\n",
        "print('Second pet of bob: ', person[-1][1])\n"
      ],
      "metadata": {
        "id": "JoTP8rGWoEvG",
        "colab": {
          "base_uri": "https://localhost:8080/"
        },
        "outputId": "75c61b6c-45ad-403f-e295-d4643ef2e81c"
      },
      "execution_count": null,
      "outputs": [
        {
          "output_type": "stream",
          "name": "stdout",
          "text": [
            "['bob', 30, 'bob@yahoo.com', 100.5, 'USA', True]\n",
            "['bob', 30, 'bob@yahoo.com', 100.5, 'USA', True, ['reading', 'trekking', 'ethnic foods'], ('pluto', 'nova')]\n",
            "First hobby of bob:  reading\n",
            "Second pet of bob:  nova\n",
            "Second pet of bob:  nova\n"
          ]
        }
      ]
    },
    {
      "cell_type": "code",
      "source": [
        "person = ['bob', 30, 'bob@yahoo.com', 100.50, 'USA', True, ['reading', 'trekking', 'ethnic foods'], ('pluto', 'nova')]\n",
        "print(person)\n",
        "\n",
        "x = person[7]\n",
        "print(x)\n",
        "print(x[1])\n",
        "\n",
        "print(person[7][1])"
      ],
      "metadata": {
        "colab": {
          "base_uri": "https://localhost:8080/"
        },
        "id": "UzFQj8bOvWK8",
        "outputId": "8b462527-ac03-481e-8c7f-ddcfd11d6375"
      },
      "execution_count": null,
      "outputs": [
        {
          "output_type": "stream",
          "name": "stdout",
          "text": [
            "['bob', 30, 'bob@yahoo.com', 100.5, 'USA', True, ['reading', 'trekking', 'ethnic foods'], ('pluto', 'nova')]\n",
            "('pluto', 'nova')\n",
            "nova\n",
            "nova\n"
          ]
        }
      ]
    },
    {
      "cell_type": "code",
      "source": [
        "#@title 41.List Comprehension\n",
        "#Create a new list of only EVEN numbers\n",
        "%%timeit\n",
        "my_list = [5, 6, 7, 3, 5, 2, 8]\n",
        "new_list3 = []\n",
        "for item in my_list:\n",
        "    if (item % 2 == 0):\n",
        "        new_list3.append(item)\n",
        "\n",
        "#print(new_list3)\n",
        "\n",
        "\n"
      ],
      "metadata": {
        "id": "C9igc0NqkuTz",
        "colab": {
          "base_uri": "https://localhost:8080/"
        },
        "outputId": "5f5e187e-b231-4f9c-af7e-e031a711437e"
      },
      "execution_count": null,
      "outputs": [
        {
          "output_type": "stream",
          "name": "stdout",
          "text": [
            "830 ns ± 11 ns per loop (mean ± std. dev. of 7 runs, 1000000 loops each)\n"
          ]
        }
      ]
    },
    {
      "cell_type": "code",
      "source": [
        "%%timeit\n",
        "# Use the list comprehension\n",
        "\n",
        "my_list = [5, 6, 7, 3, 5, 2, 8]\n",
        "new_list4 = [x for x in my_list if (x%2 == 0) ]\n",
        "#print(new_list4)"
      ],
      "metadata": {
        "colab": {
          "base_uri": "https://localhost:8080/"
        },
        "id": "2atTkhwHzzzn",
        "outputId": "a91a44e7-a12f-47cc-b723-426c283b3649"
      },
      "execution_count": null,
      "outputs": [
        {
          "output_type": "stream",
          "name": "stdout",
          "text": [
            "821 ns ± 13.2 ns per loop (mean ± std. dev. of 7 runs, 1000000 loops each)\n"
          ]
        }
      ]
    },
    {
      "cell_type": "code",
      "source": [
        "#@title Splling a string into chars using LIST Comprehension\n",
        "str = 'programming'\n",
        "y = [x for x in str]\n",
        "print(str)\n",
        "print(y)"
      ],
      "metadata": {
        "colab": {
          "base_uri": "https://localhost:8080/"
        },
        "id": "leK_Zkue1E7M",
        "outputId": "658870ef-66d7-42e0-d01d-6506139216c0"
      },
      "execution_count": null,
      "outputs": [
        {
          "output_type": "stream",
          "name": "stdout",
          "text": [
            "programming\n",
            "['p', 'r', 'o', 'g', 'r', 'a', 'm', 'm', 'i', 'n', 'g']\n"
          ]
        }
      ]
    },
    {
      "cell_type": "code",
      "source": [
        "#@title What is tuple?\n",
        "# tuples are immutable (Once created, you can not change the values)\n",
        "my_list = ['sun', 'moon']\n",
        "my_list.append('pluto')\n",
        "\n",
        "print(my_list)\n",
        "\n",
        "my_tuple = ('sun', 'moon')\n",
        "#my_tuple.append('pluto')\n",
        "print(my_tuple)\n",
        "\n",
        "print('tuple methods are: ')\n",
        "#print(dir(tuple))\n",
        "for command in dir(tuple):\n",
        "  if '_' not in command:\n",
        "    print(command)\n",
        "\n",
        "print('list methods are: ')\n",
        "for command in dir(list):\n",
        "  if '_' not in command:\n",
        "    print(command)"
      ],
      "metadata": {
        "colab": {
          "base_uri": "https://localhost:8080/"
        },
        "id": "A3umiAqs1fyk",
        "outputId": "9a1ab317-bb18-4bcc-aede-2c854943dc38"
      },
      "execution_count": null,
      "outputs": [
        {
          "output_type": "stream",
          "name": "stdout",
          "text": [
            "['sun', 'moon', 'pluto']\n",
            "('sun', 'moon')\n",
            "tuple methods are: \n",
            "count\n",
            "index\n",
            "list methods are: \n",
            "append\n",
            "clear\n",
            "copy\n",
            "count\n",
            "extend\n",
            "index\n",
            "insert\n",
            "pop\n",
            "remove\n",
            "reverse\n",
            "sort\n"
          ]
        }
      ]
    },
    {
      "cell_type": "code",
      "source": [
        "#@title 42.Two Dimenstional Lists  (List of Lists)"
      ],
      "metadata": {
        "id": "Z4lXBQV0knD_"
      },
      "execution_count": null,
      "outputs": []
    },
    {
      "cell_type": "code",
      "source": [
        "#@title 43.2-D Lists (Row-wise Traversal) "
      ],
      "metadata": {
        "id": "Fc4PI9L_id-x"
      },
      "execution_count": null,
      "outputs": []
    },
    {
      "cell_type": "code",
      "source": [
        "#@title 44.2-D Lists (Colmn-wise Traversal) "
      ],
      "metadata": {
        "id": "hfyRSkimitnc"
      },
      "execution_count": null,
      "outputs": []
    },
    {
      "cell_type": "code",
      "source": [
        "#@title 45.Zipping two or three lists"
      ],
      "metadata": {
        "id": "OtnBbCUasGXV"
      },
      "execution_count": null,
      "outputs": []
    },
    {
      "cell_type": "code",
      "source": [
        "#@title 46.Applying a map function on the lists"
      ],
      "metadata": {
        "id": "dPqwLI6RsLxM"
      },
      "execution_count": null,
      "outputs": []
    },
    {
      "cell_type": "code",
      "source": [
        "#@title List Comprehension vs Loops\n",
        "import time\n",
        "iterations = 100000000\n",
        "\n",
        "start = time.time()\n",
        "mylist = []\n",
        "for i in range(iterations):\n",
        "    mylist.append(i+1)\n",
        "end = time.time()\n",
        "print(end - start)\n",
        "\n",
        "\n",
        "\n",
        "start = time.time()\n",
        "mylist = []\n",
        "operation = mylist.append\n",
        "for i in range(iterations):\n",
        "    operation(i+1)\n",
        "end = time.time()\n",
        "print(end - start)\n",
        "\n",
        "\n",
        "\n",
        "start = time.time()\n",
        "mylist = [i+1 for i in range(iterations)]\n",
        "end = time.time()\n",
        "print(end - start)\n",
        "\n"
      ],
      "metadata": {
        "colab": {
          "base_uri": "https://localhost:8080/"
        },
        "id": "p1ja5gDYvYVK",
        "outputId": "d467445e-e043-456b-9715-02b6910bc321"
      },
      "execution_count": null,
      "outputs": [
        {
          "output_type": "stream",
          "name": "stdout",
          "text": [
            "17.33218550682068\n",
            "19.417616367340088\n",
            "10.23478627204895\n"
          ]
        }
      ]
    }
  ]
}